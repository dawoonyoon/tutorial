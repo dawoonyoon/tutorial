{
  "nbformat": 4,
  "nbformat_minor": 0,
  "metadata": {
    "colab": {
      "name": "NLP_day3.ipynb",
      "provenance": [],
      "collapsed_sections": []
    },
    "kernelspec": {
      "name": "python3",
      "display_name": "Python 3"
    },
    "language_info": {
      "name": "python"
    }
  },
  "cells": [
    {
      "cell_type": "code",
      "metadata": {
        "id": "gFB_IbsBdhdB"
      },
      "source": [
        "# word ->   레이블 ->  one-hot 인코딩      ->   VxV  ->  sparse matrix \n",
        "# 문장 ->   수치화 ->  count \n",
        "    - tf :  단어의 발생 빈도수 \n",
        "    - tf-idf  : 단어의 발생 빈도수(NxV),    df 단어가 문서에서 얼마나 발생했는지(V)\n",
        "# word2vec  -> 신경망을 사용해 저차원의 벡터를 학습\n",
        "    - window,    중심단어, 주변단어"
      ],
      "execution_count": null,
      "outputs": []
    },
    {
      "cell_type": "markdown",
      "metadata": {
        "id": "ajTPY3OOiN4-"
      },
      "source": [
        "# word2vec 시각화"
      ]
    },
    {
      "cell_type": "code",
      "metadata": {
        "id": "IlEgWwVRioA4"
      },
      "source": [
        "!pip install konlpy"
      ],
      "execution_count": null,
      "outputs": []
    },
    {
      "cell_type": "code",
      "metadata": {
        "id": "5WWU16l8iunk"
      },
      "source": [
        "import numpy as np\n",
        "import pickle\n",
        "import matplotlib.pyplot as plt\n",
        "from gensim.models import Word2Vec"
      ],
      "execution_count": null,
      "outputs": []
    },
    {
      "cell_type": "markdown",
      "metadata": {
        "id": "KIGT88XcmBF-"
      },
      "source": [
        "### 1) word2vec "
      ]
    },
    {
      "cell_type": "code",
      "metadata": {
        "id": "LGqOYua4i49h"
      },
      "source": [
        "sentences = [\n",
        "                ['this', 'is', 'a',   'good',      'product'],\n",
        "                ['it',   'is', 'a',   'excellent', 'product'],\n",
        "                ['it',   'is', 'a',   'bad',       'product'],\n",
        "                ['that', 'is', 'the', 'worst',     'product']\n",
        "            ]\n"
      ],
      "execution_count": null,
      "outputs": []
    },
    {
      "cell_type": "code",
      "metadata": {
        "id": "_Lu8gln4i_O4"
      },
      "source": [
        "model = Word2Vec(sentences, size=2, window=3, min_count=1)            "
      ],
      "execution_count": null,
      "outputs": []
    },
    {
      "cell_type": "code",
      "metadata": {
        "colab": {
          "base_uri": "https://localhost:8080/"
        },
        "id": "N7Mv2xUKjWac",
        "outputId": "4558290b-211d-45bf-99f6-166494029e95"
      },
      "source": [
        "# 어휘집\n",
        "print(model.wv.vocab.keys())\n",
        "# 단어 벡터\n",
        "print(model.wv['this'])"
      ],
      "execution_count": null,
      "outputs": [
        {
          "output_type": "stream",
          "text": [
            "dict_keys(['this', 'is', 'a', 'good', 'product', 'it', 'excellent', 'bad', 'that', 'the', 'worst'])\n",
            "[ 0.22147816 -0.03662437]\n"
          ],
          "name": "stdout"
        }
      ]
    },
    {
      "cell_type": "code",
      "metadata": {
        "colab": {
          "base_uri": "https://localhost:8080/"
        },
        "id": "vb5RIs57j6Pb",
        "outputId": "4cd2da60-dff8-4bdd-974d-cdaa517015cf"
      },
      "source": [
        "# 전체 어휘에 대한 word vector 추출\n",
        "for  v   in model.wv.vocab.keys() :\n",
        "   print(v, model.wv[v])\n",
        "\n",
        "x = np.array([ model.wv[v] for v in model.wv.vocab.keys() ] )  \n",
        "print(x.shape)   # 단어수 by dimension"
      ],
      "execution_count": null,
      "outputs": [
        {
          "output_type": "stream",
          "text": [
            "this [ 0.22147816 -0.03662437]\n",
            "is [ 0.06978388 -0.16332635]\n",
            "a [0.16483912 0.16518565]\n",
            "good [0.05544909 0.08824889]\n",
            "product [ 0.07958245 -0.04882235]\n",
            "it [-0.10783027 -0.20488642]\n",
            "excellent [-0.17737874  0.0796999 ]\n",
            "bad [0.12415009 0.23897213]\n",
            "that [0.08006773 0.19422154]\n",
            "the [-0.17931446 -0.14998546]\n",
            "worst [0.06274748 0.07882779]\n",
            "(11, 2)\n"
          ],
          "name": "stdout"
        }
      ]
    },
    {
      "cell_type": "markdown",
      "metadata": {
        "id": "KwXaSQ2_l2u7"
      },
      "source": [
        "### 2) 그래프를 통한 시각화"
      ]
    },
    {
      "cell_type": "code",
      "metadata": {
        "colab": {
          "base_uri": "https://localhost:8080/",
          "height": 282
        },
        "id": "s-ic6m0gmMSa",
        "outputId": "98c51f76-6225-4283-b727-c1e0f716df59"
      },
      "source": [
        "plt.plot( x[:, 0], x[:, 1], '*' )"
      ],
      "execution_count": null,
      "outputs": [
        {
          "output_type": "execute_result",
          "data": {
            "text/plain": [
              "[<matplotlib.lines.Line2D at 0x7f23af71ce10>]"
            ]
          },
          "metadata": {
            "tags": []
          },
          "execution_count": 15
        },
        {
          "output_type": "display_data",
          "data": {
            "image/png": "[encoded data removed]",
            "text/plain": [
              "<Figure size 432x288 with 1 Axes>"
            ]
          },
          "metadata": {
            "tags": [],
            "needs_background": "light"
          }
        }
      ]
    },
    {
      "cell_type": "code",
      "metadata": {
        "colab": {
          "base_uri": "https://localhost:8080/"
        },
        "id": "kCaPHq7YmxaZ",
        "outputId": "f6216e29-7e4d-4f5f-f489-9fb4e89d3aa2"
      },
      "source": [
        "label = list(model.wv.vocab.keys())\n",
        "print(label[0])\n",
        "label[0], x[0, :]"
      ],
      "execution_count": null,
      "outputs": [
        {
          "output_type": "stream",
          "text": [
            "this\n"
          ],
          "name": "stdout"
        },
        {
          "output_type": "execute_result",
          "data": {
            "text/plain": [
              "('this', array([ 0.22147816, -0.03662437], dtype=float32))"
            ]
          },
          "metadata": {
            "tags": []
          },
          "execution_count": 35
        }
      ]
    },
    {
      "cell_type": "code",
      "metadata": {
        "colab": {
          "base_uri": "https://localhost:8080/",
          "height": 268
        },
        "id": "0iEbMk0tnaXD",
        "outputId": "140b9caf-6366-4523-eb10-b2b69df1c751"
      },
      "source": [
        "for i in range(11) :\n",
        "  plt.scatter(  x[i, 0], x[i, 1], marker='*', color='red')\n",
        "  plt.text(  x[i, 0]+0.01, x[i, 1]+0.01, label[i], fontsize=10)"
      ],
      "execution_count": null,
      "outputs": [
        {
          "output_type": "display_data",
          "data": {
            "image/png": "[encoded data removed]",
            "text/plain": [
              "<Figure size 432x288 with 1 Axes>"
            ]
          },
          "metadata": {
            "tags": [],
            "needs_background": "light"
          }
        }
      ]
    },
    {
      "cell_type": "code",
      "metadata": {
        "colab": {
          "base_uri": "https://localhost:8080/",
          "height": 265
        },
        "id": "0uY9UvvornWU",
        "outputId": "188d834b-8940-4ec1-c96a-2323df56e2e9"
      },
      "source": [
        "for p in x :\n",
        "  #print(p)\n",
        "  plt.scatter(  p[0], p[1], marker='*', color='red')\n",
        "  plt.text(  p[0]+0.01, p[1]+0.01, label[i], fontsize=10)"
      ],
      "execution_count": null,
      "outputs": [
        {
          "output_type": "display_data",
          "data": {
            "image/png": "[encoded data removed]",
            "text/plain": [
              "<Figure size 432x288 with 1 Axes>"
            ]
          },
          "metadata": {
            "tags": [],
            "needs_background": "light"
          }
        }
      ]
    },
    {
      "cell_type": "code",
      "metadata": {
        "colab": {
          "base_uri": "https://localhost:8080/"
        },
        "id": "huLI4OLrsCNn",
        "outputId": "d0965a5e-483c-425b-ef11-0cfc2ef30159"
      },
      "source": [
        "# 2개의 데이터를 pair group으로 만들기\n",
        "\n",
        "a = [1,2,3]\n",
        "b = ['a', 'b', 'c']\n",
        "\n",
        "for c in zip(a, b) :\n",
        "  print(c[0], c[1])\n",
        "\n",
        "for i, j in zip(a, b) :   # i = c[0],   j=c[1]\n",
        "  print(i, j)  \n",
        "\n",
        "for i, _ in zip(a, b) :   # i = c[0],   j=c[1]\n",
        "  print(i)    "
      ],
      "execution_count": null,
      "outputs": [
        {
          "output_type": "stream",
          "text": [
            "1 a\n",
            "2 b\n",
            "3 c\n",
            "1 a\n",
            "2 b\n",
            "3 c\n",
            "1\n",
            "2\n",
            "3\n"
          ],
          "name": "stdout"
        }
      ]
    },
    {
      "cell_type": "code",
      "metadata": {
        "colab": {
          "base_uri": "https://localhost:8080/",
          "height": 268
        },
        "id": "hWHsWufLs7Kl",
        "outputId": "7531090d-5ca1-428a-f5f6-4bda2488348d"
      },
      "source": [
        "for p, l in zip(x, label) :\n",
        "  plt.scatter(  p[0], p[1], marker='*', color='red')\n",
        "  plt.text(  p[0]+0.01, p[1]+0.01, l, fontsize=10)"
      ],
      "execution_count": null,
      "outputs": [
        {
          "output_type": "display_data",
          "data": {
            "image/png": "[encoded data removed]",
            "text/plain": [
              "<Figure size 432x288 with 1 Axes>"
            ]
          },
          "metadata": {
            "tags": [],
            "needs_background": "light"
          }
        }
      ]
    },
    {
      "cell_type": "markdown",
      "metadata": {
        "id": "y1XRZwePvg1W"
      },
      "source": [
        "# TSNE를 이용하 word2vec 시각화"
      ]
    },
    {
      "cell_type": "code",
      "metadata": {
        "colab": {
          "base_uri": "https://localhost:8080/"
        },
        "id": "cI2qr9_BvlcC",
        "outputId": "401f13d2-ae69-4eee-b59f-8a6009ea4d01"
      },
      "source": [
        "from sklearn.manifold import TSNE\n",
        "\n",
        "model20 = Word2Vec(sentences, size=20, window=3, min_count=1)\n",
        "\n",
        "x = np.array([ model20.wv[v] for v in model20.wv.vocab.keys() ] )  \n",
        "\n",
        "label = list(model20.wv.vocab.keys())\n",
        "\n",
        "tsne = TSNE(n_components = 2)\n",
        "#tsne.fit(x)\n",
        "#x_sne = tsne.transform(x)\n",
        "x_sne = tsne.fit_transform(x)\n",
        "\n",
        "print(x_sne.shape)"
      ],
      "execution_count": null,
      "outputs": [
        {
          "output_type": "stream",
          "text": [
            "(11, 2)\n"
          ],
          "name": "stdout"
        }
      ]
    },
    {
      "cell_type": "code",
      "metadata": {
        "colab": {
          "base_uri": "https://localhost:8080/",
          "height": 265
        },
        "id": "0QbSlbWjwwhu",
        "outputId": "3f50ce5f-93b1-4874-9863-2fe9b4601594"
      },
      "source": [
        "for p, l in zip(x_sne, label) :\n",
        "  plt.scatter(  p[0], p[1], marker='*', color='red')\n",
        "  plt.text(  p[0]+0.01, p[1]+0.01, l, fontsize=10)"
      ],
      "execution_count": null,
      "outputs": [
        {
          "output_type": "display_data",
          "data": {
            "image/png": "[encoded data removed]",
            "text/plain": [
              "<Figure size 432x288 with 1 Axes>"
            ]
          },
          "metadata": {
            "tags": [],
            "needs_background": "light"
          }
        }
      ]
    },
    {
      "cell_type": "code",
      "metadata": {
        "colab": {
          "base_uri": "https://localhost:8080/",
          "height": 302
        },
        "id": "lAWaM2jyyBaI",
        "outputId": "b50c6a4a-fe7f-44d3-c09e-6313b488ad00"
      },
      "source": [
        "from sklearn.decomposition import PCA\n",
        "\n",
        "pca = PCA(n_components=2)\n",
        "x_pca = pca.fit_transform(x)\n",
        "print(x_pca.shape)\n",
        "\n",
        "for p, l in zip(x_pca, label) :\n",
        "  plt.scatter(  p[0], p[1], marker='*', color='red')\n",
        "  plt.text(  p[0]+0.01, p[1]+0.01, l, fontsize=10)"
      ],
      "execution_count": null,
      "outputs": [
        {
          "output_type": "stream",
          "text": [
            "(11, 2)\n"
          ],
          "name": "stdout"
        },
        {
          "output_type": "display_data",
          "data": {
            "image/png": "[encoded data removed]",
            "text/plain": [
              "<Figure size 432x288 with 1 Axes>"
            ]
          },
          "metadata": {
            "tags": [],
            "needs_background": "light"
          }
        }
      ]
    },
    {
      "cell_type": "markdown",
      "metadata": {
        "id": "-QIlzIGk0Xmr"
      },
      "source": [
        "# Naver 영화 긍정/부정평가\n"
      ]
    },
    {
      "cell_type": "code",
      "metadata": {
        "colab": {
          "base_uri": "https://localhost:8080/"
        },
        "id": "JWvjJMUg0dwo",
        "outputId": "b1620bc4-57ab-4da2-b702-fd34cf0806f6"
      },
      "source": [
        "#id   영화 재미 있어요  0\n",
        "# data[1:]\n",
        "def read_data(filename):\n",
        "    with open(filename, 'r', encoding='utf8') as f:\n",
        "        data = [line.split('\\t') for line in f.read().splitlines()]\n",
        "        data = data[1:] #header 제외\n",
        "    return data\n",
        "\n",
        "train_data = read_data('./ratings_train.txt')\n",
        "print(len(train_data)) "
      ],
      "execution_count": null,
      "outputs": [
        {
          "output_type": "stream",
          "text": [
            "7153\n"
          ],
          "name": "stdout"
        }
      ]
    },
    {
      "cell_type": "code",
      "metadata": {
        "colab": {
          "base_uri": "https://localhost:8080/"
        },
        "id": "SO4wNBBg1eSi",
        "outputId": "bd05b1e8-a72e-435a-eb99-a47126612078"
      },
      "source": [
        "train_data[10]"
      ],
      "execution_count": null,
      "outputs": [
        {
          "output_type": "execute_result",
          "data": {
            "text/plain": [
              "['9008700', '걍인피니트가짱이다.진짜짱이다♥', '1']"
            ]
          },
          "metadata": {
            "tags": []
          },
          "execution_count": 57
        }
      ]
    },
    {
      "cell_type": "code",
      "metadata": {
        "colab": {
          "base_uri": "https://localhost:8080/"
        },
        "id": "GlOa8sNQ1tqf",
        "outputId": "09d9d91d-6392-4f3e-d894-c6fd76de0824"
      },
      "source": [
        "from  konlpy.tag import Okt\n",
        "pos_tagger = Okt()\n",
        "\n",
        "def tokenize(doc):\n",
        "    return['/'.join(t) for t in pos_tagger.pos(doc,norm=True,stem=True)]\n",
        "\n",
        "tokenize('오늘 서울 날씨 어때')    "
      ],
      "execution_count": null,
      "outputs": [
        {
          "output_type": "execute_result",
          "data": {
            "text/plain": [
              "['오늘/Noun', '서울/Noun', '날씨/Noun']"
            ]
          },
          "metadata": {
            "tags": []
          },
          "execution_count": 60
        }
      ]
    },
    {
      "cell_type": "code",
      "metadata": {
        "id": "hr6RgSkF23UX"
      },
      "source": [
        "train_docs = [(tokenize(row[1]), row[2]) for row in train_data]"
      ],
      "execution_count": null,
      "outputs": []
    },
    {
      "cell_type": "code",
      "metadata": {
        "colab": {
          "base_uri": "https://localhost:8080/"
        },
        "id": "higgycOV5CvT",
        "outputId": "d4442183-fca3-4b67-fdd8-774679ef4163"
      },
      "source": [
        "train_docs[0]"
      ],
      "execution_count": null,
      "outputs": [
        {
          "output_type": "execute_result",
          "data": {
            "text/plain": [
              "(['아/Exclamation',\n",
              "  '더빙/Noun',\n",
              "  '../Punctuation',\n",
              "  '진짜/Noun',\n",
              "  '짜증나다/Adjective',\n",
              "  '목소리/Noun'],\n",
              " '0')"
            ]
          },
          "metadata": {
            "tags": []
          },
          "execution_count": 62
        }
      ]
    },
    {
      "cell_type": "code",
      "metadata": {
        "id": "i7VYZuZ55YaM"
      },
      "source": [
        "with open('train_docs.bin', 'rb') as f: train_docs = pickle.load(f) "
      ],
      "execution_count": null,
      "outputs": []
    },
    {
      "cell_type": "code",
      "metadata": {
        "colab": {
          "base_uri": "https://localhost:8080/"
        },
        "id": "TrI_J5oG5jQY",
        "outputId": "db356b3b-6082-4df9-e6a7-cfc5d82c58ab"
      },
      "source": [
        "train_docs[1]"
      ],
      "execution_count": null,
      "outputs": [
        {
          "output_type": "execute_result",
          "data": {
            "text/plain": [
              "(['흠/Noun',\n",
              "  '.../Punctuation',\n",
              "  '포스터/Noun',\n",
              "  '보고/Noun',\n",
              "  '초딩/Noun',\n",
              "  '영화/Noun',\n",
              "  '줄/Noun',\n",
              "  '..../Punctuation',\n",
              "  '오버/Noun',\n",
              "  '연기/Noun',\n",
              "  '조차/Josa',\n",
              "  '가볍다/Adjective',\n",
              "  '않다/Verb'],\n",
              " '1')"
            ]
          },
          "metadata": {
            "tags": []
          },
          "execution_count": 70
        }
      ]
    },
    {
      "cell_type": "code",
      "metadata": {
        "id": "DzKXBcUM6Tva"
      },
      "source": [
        "train_tokens = [doc[0]  for doc in train_docs]"
      ],
      "execution_count": null,
      "outputs": []
    },
    {
      "cell_type": "code",
      "metadata": {
        "colab": {
          "base_uri": "https://localhost:8080/"
        },
        "id": "yqzDdhzW6eji",
        "outputId": "6a5b89d1-a332-4b90-d20f-a3281c400668"
      },
      "source": [
        "train_tokens[1]"
      ],
      "execution_count": null,
      "outputs": [
        {
          "output_type": "execute_result",
          "data": {
            "text/plain": [
              "['흠/Noun',\n",
              " '.../Punctuation',\n",
              " '포스터/Noun',\n",
              " '보고/Noun',\n",
              " '초딩/Noun',\n",
              " '영화/Noun',\n",
              " '줄/Noun',\n",
              " '..../Punctuation',\n",
              " '오버/Noun',\n",
              " '연기/Noun',\n",
              " '조차/Josa',\n",
              " '가볍다/Adjective',\n",
              " '않다/Verb']"
            ]
          },
          "metadata": {
            "tags": []
          },
          "execution_count": 74
        }
      ]
    },
    {
      "cell_type": "markdown",
      "metadata": {
        "id": "UAEHqVLC6xRR"
      },
      "source": [
        "# 명사, 동사, 형용사 추출"
      ]
    },
    {
      "cell_type": "code",
      "metadata": {
        "colab": {
          "base_uri": "https://localhost:8080/"
        },
        "id": "i5Q8qJa861ML",
        "outputId": "f1e0b7d8-784b-40b8-f2e1-086f15b3690f"
      },
      "source": [
        "def getKeyword(pos) :\n",
        "    return [ token.split('/')[0] for token in pos if token.split('/')[1] in ['Noun', 'Verb', 'Adjective']]  \n",
        "\n",
        "getKeyword(train_tokens[1])"
      ],
      "execution_count": null,
      "outputs": [
        {
          "output_type": "execute_result",
          "data": {
            "text/plain": [
              "['흠', '포스터', '보고', '초딩', '영화', '줄', '오버', '연기', '가볍다', '않다']"
            ]
          },
          "metadata": {
            "tags": []
          },
          "execution_count": 76
        }
      ]
    },
    {
      "cell_type": "code",
      "metadata": {
        "id": "7Yr9SHKg7chg"
      },
      "source": [
        "train_x = [getKeyword(doc)  for doc in train_tokens]"
      ],
      "execution_count": null,
      "outputs": []
    },
    {
      "cell_type": "code",
      "metadata": {
        "colab": {
          "base_uri": "https://localhost:8080/"
        },
        "id": "nd6tDNrX7mPw",
        "outputId": "54ad6ba9-472f-4ef1-9532-cdfc28fcae73"
      },
      "source": [
        "train_x[1000]\n",
        "#train_tokens[1000]"
      ],
      "execution_count": null,
      "outputs": [
        {
          "output_type": "execute_result",
          "data": {
            "text/plain": [
              "['정말', '최고', '명작', '성인', '되다', '보다', '이집트', '왕자', '또', '다른', '감동', '자체']"
            ]
          },
          "metadata": {
            "tags": []
          },
          "execution_count": 85
        }
      ]
    },
    {
      "cell_type": "markdown",
      "metadata": {
        "id": "L8kGO6M_8fRE"
      },
      "source": [
        "### word2vec"
      ]
    },
    {
      "cell_type": "code",
      "metadata": {
        "colab": {
          "base_uri": "https://localhost:8080/"
        },
        "id": "RZvwkSP98iOi",
        "outputId": "02a26741-2b7e-45df-baf3-a02064648b37"
      },
      "source": [
        "%%time\n",
        "model = Word2Vec(train_x, size=50, window=3, min_count=1) \n",
        "word_vectors = model.wv\n",
        "vocabs = word_vectors.vocab.keys()"
      ],
      "execution_count": null,
      "outputs": [
        {
          "output_type": "stream",
          "text": [
            "CPU times: user 30.4 s, sys: 226 ms, total: 30.7 s\n",
            "Wall time: 20.6 s\n"
          ],
          "name": "stdout"
        }
      ]
    },
    {
      "cell_type": "code",
      "metadata": {
        "id": "JmELe_rL9ocq"
      },
      "source": [
        "model.save('naver.w2v')"
      ],
      "execution_count": null,
      "outputs": []
    },
    {
      "cell_type": "code",
      "metadata": {
        "id": "mlFqUR2bXkFQ"
      },
      "source": [
        "model = Word2Vec.load('naver.w2v')"
      ],
      "execution_count": null,
      "outputs": []
    },
    {
      "cell_type": "markdown",
      "metadata": {
        "id": "ie19fwav-hCH"
      },
      "source": [
        "### 유사어 검색"
      ]
    },
    {
      "cell_type": "code",
      "metadata": {
        "colab": {
          "base_uri": "https://localhost:8080/"
        },
        "id": "2N0veDpj-cpj",
        "outputId": "ec659dae-a4c0-4844-a681-def8ebd32736"
      },
      "source": [
        "model.wv.most_similar('재미')"
      ],
      "execution_count": null,
      "outputs": [
        {
          "output_type": "execute_result",
          "data": {
            "text/plain": [
              "[('감흥', 0.8017611503601074),\n",
              " ('스릴', 0.7720718383789062),\n",
              " ('제구', 0.7556378841400146),\n",
              " ('맛', 0.7450342178344727),\n",
              " ('흥미', 0.7340234518051147),\n",
              " ('진전', 0.7267226576805115),\n",
              " ('잼', 0.7248738408088684),\n",
              " ('마이나스', 0.722614586353302),\n",
              " ('어이', 0.7207885384559631),\n",
              " ('형편', 0.7184769511222839)]"
            ]
          },
          "metadata": {
            "tags": []
          },
          "execution_count": 94
        }
      ]
    },
    {
      "cell_type": "code",
      "metadata": {
        "colab": {
          "base_uri": "https://localhost:8080/"
        },
        "id": "5_h73IFs-6T7",
        "outputId": "bda39280-b975-4ff9-8a8b-a3cd724fdda7"
      },
      "source": [
        "len(vocabs)"
      ],
      "execution_count": null,
      "outputs": [
        {
          "output_type": "execute_result",
          "data": {
            "text/plain": [
              "40686"
            ]
          },
          "metadata": {
            "tags": []
          },
          "execution_count": 93
        }
      ]
    },
    {
      "cell_type": "code",
      "metadata": {
        "colab": {
          "base_uri": "https://localhost:8080/"
        },
        "id": "YkOhnZpf_HZ8",
        "outputId": "d2617be1-e890-467d-c51e-5bca9f027bdd"
      },
      "source": [
        "model.wv.most_similar('남자')"
      ],
      "execution_count": null,
      "outputs": [
        {
          "output_type": "execute_result",
          "data": {
            "text/plain": [
              "[('여자', 0.9300450086593628),\n",
              " ('주인공', 0.8340767025947571),\n",
              " ('착하다', 0.7882528305053711),\n",
              " ('퀸카', 0.7857269644737244),\n",
              " ('둘', 0.7771240472793579),\n",
              " ('아들', 0.7714970111846924),\n",
              " ('딸', 0.7585820555686951),\n",
              " ('남녀', 0.7501075267791748),\n",
              " ('남편', 0.7462684512138367),\n",
              " ('아버지', 0.7416093945503235)]"
            ]
          },
          "metadata": {
            "tags": []
          },
          "execution_count": 95
        }
      ]
    },
    {
      "cell_type": "code",
      "metadata": {
        "colab": {
          "base_uri": "https://localhost:8080/"
        },
        "id": "DZp19PZ6_MUg",
        "outputId": "cc63d86c-01df-4504-ad33-9a1fe23e0ab7"
      },
      "source": [
        "model.wv.most_similar(positive=['정우성', '영화'])"
      ],
      "execution_count": null,
      "outputs": [
        {
          "output_type": "execute_result",
          "data": {
            "text/plain": [
              "[('왕정', 0.865249752998352),\n",
              " ('가타카', 0.8459721207618713),\n",
              " ('단편영화', 0.8418026566505432),\n",
              " ('공연', 0.8412141799926758),\n",
              " ('만화영화', 0.8391302824020386),\n",
              " ('이은주', 0.8390489220619202),\n",
              " ('양조위', 0.8368611335754395),\n",
              " ('신기', 0.8342753052711487),\n",
              " ('이연희', 0.8323482275009155),\n",
              " ('정재영', 0.8320841789245605)]"
            ]
          },
          "metadata": {
            "tags": []
          },
          "execution_count": 96
        }
      ]
    },
    {
      "cell_type": "code",
      "metadata": {
        "colab": {
          "base_uri": "https://localhost:8080/"
        },
        "id": "tlp5r2c9_TXz",
        "outputId": "e951d23f-a119-45fb-c2fe-72805def67e1"
      },
      "source": [
        "model.wv.most_similar('지루')"
      ],
      "execution_count": null,
      "outputs": [
        {
          "output_type": "execute_result",
          "data": {
            "text/plain": [
              "[('시시하다', 0.9043824076652527),\n",
              " ('늘어지다', 0.8918811678886414),\n",
              " ('극치', 0.8753676414489746),\n",
              " ('유치', 0.862300455570221),\n",
              " ('별루', 0.8539683222770691),\n",
              " ('따분하다', 0.8510326147079468),\n",
              " ('허무', 0.8487430214881897),\n",
              " ('갑툭튀', 0.8462157845497131),\n",
              " ('징그럽다', 0.8459028005599976),\n",
              " ('전개도', 0.8446458578109741)]"
            ]
          },
          "metadata": {
            "tags": []
          },
          "execution_count": 97
        }
      ]
    },
    {
      "cell_type": "code",
      "metadata": {
        "colab": {
          "base_uri": "https://localhost:8080/"
        },
        "id": "lR94rmWQ_baS",
        "outputId": "d990a788-d5bb-40dd-cac8-fc0020880584"
      },
      "source": [
        "model.wv.most_similar(positive=['정우성', '여배우'])  "
      ],
      "execution_count": null,
      "outputs": [
        {
          "output_type": "execute_result",
          "data": {
            "text/plain": [
              "[('주진모', 0.9475811123847961),\n",
              " ('능청', 0.9426469802856445),\n",
              " ('류승범', 0.9424196481704712),\n",
              " ('남자배우', 0.9369833469390869),\n",
              " ('송강호', 0.9333428144454956),\n",
              " ('하지원', 0.9284607172012329),\n",
              " ('디카프리오', 0.9270623922348022),\n",
              " ('차승원', 0.9246914386749268),\n",
              " ('유아인', 0.9245845079421997),\n",
              " ('이나영', 0.9220532774925232)]"
            ]
          },
          "metadata": {
            "tags": []
          },
          "execution_count": 98
        }
      ]
    },
    {
      "cell_type": "code",
      "metadata": {
        "colab": {
          "base_uri": "https://localhost:8080/"
        },
        "id": "vHdlxzsR_zcx",
        "outputId": "b500e583-2807-400e-8e56-99a724b3f055"
      },
      "source": [
        "model.wv.most_similar(positive=['유아인', '재미'])  "
      ],
      "execution_count": null,
      "outputs": [
        {
          "output_type": "execute_result",
          "data": {
            "text/plain": [
              "[('전장', 0.8472537994384766),\n",
              " ('개별', 0.8432127833366394),\n",
              " ('꼬아놓', 0.8424386382102966),\n",
              " ('배두나', 0.8424053192138672),\n",
              " ('후지', 0.8399091362953186),\n",
              " ('생동감', 0.8391200304031372),\n",
              " ('쩜', 0.8325079679489136),\n",
              " ('젬', 0.8298305869102478),\n",
              " ('아담샌들러', 0.8290881514549255),\n",
              " ('심리전', 0.8269898295402527)]"
            ]
          },
          "metadata": {
            "tags": []
          },
          "execution_count": 100
        }
      ]
    },
    {
      "cell_type": "code",
      "metadata": {
        "colab": {
          "base_uri": "https://localhost:8080/"
        },
        "id": "U_xjec0mBopz",
        "outputId": "ec2b6b24-629b-4756-b199-97cf71852464"
      },
      "source": [
        "model.wv['재미']"
      ],
      "execution_count": null,
      "outputs": [
        {
          "output_type": "execute_result",
          "data": {
            "text/plain": [
              "array([ 0.17649205, -1.5428975 ,  1.0024365 , -1.7363039 , -2.2785702 ,\n",
              "        0.24083836,  0.96769136, -0.9143561 ,  0.61649483,  0.5329849 ,\n",
              "       -0.5583386 , -0.39461336,  0.8230443 , -2.4888878 ,  0.88527703,\n",
              "       -1.255879  ,  0.15530968, -0.87208235, -1.2471763 , -1.941501  ,\n",
              "       -1.0223781 ,  0.33609065,  1.1929009 ,  3.4380724 ,  1.0050863 ,\n",
              "       -0.3041486 , -1.6625569 , -1.3872714 ,  1.275723  , -1.3292786 ,\n",
              "       -1.2493199 , -0.6605852 ,  0.7124988 ,  1.032339  , -0.44447875,\n",
              "       -1.3284843 , -0.91228664,  3.4082243 , -0.6405655 ,  0.83652383,\n",
              "        2.2286406 , -0.4081636 ,  0.25324133,  0.9235818 ,  0.71149296,\n",
              "        0.6710997 ,  1.6432731 ,  0.31227604, -0.5992289 , -0.69565487],\n",
              "      dtype=float32)"
            ]
          },
          "metadata": {
            "tags": []
          },
          "execution_count": 102
        }
      ]
    },
    {
      "cell_type": "code",
      "metadata": {
        "colab": {
          "base_uri": "https://localhost:8080/"
        },
        "id": "LTifRJvRCW6s",
        "outputId": "f80efe63-d8d7-4c29-a898-4d9d51e7607f"
      },
      "source": [
        "# 영화 감정 평가\n",
        "#주인공이 연기력이 떨어져요\n",
        "'떨어지다' in vocabs"
      ],
      "execution_count": null,
      "outputs": [
        {
          "output_type": "execute_result",
          "data": {
            "text/plain": [
              "True"
            ]
          },
          "metadata": {
            "tags": []
          },
          "execution_count": 105
        }
      ]
    },
    {
      "cell_type": "code",
      "metadata": {
        "colab": {
          "base_uri": "https://localhost:8080/"
        },
        "id": "RVEfdeGiC1OT",
        "outputId": "be5eb7ef-d3e3-4824-8e78-facaf8f929bf"
      },
      "source": [
        "model.wv.most_similar('떨어지다')"
      ],
      "execution_count": null,
      "outputs": [
        {
          "output_type": "execute_result",
          "data": {
            "text/plain": [
              "[('제로', 0.8249638676643372),\n",
              " ('약하다', 0.8207460641860962),\n",
              " ('부족하다', 0.7780107855796814),\n",
              " ('비다', 0.7723615169525146),\n",
              " ('적당하다', 0.7597516775131226),\n",
              " ('밋밋하다', 0.7517391443252563),\n",
              " ('부족', 0.7516745924949646),\n",
              " ('떨어뜨리다', 0.7513158917427063),\n",
              " ('성은', 0.7510378360748291),\n",
              " ('성하다', 0.7440852522850037)]"
            ]
          },
          "metadata": {
            "tags": []
          },
          "execution_count": 108
        }
      ]
    },
    {
      "cell_type": "markdown",
      "metadata": {
        "id": "11k2YCi4VFkP"
      },
      "source": [
        "# 감정평가\n",
        "\n",
        "- word2vec에서는 단어를 벡터화\n",
        "- 문제는 입력은 문장임\n",
        "- 문장을 고정된 크기의 벡터로 변화히기 위해 평균벡터로 만듬\n",
        "\n",
        "주인공이 연기력이 떨어져요\n",
        "주인공 ->  1x50\n",
        "연기력 ->  1x50\n",
        "떨어지다 -> 1x50   \n",
        "\n",
        "\n"
      ]
    },
    {
      "cell_type": "markdown",
      "metadata": {
        "id": "Qbe0yoFBWttx"
      },
      "source": [
        "### 평균벡터 구하기\n",
        "\n"
      ]
    },
    {
      "cell_type": "code",
      "metadata": {
        "colab": {
          "base_uri": "https://localhost:8080/"
        },
        "id": "_40By4y3WyCt",
        "outputId": "3f185c59-b705-4bc0-8077-c6c84246634d"
      },
      "source": [
        "a = np.array([1, 4])\n",
        "b = np.array([2, 7])\n",
        "c = np.array([-2, 5])\n",
        "\n",
        "\n",
        "d = (a + b +c) / 3\n",
        "print(d)"
      ],
      "execution_count": null,
      "outputs": [
        {
          "output_type": "stream",
          "text": [
            "[0.33333333 5.33333333]\n"
          ],
          "name": "stdout"
        }
      ]
    },
    {
      "cell_type": "code",
      "metadata": {
        "colab": {
          "base_uri": "https://localhost:8080/"
        },
        "id": "QjHPybD_XKXa",
        "outputId": "cbdb398e-c070-4ab4-8b68-8b7ab86fbedf"
      },
      "source": [
        "str = ['더빙', '진짜', '짜증나다', '목소리', '키보드']  # train_x[0]\n",
        "#str = []  # train_x[0]\n",
        "\n",
        "print(str)\n",
        "feature = []\n",
        "for s  in str  :\n",
        "  if s in model.wv.vocab  :                            # 학습데이터에 있는 단어만  :\n",
        "    feature.append(model.wv[s])                 # word vector 누적\n",
        "if feature ==  [] : \n",
        "  feature = np.zeros(50)\n",
        "else :\n",
        "  feature = np.mean(np.array(feature), axis=0)  # 열기준 평균벡터 계산\n",
        "\n",
        "print(feature.shape)\n",
        "print(feature)"
      ],
      "execution_count": null,
      "outputs": [
        {
          "output_type": "stream",
          "text": [
            "['더빙', '진짜', '짜증나다', '목소리', '키보드']\n",
            "(50,)\n",
            "[-0.01214395  0.20127946  0.5126892  -0.01735868 -0.48833326  0.7224753\n",
            "  0.33887798 -0.2646402   0.80233705  0.91475254 -0.820802   -0.7880267\n",
            "  0.16961236 -0.6534163  -0.7770268  -0.86439925  1.0904918   0.33108425\n",
            " -0.3958925  -0.2643025   0.11449573 -0.13168031 -0.74344254  0.9323\n",
            " -1.0258209  -1.0278881  -0.44597584 -0.6597414  -0.28759733 -1.0188712\n",
            "  0.38322806 -1.0610671   1.0121081   1.9783502   1.2809956   0.65791285\n",
            " -0.16180027 -0.31445637  0.10834408  1.3567806   0.3423899   0.5125197\n",
            " -0.2729333   0.9555732   0.16421536 -0.3694069   0.3239882   1.5049796\n",
            " -1.1308932  -0.06135498]\n"
          ],
          "name": "stdout"
        }
      ]
    },
    {
      "cell_type": "code",
      "metadata": {
        "colab": {
          "base_uri": "https://localhost:8080/"
        },
        "id": "iaWhXuwqbiBF",
        "outputId": "1c62517c-ad8f-44ee-e5ee-15d0540574d0"
      },
      "source": [
        "def get_feature(tokens) :\n",
        "  feature = np.array([model.wv[token] for token in tokens  if token in  model.wv.vocab ] )  \n",
        "  if feature.size == 0 : \n",
        "      return np.zeros(50)\n",
        "  return np.mean(feature, axis=0)\n",
        "\n",
        "f = get_feature(['주인공', '연기력', '떨어지다', '비추'])\n",
        "print(f)"
      ],
      "execution_count": null,
      "outputs": [
        {
          "output_type": "stream",
          "text": [
            "[0. 0. 0. 0. 0. 0. 0. 0. 0. 0. 0. 0. 0. 0. 0. 0. 0. 0. 0. 0. 0. 0. 0. 0.\n",
            " 0. 0. 0. 0. 0. 0. 0. 0. 0. 0. 0. 0. 0. 0. 0. 0. 0. 0. 0. 0. 0. 0. 0. 0.\n",
            " 0. 0.]\n"
          ],
          "name": "stdout"
        }
      ]
    },
    {
      "cell_type": "code",
      "metadata": {
        "colab": {
          "base_uri": "https://localhost:8080/"
        },
        "id": "aqo8LUnWcL6s",
        "outputId": "69602031-9149-4b42-a378-7ec96aec0353"
      },
      "source": [
        "str = '주인공이 연기력이 떨어져서 비추합니다.'\n",
        "feature = get_feature(getKeyword(tokenize(str)))\n",
        "feature"
      ],
      "execution_count": null,
      "outputs": [
        {
          "output_type": "execute_result",
          "data": {
            "text/plain": [
              "array([-0.42359215,  0.0704718 ,  0.05949485, -0.5303402 , -0.82571965,\n",
              "       -0.15437093,  0.5910738 ,  0.08110888,  1.4437473 , -0.1434694 ,\n",
              "       -0.42621645,  0.23946247, -0.09558981, -0.59631675, -1.2657909 ,\n",
              "       -0.7178616 ,  0.49117836, -0.67412794, -0.49576163,  0.10482202,\n",
              "       -0.32322675,  0.90152895,  0.2434623 ,  0.93134815, -0.5006502 ,\n",
              "       -0.24514051, -0.4596243 , -0.23388286,  0.18570937, -0.768566  ,\n",
              "       -0.2864278 , -0.50396585,  0.5737065 ,  1.0799865 ,  0.34722516,\n",
              "        1.2445103 , -0.1986579 ,  0.28730148,  0.25053698,  1.0461086 ,\n",
              "        0.9837251 ,  0.5084517 ,  0.26149547, -0.09889571, -0.17436597,\n",
              "        0.335617  ,  1.1155212 ,  1.3523169 , -0.62766826, -0.5664455 ],\n",
              "      dtype=float32)"
            ]
          },
          "metadata": {
            "tags": []
          },
          "execution_count": 208
        }
      ]
    },
    {
      "cell_type": "markdown",
      "metadata": {
        "id": "-YQqJNErdo8V"
      },
      "source": [
        "### 감정평가 문장 벡터 생성"
      ]
    },
    {
      "cell_type": "code",
      "metadata": {
        "colab": {
          "base_uri": "https://localhost:8080/"
        },
        "id": "fWxedu04dwgJ",
        "outputId": "49aa9bb9-67bf-4481-c0bd-9d3b145711a3"
      },
      "source": [
        "X = np.array([get_feature(tokens) for  tokens in train_x])\n",
        "y = np.array([float(c) for _,c in train_docs])\n",
        "print(X.shape, y.shape)   # 문장갯수 x 특징벡터크기"
      ],
      "execution_count": null,
      "outputs": [
        {
          "output_type": "stream",
          "text": [
            "(150000, 50) (150000,)\n"
          ],
          "name": "stdout"
        }
      ]
    },
    {
      "cell_type": "code",
      "metadata": {
        "id": "XYk6k1vyir18"
      },
      "source": [
        "# 인식률?  73%\n",
        "# logistic regression"
      ],
      "execution_count": null,
      "outputs": []
    },
    {
      "cell_type": "markdown",
      "metadata": {
        "id": "ZXvBakPrmSqC"
      },
      "source": [
        "### logistic regression을 이용한 감정분류"
      ]
    },
    {
      "cell_type": "code",
      "metadata": {
        "colab": {
          "base_uri": "https://localhost:8080/"
        },
        "id": "-kOc-MvZmYdy",
        "outputId": "1406e8c8-3153-4315-d342-99cb3afd7730"
      },
      "source": [
        "from sklearn.linear_model import LogisticRegression\n",
        "reg = LogisticRegression( max_iter=1000)\n",
        "reg.fit(X , y)"
      ],
      "execution_count": null,
      "outputs": [
        {
          "output_type": "execute_result",
          "data": {
            "text/plain": [
              "LogisticRegression(C=1.0, class_weight=None, dual=False, fit_intercept=True,\n",
              "                   intercept_scaling=1, l1_ratio=None, max_iter=1000,\n",
              "                   multi_class='auto', n_jobs=None, penalty='l2',\n",
              "                   random_state=None, solver='lbfgs', tol=0.0001, verbose=0,\n",
              "                   warm_start=False)"
            ]
          },
          "metadata": {
            "tags": []
          },
          "execution_count": 213
        }
      ]
    },
    {
      "cell_type": "code",
      "metadata": {
        "colab": {
          "base_uri": "https://localhost:8080/"
        },
        "id": "1j4S4Hh5muLE",
        "outputId": "1bf8875c-3ffa-44f6-ad50-6b375b7d3915"
      },
      "source": [
        "reg.score(X, y)   # 인식률 79.3%"
      ],
      "execution_count": null,
      "outputs": [
        {
          "output_type": "execute_result",
          "data": {
            "text/plain": [
              "0.7926666666666666"
            ]
          },
          "metadata": {
            "tags": []
          },
          "execution_count": 214
        }
      ]
    },
    {
      "cell_type": "code",
      "metadata": {
        "colab": {
          "base_uri": "https://localhost:8080/"
        },
        "id": "B5Jme5OaoQ_E",
        "outputId": "303da59b-b029-48be-9aef-bedebbb981e2"
      },
      "source": [
        "from sklearn.tree import DecisionTreeClassifier, DecisionTreeRegressor\n",
        "dt = DecisionTreeClassifier()\n",
        "dt.fit(X,y)\n",
        "dt.score(X, y)"
      ],
      "execution_count": null,
      "outputs": [
        {
          "output_type": "execute_result",
          "data": {
            "text/plain": [
              "DecisionTreeClassifier(ccp_alpha=0.0, class_weight=None, criterion='gini',\n",
              "                       max_depth=None, max_features=None, max_leaf_nodes=None,\n",
              "                       min_impurity_decrease=0.0, min_impurity_split=None,\n",
              "                       min_samples_leaf=1, min_samples_split=2,\n",
              "                       min_weight_fraction_leaf=0.0, presort='deprecated',\n",
              "                       random_state=None, splitter='best')"
            ]
          },
          "metadata": {
            "tags": []
          },
          "execution_count": 216
        }
      ]
    },
    {
      "cell_type": "code",
      "metadata": {
        "colab": {
          "base_uri": "https://localhost:8080/"
        },
        "id": "DO_1WRLTpxoc",
        "outputId": "2d06cd32-8d64-43e4-d742-5ba52bfaf3cb"
      },
      "source": [
        "q = '주인공이 연기력이 떨어져서 비추합니다.'\n",
        "feature = get_feature(getKeyword(tokenize(q)))  #\n",
        "print(feature.shape)\n",
        "\n",
        "p = reg.predict_proba(feature.reshape(-1,50))\n",
        "print(p[0,1] > 0.5)\n",
        "\n",
        "p = dt.predict(feature.reshape(-1,50))\n",
        "print(p == 1 )"
      ],
      "execution_count": null,
      "outputs": [
        {
          "output_type": "stream",
          "text": [
            "(50,)\n",
            "False\n",
            "[False]\n"
          ],
          "name": "stdout"
        }
      ]
    },
    {
      "cell_type": "code",
      "metadata": {
        "id": "4tVTjTZarWIr"
      },
      "source": [
        " while (True) :\n",
        "  q = input()\n",
        "  feature = get_feature(getKeyword(tokenize(q)))  #\n",
        "  p = reg.predict_proba(feature.reshape(-1,50))\n",
        "  print(p[0,1] > 0.5)"
      ],
      "execution_count": null,
      "outputs": []
    },
    {
      "cell_type": "markdown",
      "metadata": {
        "id": "vCbbXC9MC6IF"
      },
      "source": [
        "# 유저 유사도 기반 협업필터링"
      ]
    },
    {
      "cell_type": "code",
      "metadata": {
        "colab": {
          "base_uri": "https://localhost:8080/",
          "height": 235
        },
        "id": "bmjiQwCyDFGK",
        "outputId": "61f3f4f4-0337-47e2-837a-4ee0073adab8"
      },
      "source": [
        "import pandas as pd\n",
        "df = pd.read_csv(\"toy.csv\",header=None)\n",
        "df.columns = ['공조', '더킹', '라라랜드', '컨택트', '너의이름']\n",
        "df.index = ['재석', '명수', '하하', '준하', '세형', '광희']\n",
        "df"
      ],
      "execution_count": null,
      "outputs": [
        {
          "output_type": "execute_result",
          "data": {
            "text/html": [
              "<div>\n",
              "<style scoped>\n",
              "    .dataframe tbody tr th:only-of-type {\n",
              "        vertical-align: middle;\n",
              "    }\n",
              "\n",
              "    .dataframe tbody tr th {\n",
              "        vertical-align: top;\n",
              "    }\n",
              "\n",
              "    .dataframe thead th {\n",
              "        text-align: right;\n",
              "    }\n",
              "</style>\n",
              "<table border=\"1\" class=\"dataframe\">\n",
              "  <thead>\n",
              "    <tr style=\"text-align: right;\">\n",
              "      <th></th>\n",
              "      <th>공조</th>\n",
              "      <th>더킹</th>\n",
              "      <th>라라랜드</th>\n",
              "      <th>컨택트</th>\n",
              "      <th>너의이름</th>\n",
              "    </tr>\n",
              "  </thead>\n",
              "  <tbody>\n",
              "    <tr>\n",
              "      <th>재석</th>\n",
              "      <td>5</td>\n",
              "      <td>4</td>\n",
              "      <td>4</td>\n",
              "      <td>3</td>\n",
              "      <td>0</td>\n",
              "    </tr>\n",
              "    <tr>\n",
              "      <th>명수</th>\n",
              "      <td>1</td>\n",
              "      <td>0</td>\n",
              "      <td>1</td>\n",
              "      <td>0</td>\n",
              "      <td>4</td>\n",
              "    </tr>\n",
              "    <tr>\n",
              "      <th>하하</th>\n",
              "      <td>4</td>\n",
              "      <td>4</td>\n",
              "      <td>0</td>\n",
              "      <td>5</td>\n",
              "      <td>3</td>\n",
              "    </tr>\n",
              "    <tr>\n",
              "      <th>준하</th>\n",
              "      <td>0</td>\n",
              "      <td>2</td>\n",
              "      <td>1</td>\n",
              "      <td>4</td>\n",
              "      <td>3</td>\n",
              "    </tr>\n",
              "    <tr>\n",
              "      <th>세형</th>\n",
              "      <td>4</td>\n",
              "      <td>0</td>\n",
              "      <td>4</td>\n",
              "      <td>4</td>\n",
              "      <td>2</td>\n",
              "    </tr>\n",
              "    <tr>\n",
              "      <th>광희</th>\n",
              "      <td>4</td>\n",
              "      <td>2</td>\n",
              "      <td>3</td>\n",
              "      <td>0</td>\n",
              "      <td>1</td>\n",
              "    </tr>\n",
              "  </tbody>\n",
              "</table>\n",
              "</div>"
            ],
            "text/plain": [
              "    공조  더킹  라라랜드  컨택트  너의이름\n",
              "재석   5   4     4    3     0\n",
              "명수   1   0     1    0     4\n",
              "하하   4   4     0    5     3\n",
              "준하   0   2     1    4     3\n",
              "세형   4   0     4    4     2\n",
              "광희   4   2     3    0     1"
            ]
          },
          "metadata": {
            "tags": []
          },
          "execution_count": 2
        }
      ]
    },
    {
      "cell_type": "code",
      "metadata": {
        "colab": {
          "base_uri": "https://localhost:8080/"
        },
        "id": "xuEIkJgEDW1D",
        "outputId": "e38de029-588b-41ae-b761-6abed386cb8f"
      },
      "source": [
        "# 명수와 준하의 유사도\n",
        "import numpy as np\n",
        "\n",
        "v1 = df.iloc[1].values\n",
        "v2 = df.iloc[3].values\n",
        "\n",
        "q1 = np.sum(v1*v2)\n",
        "q2 = np.sqrt(np.sum(v1**2))\n",
        "q3 = np.sqrt(np.sum(v2**2))\n",
        "s = q1 / (q2*q3)\n",
        "\n",
        "print(q1, q2, q3, s)"
      ],
      "execution_count": null,
      "outputs": [
        {
          "output_type": "stream",
          "text": [
            "13 4.242640687119285 5.477225575051661 0.5594309277855158\n"
          ],
          "name": "stdout"
        }
      ]
    },
    {
      "cell_type": "code",
      "metadata": {
        "colab": {
          "base_uri": "https://localhost:8080/"
        },
        "id": "HG0D5HnsFLpB",
        "outputId": "9dead998-a7ce-41c0-c58c-9fcb9f2c2fbc"
      },
      "source": [
        "from sklearn.metrics.pairwise import cosine_similarity\n",
        "\n",
        "distances = cosine_similarity(df)\n",
        "distances"
      ],
      "execution_count": null,
      "outputs": [
        {
          "output_type": "execute_result",
          "data": {
            "text/plain": [
              "array([[1.        , 0.26111648, 0.77272727, 0.53935989, 0.81934649,\n",
              "        0.89893315],\n",
              "       [0.26111648, 1.        , 0.46420708, 0.55943093, 0.52297636,\n",
              "        0.47336463],\n",
              "       [0.77272727, 0.46420708, 1.        , 0.83151316, 0.71692818,\n",
              "        0.60677988],\n",
              "       [0.53935989, 0.55943093, 0.83151316, 1.        , 0.65828059,\n",
              "        0.33333333],\n",
              "       [0.81934649, 0.52297636, 0.71692818, 0.65828059, 1.        ,\n",
              "        0.75955453],\n",
              "       [0.89893315, 0.47336463, 0.60677988, 0.33333333, 0.75955453,\n",
              "        1.        ]])"
            ]
          },
          "metadata": {
            "tags": []
          },
          "execution_count": 10
        }
      ]
    },
    {
      "cell_type": "code",
      "metadata": {
        "colab": {
          "base_uri": "https://localhost:8080/",
          "height": 235
        },
        "id": "MAvG-prLFxxj",
        "outputId": "6399b1f7-0427-4de7-94da-b0c8a0c13f6a"
      },
      "source": [
        "df2 = pd.DataFrame(distances)\n",
        "df2.index = ['재석', '명수', '하하', '준하', '세형', '광희']\n",
        "df2"
      ],
      "execution_count": null,
      "outputs": [
        {
          "output_type": "execute_result",
          "data": {
            "text/html": [
              "<div>\n",
              "<style scoped>\n",
              "    .dataframe tbody tr th:only-of-type {\n",
              "        vertical-align: middle;\n",
              "    }\n",
              "\n",
              "    .dataframe tbody tr th {\n",
              "        vertical-align: top;\n",
              "    }\n",
              "\n",
              "    .dataframe thead th {\n",
              "        text-align: right;\n",
              "    }\n",
              "</style>\n",
              "<table border=\"1\" class=\"dataframe\">\n",
              "  <thead>\n",
              "    <tr style=\"text-align: right;\">\n",
              "      <th></th>\n",
              "      <th>0</th>\n",
              "      <th>1</th>\n",
              "      <th>2</th>\n",
              "      <th>3</th>\n",
              "      <th>4</th>\n",
              "      <th>5</th>\n",
              "    </tr>\n",
              "  </thead>\n",
              "  <tbody>\n",
              "    <tr>\n",
              "      <th>재석</th>\n",
              "      <td>1.000000</td>\n",
              "      <td>0.261116</td>\n",
              "      <td>0.772727</td>\n",
              "      <td>0.539360</td>\n",
              "      <td>0.819346</td>\n",
              "      <td>0.898933</td>\n",
              "    </tr>\n",
              "    <tr>\n",
              "      <th>명수</th>\n",
              "      <td>0.261116</td>\n",
              "      <td>1.000000</td>\n",
              "      <td>0.464207</td>\n",
              "      <td>0.559431</td>\n",
              "      <td>0.522976</td>\n",
              "      <td>0.473365</td>\n",
              "    </tr>\n",
              "    <tr>\n",
              "      <th>하하</th>\n",
              "      <td>0.772727</td>\n",
              "      <td>0.464207</td>\n",
              "      <td>1.000000</td>\n",
              "      <td>0.831513</td>\n",
              "      <td>0.716928</td>\n",
              "      <td>0.606780</td>\n",
              "    </tr>\n",
              "    <tr>\n",
              "      <th>준하</th>\n",
              "      <td>0.539360</td>\n",
              "      <td>0.559431</td>\n",
              "      <td>0.831513</td>\n",
              "      <td>1.000000</td>\n",
              "      <td>0.658281</td>\n",
              "      <td>0.333333</td>\n",
              "    </tr>\n",
              "    <tr>\n",
              "      <th>세형</th>\n",
              "      <td>0.819346</td>\n",
              "      <td>0.522976</td>\n",
              "      <td>0.716928</td>\n",
              "      <td>0.658281</td>\n",
              "      <td>1.000000</td>\n",
              "      <td>0.759555</td>\n",
              "    </tr>\n",
              "    <tr>\n",
              "      <th>광희</th>\n",
              "      <td>0.898933</td>\n",
              "      <td>0.473365</td>\n",
              "      <td>0.606780</td>\n",
              "      <td>0.333333</td>\n",
              "      <td>0.759555</td>\n",
              "      <td>1.000000</td>\n",
              "    </tr>\n",
              "  </tbody>\n",
              "</table>\n",
              "</div>"
            ],
            "text/plain": [
              "           0         1         2         3         4         5\n",
              "재석  1.000000  0.261116  0.772727  0.539360  0.819346  0.898933\n",
              "명수  0.261116  1.000000  0.464207  0.559431  0.522976  0.473365\n",
              "하하  0.772727  0.464207  1.000000  0.831513  0.716928  0.606780\n",
              "준하  0.539360  0.559431  0.831513  1.000000  0.658281  0.333333\n",
              "세형  0.819346  0.522976  0.716928  0.658281  1.000000  0.759555\n",
              "광희  0.898933  0.473365  0.606780  0.333333  0.759555  1.000000"
            ]
          },
          "metadata": {
            "tags": []
          },
          "execution_count": 11
        }
      ]
    },
    {
      "cell_type": "code",
      "metadata": {
        "colab": {
          "base_uri": "https://localhost:8080/"
        },
        "id": "okCTyyQ4GcUE",
        "outputId": "ff503444-de3b-4edb-af7a-c34a99e1427b"
      },
      "source": [
        "# 세형이  더킹 영화에 대한 평가 점수 예측\n",
        "\n",
        "v1 = df2.loc[\"세형\"].values \n",
        "v2 = df[\"더킹\"].values \n",
        "p = np.sum(v1* v2)   /   np.sum(v1)\n",
        "print(p)"
      ],
      "execution_count": null,
      "outputs": [
        {
          "output_type": "stream",
          "text": [
            "2.005940609004159\n"
          ],
          "name": "stdout"
        }
      ]
    },
    {
      "cell_type": "markdown",
      "metadata": {
        "id": "i86jPOYBD80X"
      },
      "source": [
        "![image.png](data:image/png;base64,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)"
      ]
    },
    {
      "cell_type": "code",
      "metadata": {
        "id": "bRAE8H0VLmY9"
      },
      "source": [
        "v1 = df2.loc[\"세형\"].values \n",
        "for [더킹, 공조, 라라] ..\n",
        "  v2 = df[\"더킹\"].values \n",
        "  p = np.sum(v1* v2)   /   np.sum(v1)\n",
        "  print(p)"
      ],
      "execution_count": null,
      "outputs": []
    },
    {
      "cell_type": "markdown",
      "metadata": {
        "id": "BUtCWUCSMdSr"
      },
      "source": [
        "# 세형의 모든 영화에 대한 평점"
      ]
    },
    {
      "cell_type": "code",
      "metadata": {
        "colab": {
          "base_uri": "https://localhost:8080/"
        },
        "id": "OkcpE4QQMlAb",
        "outputId": "53497696-940b-4228-f572-dafc9cd16239"
      },
      "source": [
        "# 4\t0\t4\t4\t2\n",
        "np.matmul(df2.values[4].reshape(1,6), df.values) / np.sum(df2.values[4] )\n",
        "# 4.0 2.3  4,  3,9  2.01"
      ],
      "execution_count": null,
      "outputs": [
        {
          "output_type": "execute_result",
          "data": {
            "text/plain": [
              "array([[3.24444051, 2.00594061, 2.39828007, 2.83126174, 2.00511806]])"
            ]
          },
          "metadata": {
            "tags": []
          },
          "execution_count": 16
        }
      ]
    },
    {
      "cell_type": "markdown",
      "metadata": {
        "id": "-jZRgID9OkWF"
      },
      "source": [
        "# 모든 사람의 모든 영화에 대한 평점"
      ]
    },
    {
      "cell_type": "code",
      "metadata": {
        "colab": {
          "base_uri": "https://localhost:8080/"
        },
        "id": "pvVQYOwuOwNa",
        "outputId": "306ad6a4-2b46-4e21-9a5a-fba74ce10675"
      },
      "source": [
        "result = np.matmul(df2.values, df.values)"
      ],
      "execution_count": null,
      "outputs": [
        {
          "output_type": "execute_result",
          "data": {
            "text/plain": [
              "array([[15.22514414,  9.96749517, 10.77466179, 12.29846189,  7.51835355],\n",
              "       [ 8.14777472,  4.96688538,  6.1158962 ,  7.43401402,  8.59023138],\n",
              "       [13.62267567,  9.96749517,  9.07468168, 13.51194719,  9.39200406],\n",
              "       [10.54873872,  8.15015888,  7.34999284, 12.40876784,  9.38215771],\n",
              "       [14.52563963,  8.98076891, 10.73730649, 12.67580272,  8.97708627],\n",
              "       [14.43336799,  8.68951877, 10.44064867, 10.10225027,  7.2329072 ]])"
            ]
          },
          "metadata": {
            "tags": []
          },
          "execution_count": 18
        }
      ]
    },
    {
      "cell_type": "code",
      "metadata": {
        "colab": {
          "base_uri": "https://localhost:8080/"
        },
        "id": "f45at8DUPk0m",
        "outputId": "f2a20c03-4df1-4ea2-c376-9df7462aaa6a"
      },
      "source": [
        "np.sum(df2.values, axis=1)"
      ],
      "execution_count": null,
      "outputs": [
        {
          "output_type": "execute_result",
          "data": {
            "text/plain": [
              "array([4.29148329, 3.28109549, 4.39215557, 3.9219179 , 4.47708614,\n",
              "       4.07196552])"
            ]
          },
          "metadata": {
            "tags": []
          },
          "execution_count": 20
        }
      ]
    },
    {
      "cell_type": "code",
      "metadata": {
        "colab": {
          "base_uri": "https://localhost:8080/"
        },
        "id": "YpAAKI1mQT2O",
        "outputId": "0f0b236b-81a3-46ee-b57f-82ba33c2e947"
      },
      "source": [
        "a = np.array([1, 5, 6]) * 3    # [1,5,6] *   [3,3,3] = 3, 15, 18 \n",
        "print(a)"
      ],
      "execution_count": null,
      "outputs": [
        {
          "output_type": "stream",
          "text": [
            "[ 3 15 18]\n"
          ],
          "name": "stdout"
        }
      ]
    },
    {
      "cell_type": "code",
      "metadata": {
        "colab": {
          "base_uri": "https://localhost:8080/"
        },
        "id": "9gPBcu7vQv9-",
        "outputId": "5b9cc9b6-8975-47f0-d7b2-5ac90df12dc4"
      },
      "source": [
        "a = np.array([[1, 2, 3],[100,200,300]] )     /  np.array([3, 5]).reshape(-1,1)    \n",
        "print(a)"
      ],
      "execution_count": null,
      "outputs": [
        {
          "output_type": "stream",
          "text": [
            "[[ 0.33333333  0.66666667  1.        ]\n",
            " [20.         40.         60.        ]]\n"
          ],
          "name": "stdout"
        }
      ]
    },
    {
      "cell_type": "code",
      "metadata": {
        "colab": {
          "base_uri": "https://localhost:8080/"
        },
        "id": "9GTTY7aXSOAG",
        "outputId": "6dc47f6c-ebce-4c98-80a9-54da12941df4"
      },
      "source": [
        "result = np.matmul(df2.values, df.values) /  np.sum(df2.values, axis=1).reshape(-1, 1)\n",
        "print(result)"
      ],
      "execution_count": null,
      "outputs": [
        {
          "output_type": "stream",
          "text": [
            "[[3.54775799 2.32262239 2.51070809 2.86578347 1.75192423]\n",
            " [2.48324828 1.51378873 1.86397995 2.26571096 2.61809856]\n",
            " [3.10159224 2.26938573 2.06611117 3.07638174 2.13835869]\n",
            " [2.68968882 2.07810543 1.87408126 3.163954   2.39223715]\n",
            " [3.24444051 2.00594061 2.39828007 2.83126174 2.00511806]\n",
            " [3.54457029 2.13398634 2.5640317  2.48092726 1.77626927]]\n"
          ],
          "name": "stdout"
        }
      ]
    },
    {
      "cell_type": "code",
      "metadata": {
        "colab": {
          "base_uri": "https://localhost:8080/",
          "height": 235
        },
        "id": "hGU80PNkSjWv",
        "outputId": "122d0b14-0c35-46f0-8453-b017dc80fa0b"
      },
      "source": [
        "df"
      ],
      "execution_count": null,
      "outputs": [
        {
          "output_type": "execute_result",
          "data": {
            "text/html": [
              "<div>\n",
              "<style scoped>\n",
              "    .dataframe tbody tr th:only-of-type {\n",
              "        vertical-align: middle;\n",
              "    }\n",
              "\n",
              "    .dataframe tbody tr th {\n",
              "        vertical-align: top;\n",
              "    }\n",
              "\n",
              "    .dataframe thead th {\n",
              "        text-align: right;\n",
              "    }\n",
              "</style>\n",
              "<table border=\"1\" class=\"dataframe\">\n",
              "  <thead>\n",
              "    <tr style=\"text-align: right;\">\n",
              "      <th></th>\n",
              "      <th>공조</th>\n",
              "      <th>더킹</th>\n",
              "      <th>라라랜드</th>\n",
              "      <th>컨택트</th>\n",
              "      <th>너의이름</th>\n",
              "    </tr>\n",
              "  </thead>\n",
              "  <tbody>\n",
              "    <tr>\n",
              "      <th>재석</th>\n",
              "      <td>5</td>\n",
              "      <td>4</td>\n",
              "      <td>4</td>\n",
              "      <td>3</td>\n",
              "      <td>0</td>\n",
              "    </tr>\n",
              "    <tr>\n",
              "      <th>명수</th>\n",
              "      <td>1</td>\n",
              "      <td>0</td>\n",
              "      <td>1</td>\n",
              "      <td>0</td>\n",
              "      <td>4</td>\n",
              "    </tr>\n",
              "    <tr>\n",
              "      <th>하하</th>\n",
              "      <td>4</td>\n",
              "      <td>4</td>\n",
              "      <td>0</td>\n",
              "      <td>5</td>\n",
              "      <td>3</td>\n",
              "    </tr>\n",
              "    <tr>\n",
              "      <th>준하</th>\n",
              "      <td>0</td>\n",
              "      <td>2</td>\n",
              "      <td>1</td>\n",
              "      <td>4</td>\n",
              "      <td>3</td>\n",
              "    </tr>\n",
              "    <tr>\n",
              "      <th>세형</th>\n",
              "      <td>4</td>\n",
              "      <td>0</td>\n",
              "      <td>4</td>\n",
              "      <td>4</td>\n",
              "      <td>2</td>\n",
              "    </tr>\n",
              "    <tr>\n",
              "      <th>광희</th>\n",
              "      <td>4</td>\n",
              "      <td>2</td>\n",
              "      <td>3</td>\n",
              "      <td>0</td>\n",
              "      <td>1</td>\n",
              "    </tr>\n",
              "  </tbody>\n",
              "</table>\n",
              "</div>"
            ],
            "text/plain": [
              "    공조  더킹  라라랜드  컨택트  너의이름\n",
              "재석   5   4     4    3     0\n",
              "명수   1   0     1    0     4\n",
              "하하   4   4     0    5     3\n",
              "준하   0   2     1    4     3\n",
              "세형   4   0     4    4     2\n",
              "광희   4   2     3    0     1"
            ]
          },
          "metadata": {
            "tags": []
          },
          "execution_count": 30
        }
      ]
    },
    {
      "cell_type": "markdown",
      "metadata": {
        "id": "QjAPLIgvTnzq"
      },
      "source": [
        "# 협업필터링 정리"
      ]
    },
    {
      "cell_type": "code",
      "metadata": {
        "colab": {
          "base_uri": "https://localhost:8080/"
        },
        "id": "vr5mRlhUSwlv",
        "outputId": "835c585b-638d-4da6-a709-9d04965d8fcd"
      },
      "source": [
        "df = pd.read_csv(\"toy.csv\",header=None)\n",
        "distances = cosine_similarity(df)  #  유저별 가중치(신뢰도)\n",
        "result = np.matmul(distances, df.values) /  np.sum(distances, axis=1).reshape(-1, 1)   #  sum(가중치*평가점수)\n",
        "print(result)"
      ],
      "execution_count": null,
      "outputs": [
        {
          "output_type": "stream",
          "text": [
            "[[3.54775799 2.32262239 2.51070809 2.86578347 1.75192423]\n",
            " [2.48324828 1.51378873 1.86397995 2.26571096 2.61809856]\n",
            " [3.10159224 2.26938573 2.06611117 3.07638174 2.13835869]\n",
            " [2.68968882 2.07810543 1.87408126 3.163954   2.39223715]\n",
            " [3.24444051 2.00594061 2.39828007 2.83126174 2.00511806]\n",
            " [3.54457029 2.13398634 2.5640317  2.48092726 1.77626927]]\n"
          ],
          "name": "stdout"
        }
      ]
    },
    {
      "cell_type": "code",
      "metadata": {
        "id": "u_KdAbPJT8Mm"
      },
      "source": [
        "# 유저유사도 & 장르 모두 고려 추천 시스템\n",
        "\n",
        "\n",
        "A영화(드라마0.15)   B영화(animation), 0.8    C영화(공포, 0.05) \n",
        "3.5      2.1      4.5\n",
        "\n",
        "\n",
        "3.5/5   2.1/5     4.5/5\n",
        "\n",
        "u = 유저유사도 0 ~ 1값\n",
        "g = 장르       0 ~ 1값\n",
        "\n",
        "p = (0.5)u + (0.5)g \n",
        "\n",
        "\n",
        "\n",
        "\n",
        "\n",
        "\n",
        "\n"
      ],
      "execution_count": null,
      "outputs": []
    }
  ]
}