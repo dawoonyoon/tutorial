{
 "cells": [
  {
   "cell_type": "code",
   "execution_count": 66,
   "id": "0ae17fd1",
   "metadata": {},
   "outputs": [],
   "source": [
    "from xgboost import XGBClassifier"
   ]
  },
  {
   "cell_type": "code",
   "execution_count": null,
   "id": "668a9927",
   "metadata": {},
   "outputs": [],
   "source": [
    "xg = XGBClassifier()"
   ]
  },
  {
   "cell_type": "markdown",
   "id": "ba028ce4",
   "metadata": {},
   "source": [
    "- binary:logistic : 이진 분류를 위한 로지스틱 회귀, 예측된 확률을 반환한다. (not class)\n",
    "- multi:softmax : softmax를 사용한 다중 클래스 분류, 예측된 클래스를 반환한다. (not probabilities)\n",
    "- multi:softprob : softmax와 같지만 각 클래스에 대한 예상 확률을 반환한다."
   ]
  },
  {
   "cell_type": "markdown",
   "id": "5d1d671a",
   "metadata": {},
   "source": [
    "Booster Parameters\n",
    "> eta [default=0.3] => learning_rate\n",
    "- GBM의 학습 속도와 유사.\n",
    "- 각 단계에서 가중치를 줄임으로써 모델을 더 강건하게 만든다.\n",
    "- 일반적으로 0.01-0.2\n",
    "> min_child_weight [default=1] (Should be tuned using CV)\n",
    "- child의 관측에서 요구되는 최소 가중치의 합\n",
    "- over-fitting vs under-fitting을 조정하기 위한 파라미터.\n",
    "- 너무 큰 값이 주어지면 under-fitting.\n",
    "> max_depth [default=6] (Should be tuned using CV)\n",
    "- 트리의 최대 깊이.\n",
    "- 일반적으로 3-10\n",
    "> max_leaf_nodes\n",
    "- 최종 노드의 최대 개수. (max number of terminal nodes)\n",
    "- 이진 트리가 생성되기 때문에 max_depth가 6이면 max_leaf_nodes는 2^6개가 됨.\n",
    "> gamma [default=0]\n",
    "- 분할을 수행하는데 필요한 최소 손실 감소를 지정한다.\n",
    "- 알고리즘을 보수적으로 만든다. loss function에 따라 조정해야 한다.\n",
    "> subsample [default=1]\n",
    "- 각 트리마다의 관측 데이터 샘플링 비율.\n",
    "- 값을 적게 주면 over-fitting을 방지하지만 값을 너무 작게 주면 under-fitting.\n",
    "- 일반적으로 0.5-1\n",
    "> colsample_bytree [default=1]\n",
    "- 각 트리마다의 feature 샘플링 비율.\n",
    "- 일반적으로 0.5-1\n",
    "> lambda [default=1] => reg_lambda\n",
    "- 가중치에 대한 L2 정규화 용어 (Ridge 회귀 분석과 유사(?))\n",
    "> alpha [default=0] => reg_alpha\n",
    "- 가중치에 대한 L1 정규화 용어 (Lasso 회귀 분석과 유사(?))\n",
    "> scale_pos_weight [default=1]\n",
    "- 불균형한 경우 더 빠른 수렴(convergence)에 도움되므로 0보다 큰 값을 쓸것."
   ]
  }
 ],
 "metadata": {
  "kernelspec": {
   "display_name": "Python 3",
   "language": "python",
   "name": "python3"
  },
  "language_info": {
   "codemirror_mode": {
    "name": "ipython",
    "version": 3
   },
   "file_extension": ".py",
   "mimetype": "text/x-python",
   "name": "python",
   "nbconvert_exporter": "python",
   "pygments_lexer": "ipython3",
   "version": "3.8.8"
  }
 },
 "nbformat": 4,
 "nbformat_minor": 5
}
