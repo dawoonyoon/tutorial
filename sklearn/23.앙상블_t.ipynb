{
 "cells": [
  {
   "cell_type": "markdown",
   "id": "48337cff",
   "metadata": {},
   "source": [
    "## 앙상블 학습의 유형: 보팅(Voting), 배깅(Bagging), 부스팅(Boosting), 스태킹(Stacking) 등\n",
    "\n",
    "#### 보팅: \n",
    "- 여러 종류의 알고리즘을 사용한 각각의 결과에 대해 투표를 통해 최종 결과를 예측하는 방식\n",
    "\n",
    "#### 배깅\n",
    "- bagging은 bootstrap aggregating의 줄임말\n",
    "- bootstrap:모집단의 성질에 대해 표본을 통해 추정할 수 있는 것처럼, 표본의 성질에 대해서도 재표집(resampling)을 통해 추정할 수 있다는 것이다. 즉 주어진 표본(샘플)에 대해서, 그 샘플에서 또 다시 샘플(재표본)을 여러번(1,000~10,000번, 혹은 그 이상)추출하여 표본의 평균이나 분산 등이 어떤 분포를 가지는가를 알아낼 수 있다.(위키피디아)\n",
    "- 같은 알고리즘에 대해 데이터 샘플을 다르게 두고 학습을 수행해 보팅을 수행하는 방식\n",
    "- 이 때의 데이터 샘플은 중첩이 허용된다. 즉 10000개의 데이터에 대해 10개의 알고리즘이 배깅을 사용할 때,각 1000개의 데이터 내에는 중복된 데이터가 존재할 수 있다. 배깅의 대표적인 방식이 Random Forest\n",
    "\n",
    "#### 부스팅:\n",
    "- 여러 개의 알고리즘이 순차적으로 학습을 하되, 앞에 학습한 알고리즘 예측이 틀린 데이터에 대해 올바르게 예측할 수 있도록, \n",
    "그 다음번 알고리즘에 가중치(Ada)를 부여하여 학습과 예측을 진행하는 방식\n",
    "잔여오차를 다시학습(gradient)\n",
    "\n",
    "\n",
    "\n",
    "( 부스팅 알고리즘은 대표적으로 아래와 같은 알고리즘들이 있음)\n",
    "- AdaBoost\n",
    "- Gradient Booting Machine(GBM)\n",
    "- XGBoost\n",
    "- LightGBM\n",
    "- CatBoost\n"
   ]
  },
  {
   "cell_type": "code",
   "execution_count": 1,
   "id": "fd4cf3af",
   "metadata": {},
   "outputs": [],
   "source": [
    "import pandas as pd\n",
    "\n",
    "from sklearn.ensemble import VotingClassifier\n",
    "\n",
    "from sklearn.linear_model import LogisticRegression\n",
    "from sklearn.neighbors import KNeighborsClassifier\n",
    "from sklearn.tree import DecisionTreeClassifier\n",
    "\n",
    "from sklearn.datasets import load_breast_cancer\n",
    "from sklearn.model_selection import train_test_split\n",
    "from sklearn.metrics import accuracy_score\n",
    "\n",
    "from warnings import filterwarnings\n",
    "filterwarnings('ignore')"
   ]
  },
  {
   "cell_type": "code",
   "execution_count": 2,
   "id": "a6ba75cd",
   "metadata": {},
   "outputs": [],
   "source": [
    "cancer = load_breast_cancer()"
   ]
  },
  {
   "cell_type": "code",
   "execution_count": 4,
   "id": "4efe096e",
   "metadata": {},
   "outputs": [
    {
     "data": {
      "text/plain": [
       "dict_keys(['data', 'target', 'frame', 'target_names', 'DESCR', 'feature_names', 'filename'])"
      ]
     },
     "execution_count": 4,
     "metadata": {},
     "output_type": "execute_result"
    }
   ],
   "source": [
    "cancer.keys()"
   ]
  },
  {
   "cell_type": "code",
   "execution_count": 5,
   "id": "abcc1d34",
   "metadata": {},
   "outputs": [],
   "source": [
    "x_data = cancer['data']\n",
    "y_data = cancer['target']"
   ]
  },
  {
   "cell_type": "code",
   "execution_count": 6,
   "id": "429d90c9",
   "metadata": {},
   "outputs": [],
   "source": [
    "x_train, x_test, y_train, y_test = train_test_split( x_data, y_data, test_size=0.2, \n",
    "                                                    stratify=y_data , random_state=1)"
   ]
  },
  {
   "cell_type": "code",
   "execution_count": 7,
   "id": "5674a2d7",
   "metadata": {},
   "outputs": [],
   "source": [
    "model_logi = LogisticRegression()\n",
    "model_knn = KNeighborsClassifier()\n",
    "model_tree = DecisionTreeClassifier()"
   ]
  },
  {
   "cell_type": "code",
   "execution_count": 8,
   "id": "6a10c6e9",
   "metadata": {},
   "outputs": [],
   "source": [
    "model_vote=VotingClassifier( estimators=[('logi', model_logi),('knn', model_knn),('tree', model_tree) ] )"
   ]
  },
  {
   "cell_type": "code",
   "execution_count": 9,
   "id": "61a725fa",
   "metadata": {},
   "outputs": [
    {
     "data": {
      "text/plain": [
       "VotingClassifier(estimators=[('logi', LogisticRegression()),\n",
       "                             ('knn', KNeighborsClassifier()),\n",
       "                             ('tree', DecisionTreeClassifier())])"
      ]
     },
     "execution_count": 9,
     "metadata": {},
     "output_type": "execute_result"
    }
   ],
   "source": [
    "model_vote.fit( x_train, y_train)"
   ]
  },
  {
   "cell_type": "code",
   "execution_count": 12,
   "id": "cd66f4ad",
   "metadata": {
    "collapsed": true
   },
   "outputs": [
    {
     "data": {
      "text/plain": [
       "LogisticRegression()"
      ]
     },
     "execution_count": 12,
     "metadata": {},
     "output_type": "execute_result"
    }
   ],
   "source": [
    "model_logi.fit( x_train, y_train)"
   ]
  },
  {
   "cell_type": "code",
   "execution_count": 14,
   "id": "884f56f7",
   "metadata": {},
   "outputs": [
    {
     "data": {
      "text/plain": [
       "KNeighborsClassifier()"
      ]
     },
     "execution_count": 14,
     "metadata": {},
     "output_type": "execute_result"
    }
   ],
   "source": [
    "model_knn.fit(x_train, y_train)"
   ]
  },
  {
   "cell_type": "code",
   "execution_count": 13,
   "id": "80bf34b6",
   "metadata": {
    "collapsed": true
   },
   "outputs": [
    {
     "data": {
      "text/plain": [
       "array([1, 0, 1, 1, 0, 1, 1, 1, 0, 1, 1, 1, 1, 0, 1, 1, 1, 0, 1, 0, 1, 1,\n",
       "       1, 1, 1, 0, 0, 1, 0, 0, 0, 0, 0, 0, 1, 0, 1, 0, 0, 1, 1, 1, 0, 0,\n",
       "       0, 0, 0, 1, 1, 1, 1, 1, 1, 0, 0, 0, 1, 1, 1, 1, 1, 1, 1, 1, 0, 1,\n",
       "       1, 1, 0, 1, 0, 1, 1, 0, 1, 1, 0, 1, 1, 1, 0, 1, 1, 0, 1, 1, 1, 0,\n",
       "       1, 1, 1, 0, 1, 1, 1, 1, 0, 1, 0, 1, 1, 0, 1, 1, 0, 1, 1, 1, 1, 1,\n",
       "       0, 0, 0, 1])"
      ]
     },
     "execution_count": 13,
     "metadata": {},
     "output_type": "execute_result"
    }
   ],
   "source": [
    "model_logi.predict( x_test)"
   ]
  },
  {
   "cell_type": "code",
   "execution_count": 16,
   "id": "1d226c48",
   "metadata": {},
   "outputs": [
    {
     "data": {
      "text/plain": [
       "0.956140350877193"
      ]
     },
     "execution_count": 16,
     "metadata": {},
     "output_type": "execute_result"
    }
   ],
   "source": [
    "model_logi.score( x_test, y_test)"
   ]
  },
  {
   "cell_type": "code",
   "execution_count": 15,
   "id": "9e70d30b",
   "metadata": {
    "collapsed": true
   },
   "outputs": [
    {
     "data": {
      "text/plain": [
       "array([1, 0, 1, 1, 0, 1, 1, 1, 0, 1, 1, 1, 1, 0, 1, 1, 1, 0, 1, 0, 1, 0,\n",
       "       1, 1, 1, 0, 0, 1, 0, 0, 0, 0, 0, 0, 1, 0, 1, 0, 0, 1, 1, 1, 0, 0,\n",
       "       0, 0, 0, 1, 1, 1, 1, 1, 1, 0, 0, 0, 1, 1, 1, 1, 1, 0, 1, 1, 1, 1,\n",
       "       1, 1, 0, 1, 0, 1, 1, 1, 1, 1, 0, 1, 1, 1, 0, 1, 1, 0, 1, 1, 1, 0,\n",
       "       1, 1, 1, 0, 1, 1, 1, 1, 0, 1, 0, 1, 1, 0, 1, 1, 0, 1, 1, 1, 1, 1,\n",
       "       0, 0, 0, 1])"
      ]
     },
     "execution_count": 15,
     "metadata": {},
     "output_type": "execute_result"
    }
   ],
   "source": [
    "model_knn.predict( x_test)"
   ]
  },
  {
   "cell_type": "code",
   "execution_count": 17,
   "id": "495c760d",
   "metadata": {
    "collapsed": true
   },
   "outputs": [
    {
     "data": {
      "text/plain": [
       "0.956140350877193"
      ]
     },
     "execution_count": 17,
     "metadata": {},
     "output_type": "execute_result"
    }
   ],
   "source": [
    "model_knn.score( x_test, y_test)"
   ]
  },
  {
   "cell_type": "code",
   "execution_count": 10,
   "id": "d2945b43",
   "metadata": {
    "collapsed": true
   },
   "outputs": [
    {
     "data": {
      "text/plain": [
       "array([1, 0, 1, 1, 0, 1, 1, 1, 0, 1, 1, 1, 1, 0, 1, 1, 1, 0, 1, 0, 1, 1,\n",
       "       1, 1, 1, 0, 0, 1, 0, 0, 0, 0, 0, 0, 1, 0, 1, 0, 0, 1, 1, 1, 0, 0,\n",
       "       0, 0, 0, 1, 1, 1, 1, 1, 1, 0, 0, 0, 1, 1, 1, 1, 1, 1, 1, 1, 0, 1,\n",
       "       1, 1, 0, 1, 0, 1, 1, 1, 1, 1, 0, 1, 1, 1, 0, 1, 1, 0, 1, 1, 1, 0,\n",
       "       1, 1, 1, 0, 1, 1, 1, 1, 0, 1, 0, 1, 1, 0, 1, 1, 0, 1, 1, 1, 1, 1,\n",
       "       0, 0, 0, 1])"
      ]
     },
     "execution_count": 10,
     "metadata": {},
     "output_type": "execute_result"
    }
   ],
   "source": [
    "model_vote.predict( x_test )"
   ]
  },
  {
   "cell_type": "code",
   "execution_count": 18,
   "id": "9bdc1ff9",
   "metadata": {},
   "outputs": [
    {
     "data": {
      "text/plain": [
       "0.9649122807017544"
      ]
     },
     "execution_count": 18,
     "metadata": {},
     "output_type": "execute_result"
    }
   ],
   "source": [
    "model_vote.score( x_test, y_test)"
   ]
  },
  {
   "cell_type": "code",
   "execution_count": 20,
   "id": "79335791",
   "metadata": {},
   "outputs": [],
   "source": [
    "p =model_vote.predict( x_test )"
   ]
  },
  {
   "cell_type": "code",
   "execution_count": 22,
   "id": "e5fa7f1e",
   "metadata": {},
   "outputs": [
    {
     "data": {
      "text/plain": [
       "0.9649122807017544"
      ]
     },
     "execution_count": 22,
     "metadata": {},
     "output_type": "execute_result"
    }
   ],
   "source": [
    "( y_test == p ).mean()"
   ]
  },
  {
   "cell_type": "code",
   "execution_count": 19,
   "id": "0d7f6a43",
   "metadata": {},
   "outputs": [
    {
     "name": "stdout",
     "output_type": "stream",
     "text": [
      "LogisticRegression 0.956140350877193\n",
      "KNeighborsClassifier 0.956140350877193\n",
      "DecisionTreeClassifier 0.9473684210526315\n"
     ]
    }
   ],
   "source": [
    "for c in [model_logi, model_knn, model_tree]:\n",
    "    c.fit( x_train, y_train)\n",
    "    print( c.__class__.__name__, c.score( x_test, y_test))"
   ]
  },
  {
   "cell_type": "code",
   "execution_count": null,
   "id": "6dbecd81",
   "metadata": {},
   "outputs": [],
   "source": [
    "# 와인데이터셋에 대해 3개의 분류 클래스를 이용하고 soft voting 으로 정확도를 구하시요.\n",
    "10:53 분에 1조 제출"
   ]
  },
  {
   "cell_type": "code",
   "execution_count": 23,
   "id": "8c936750",
   "metadata": {},
   "outputs": [],
   "source": [
    "from sklearn.datasets import load_wine\n",
    "wine = load_wine()\n",
    "x_data = wine['data']\n",
    "y_data = wine['target']"
   ]
  },
  {
   "cell_type": "code",
   "execution_count": 24,
   "id": "7223a8bb",
   "metadata": {},
   "outputs": [],
   "source": [
    "x_train, x_test, y_train, y_test = train_test_split(x_data, y_data, test_size=0.2,\n",
    "                                                    stratify=y_data, random_state=1 )"
   ]
  },
  {
   "cell_type": "code",
   "execution_count": 30,
   "id": "d0b2eb05",
   "metadata": {},
   "outputs": [],
   "source": [
    "from sklearn.pipeline import make_pipeline\n",
    "from sklearn.preprocessing import StandardScaler"
   ]
  },
  {
   "cell_type": "code",
   "execution_count": 32,
   "id": "483745e2",
   "metadata": {},
   "outputs": [],
   "source": [
    "# 로지스틱, knn, decision tree 모델 객체 생성\n",
    "model_logi = make_pipeline( StandardScaler(),  LogisticRegression() )\n",
    "model_knn =  make_pipeline( StandardScaler(), KNeighborsClassifier() )\n",
    "model_tree = make_pipeline( StandardScaler(),  DecisionTreeClassifier() )"
   ]
  },
  {
   "cell_type": "code",
   "execution_count": 33,
   "id": "bc09bbf5",
   "metadata": {
    "collapsed": true
   },
   "outputs": [
    {
     "data": {
      "text/plain": [
       "VotingClassifier(estimators=[('logi',\n",
       "                              Pipeline(steps=[('standardscaler',\n",
       "                                               StandardScaler()),\n",
       "                                              ('logisticregression',\n",
       "                                               LogisticRegression())])),\n",
       "                             ('knn',\n",
       "                              Pipeline(steps=[('standardscaler',\n",
       "                                               StandardScaler()),\n",
       "                                              ('kneighborsclassifier',\n",
       "                                               KNeighborsClassifier())])),\n",
       "                             ('tree',\n",
       "                              Pipeline(steps=[('standardscaler',\n",
       "                                               StandardScaler()),\n",
       "                                              ('decisiontreeclassifier',\n",
       "                                               DecisionTreeClassifier())]))],\n",
       "                 voting='soft')"
      ]
     },
     "execution_count": 33,
     "metadata": {},
     "output_type": "execute_result"
    }
   ],
   "source": [
    "model_vote=VotingClassifier(estimators=[('logi',model_logi),('knn', model_knn),('tree',model_tree)],\n",
    "                            voting='soft')\n",
    "model_vote.fit(x_train, y_train)"
   ]
  },
  {
   "cell_type": "code",
   "execution_count": 34,
   "id": "ad78fabe",
   "metadata": {},
   "outputs": [
    {
     "data": {
      "text/plain": [
       "1.0"
      ]
     },
     "execution_count": 34,
     "metadata": {},
     "output_type": "execute_result"
    }
   ],
   "source": [
    "model_vote.score( x_test, y_test)"
   ]
  }
 ],
 "metadata": {
  "kernelspec": {
   "display_name": "Python 3",
   "language": "python",
   "name": "python3"
  },
  "language_info": {
   "codemirror_mode": {
    "name": "ipython",
    "version": 3
   },
   "file_extension": ".py",
   "mimetype": "text/x-python",
   "name": "python",
   "nbconvert_exporter": "python",
   "pygments_lexer": "ipython3",
   "version": "3.8.8"
  }
 },
 "nbformat": 4,
 "nbformat_minor": 5
}
