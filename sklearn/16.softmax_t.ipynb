{
 "cells": [
  {
   "cell_type": "code",
   "execution_count": 1,
   "id": "4f982a7e",
   "metadata": {},
   "outputs": [],
   "source": [
    "import numpy as np"
   ]
  },
  {
   "cell_type": "code",
   "execution_count": 2,
   "id": "e42cbabf",
   "metadata": {},
   "outputs": [],
   "source": [
    "def fn(x):\n",
    "    print( x/x.sum())"
   ]
  },
  {
   "cell_type": "code",
   "execution_count": 4,
   "id": "969043de",
   "metadata": {},
   "outputs": [],
   "source": [
    "def softmax( x ):\n",
    "    e = np.exp(x)\n",
    "    print( e )\n",
    "    print( e/np.sum(e) )"
   ]
  },
  {
   "cell_type": "code",
   "execution_count": 5,
   "id": "0eb0643d",
   "metadata": {},
   "outputs": [
    {
     "name": "stdout",
     "output_type": "stream",
     "text": [
      "[7.3890561  2.71828183 1.10517092]\n",
      "[0.65900114 0.24243297 0.09856589]\n"
     ]
    }
   ],
   "source": [
    "a = np.array( [2.0, 1.0, 0.1])\n",
    "# fn(a)\n",
    "softmax( a )"
   ]
  }
 ],
 "metadata": {
  "kernelspec": {
   "display_name": "Python 3",
   "language": "python",
   "name": "python3"
  },
  "language_info": {
   "codemirror_mode": {
    "name": "ipython",
    "version": 3
   },
   "file_extension": ".py",
   "mimetype": "text/x-python",
   "name": "python",
   "nbconvert_exporter": "python",
   "pygments_lexer": "ipython3",
   "version": "3.8.8"
  }
 },
 "nbformat": 4,
 "nbformat_minor": 5
}
