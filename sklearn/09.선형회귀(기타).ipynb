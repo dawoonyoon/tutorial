{
 "cells": [
  {
   "cell_type": "code",
   "execution_count": 20,
   "id": "6d4805fb",
   "metadata": {},
   "outputs": [],
   "source": [
    "import pandas as pd\n",
    "import numpy as np\n",
    "import seaborn as sns\n",
    "from sklearn.datasets import load_boston, load_iris\n",
    "\n",
    "from sklearn.linear_model import Ridge,Lasso,ElasticNet, LinearRegression\n",
    "from sklearn.preprocessing import PolynomialFeatures\n",
    "from sklearn.pipeline import make_pipeline, Pipeline\n",
    "\n",
    "from sklearn.preprocessing import StandardScaler\n",
    "\n",
    "from sklearn.neural_network import MLPRegressor\n",
    "from sklearn.model_selection import train_test_split\n",
    "from sklearn.model_selection import GridSearchCV\n",
    "from sklearn.model_selection import cross_val_score\n",
    "\n",
    "import mglearn\n",
    "import matplotlib.pyplot as plt\n",
    "import matplotlib\n",
    "matplotlib.rcParams['font.family']='Malgun Gothic'\n",
    "matplotlib.rcParams['axes.unicode_minus'] = False\n",
    "\n",
    "import warnings\n",
    "warnings.simplefilter('ignore')\n"
   ]
  },
  {
   "cell_type": "markdown",
   "id": "2d8858c4",
   "metadata": {},
   "source": [
    "## 릿지 회귀(Ridge Regression) L2규제\n",
    "\n",
    "* 릿지 회귀는 선형 회귀를 개선한 선형 모델\n",
    "* 릿지 회귀는 선형 회귀와 비슷하지만, 가중치의 값을 최대한 작게 만든다는 것이 다름\n",
    "* 이러한 방법은 각각의 특성(feature)이 출력 값에 주는 영향을 최소한으로 만들도록 규제(regularization)를 거는 것\n",
    "* 규제를 사용하면 다중공선성(multicollinearity) 문제를 방지하기 때문에 모델의 과대적합을 막을 수 있게 됨\n",
    "* 다중공선성 문제는 두 특성이 일치에 가까울 정도로 관련성(상관관계)이 높을 경우 발생\n",
    "* 릿지 회귀는 다음과 같은 함수를 최소화 하는 파라미터 $w$를 찾음\n",
    "* α=0이면 릿지회귀는 선형회귀와 같아지고, α가 커질수록 모든 가중치가 0에 가까워져 결국 데이터의 평균을 지나는 수평선이 된다.\n",
    "\n",
    "\\begin{equation}\n",
    "RidgeMSE = \\frac{1}{N} \\sum_{i=1}^{N}(y_i - \\hat{y}_i)^2 + \\alpha \\sum_{i=1}^{p} w_i^2\n",
    "\\end{equation}\n",
    "\n",
    "  + $\\alpha$: 사용자가 지정하는 매개변수\n",
    "  * $\\alpha$가 크면 규제의 효과가 커지고, $\\alpha$가 작으면 규제의 효과가 작아짐\n",
    "  * p:특성의갯수\n"
   ]
  },
  {
   "cell_type": "code",
   "execution_count": 3,
   "id": "338444cd",
   "metadata": {},
   "outputs": [],
   "source": [
    "boston = load_boston()"
   ]
  },
  {
   "cell_type": "code",
   "execution_count": 4,
   "id": "3602c91c",
   "metadata": {},
   "outputs": [
    {
     "data": {
      "text/html": [
       "<div>\n",
       "<style scoped>\n",
       "    .dataframe tbody tr th:only-of-type {\n",
       "        vertical-align: middle;\n",
       "    }\n",
       "\n",
       "    .dataframe tbody tr th {\n",
       "        vertical-align: top;\n",
       "    }\n",
       "\n",
       "    .dataframe thead th {\n",
       "        text-align: right;\n",
       "    }\n",
       "</style>\n",
       "<table border=\"1\" class=\"dataframe\">\n",
       "  <thead>\n",
       "    <tr style=\"text-align: right;\">\n",
       "      <th></th>\n",
       "      <th>CRIM</th>\n",
       "      <th>ZN</th>\n",
       "      <th>INDUS</th>\n",
       "      <th>CHAS</th>\n",
       "      <th>NOX</th>\n",
       "      <th>RM</th>\n",
       "      <th>AGE</th>\n",
       "      <th>DIS</th>\n",
       "      <th>RAD</th>\n",
       "      <th>TAX</th>\n",
       "      <th>PTRATIO</th>\n",
       "      <th>B</th>\n",
       "      <th>LSTAT</th>\n",
       "      <th>MEDV</th>\n",
       "    </tr>\n",
       "  </thead>\n",
       "  <tbody>\n",
       "    <tr>\n",
       "      <th>0</th>\n",
       "      <td>0.00632</td>\n",
       "      <td>18.0</td>\n",
       "      <td>2.31</td>\n",
       "      <td>0.0</td>\n",
       "      <td>0.538</td>\n",
       "      <td>6.575</td>\n",
       "      <td>65.2</td>\n",
       "      <td>4.0900</td>\n",
       "      <td>1.0</td>\n",
       "      <td>296.0</td>\n",
       "      <td>15.3</td>\n",
       "      <td>396.90</td>\n",
       "      <td>4.98</td>\n",
       "      <td>24.0</td>\n",
       "    </tr>\n",
       "    <tr>\n",
       "      <th>1</th>\n",
       "      <td>0.02731</td>\n",
       "      <td>0.0</td>\n",
       "      <td>7.07</td>\n",
       "      <td>0.0</td>\n",
       "      <td>0.469</td>\n",
       "      <td>6.421</td>\n",
       "      <td>78.9</td>\n",
       "      <td>4.9671</td>\n",
       "      <td>2.0</td>\n",
       "      <td>242.0</td>\n",
       "      <td>17.8</td>\n",
       "      <td>396.90</td>\n",
       "      <td>9.14</td>\n",
       "      <td>21.6</td>\n",
       "    </tr>\n",
       "    <tr>\n",
       "      <th>2</th>\n",
       "      <td>0.02729</td>\n",
       "      <td>0.0</td>\n",
       "      <td>7.07</td>\n",
       "      <td>0.0</td>\n",
       "      <td>0.469</td>\n",
       "      <td>7.185</td>\n",
       "      <td>61.1</td>\n",
       "      <td>4.9671</td>\n",
       "      <td>2.0</td>\n",
       "      <td>242.0</td>\n",
       "      <td>17.8</td>\n",
       "      <td>392.83</td>\n",
       "      <td>4.03</td>\n",
       "      <td>34.7</td>\n",
       "    </tr>\n",
       "    <tr>\n",
       "      <th>3</th>\n",
       "      <td>0.03237</td>\n",
       "      <td>0.0</td>\n",
       "      <td>2.18</td>\n",
       "      <td>0.0</td>\n",
       "      <td>0.458</td>\n",
       "      <td>6.998</td>\n",
       "      <td>45.8</td>\n",
       "      <td>6.0622</td>\n",
       "      <td>3.0</td>\n",
       "      <td>222.0</td>\n",
       "      <td>18.7</td>\n",
       "      <td>394.63</td>\n",
       "      <td>2.94</td>\n",
       "      <td>33.4</td>\n",
       "    </tr>\n",
       "    <tr>\n",
       "      <th>4</th>\n",
       "      <td>0.06905</td>\n",
       "      <td>0.0</td>\n",
       "      <td>2.18</td>\n",
       "      <td>0.0</td>\n",
       "      <td>0.458</td>\n",
       "      <td>7.147</td>\n",
       "      <td>54.2</td>\n",
       "      <td>6.0622</td>\n",
       "      <td>3.0</td>\n",
       "      <td>222.0</td>\n",
       "      <td>18.7</td>\n",
       "      <td>396.90</td>\n",
       "      <td>5.33</td>\n",
       "      <td>36.2</td>\n",
       "    </tr>\n",
       "    <tr>\n",
       "      <th>...</th>\n",
       "      <td>...</td>\n",
       "      <td>...</td>\n",
       "      <td>...</td>\n",
       "      <td>...</td>\n",
       "      <td>...</td>\n",
       "      <td>...</td>\n",
       "      <td>...</td>\n",
       "      <td>...</td>\n",
       "      <td>...</td>\n",
       "      <td>...</td>\n",
       "      <td>...</td>\n",
       "      <td>...</td>\n",
       "      <td>...</td>\n",
       "      <td>...</td>\n",
       "    </tr>\n",
       "    <tr>\n",
       "      <th>501</th>\n",
       "      <td>0.06263</td>\n",
       "      <td>0.0</td>\n",
       "      <td>11.93</td>\n",
       "      <td>0.0</td>\n",
       "      <td>0.573</td>\n",
       "      <td>6.593</td>\n",
       "      <td>69.1</td>\n",
       "      <td>2.4786</td>\n",
       "      <td>1.0</td>\n",
       "      <td>273.0</td>\n",
       "      <td>21.0</td>\n",
       "      <td>391.99</td>\n",
       "      <td>9.67</td>\n",
       "      <td>22.4</td>\n",
       "    </tr>\n",
       "    <tr>\n",
       "      <th>502</th>\n",
       "      <td>0.04527</td>\n",
       "      <td>0.0</td>\n",
       "      <td>11.93</td>\n",
       "      <td>0.0</td>\n",
       "      <td>0.573</td>\n",
       "      <td>6.120</td>\n",
       "      <td>76.7</td>\n",
       "      <td>2.2875</td>\n",
       "      <td>1.0</td>\n",
       "      <td>273.0</td>\n",
       "      <td>21.0</td>\n",
       "      <td>396.90</td>\n",
       "      <td>9.08</td>\n",
       "      <td>20.6</td>\n",
       "    </tr>\n",
       "    <tr>\n",
       "      <th>503</th>\n",
       "      <td>0.06076</td>\n",
       "      <td>0.0</td>\n",
       "      <td>11.93</td>\n",
       "      <td>0.0</td>\n",
       "      <td>0.573</td>\n",
       "      <td>6.976</td>\n",
       "      <td>91.0</td>\n",
       "      <td>2.1675</td>\n",
       "      <td>1.0</td>\n",
       "      <td>273.0</td>\n",
       "      <td>21.0</td>\n",
       "      <td>396.90</td>\n",
       "      <td>5.64</td>\n",
       "      <td>23.9</td>\n",
       "    </tr>\n",
       "    <tr>\n",
       "      <th>504</th>\n",
       "      <td>0.10959</td>\n",
       "      <td>0.0</td>\n",
       "      <td>11.93</td>\n",
       "      <td>0.0</td>\n",
       "      <td>0.573</td>\n",
       "      <td>6.794</td>\n",
       "      <td>89.3</td>\n",
       "      <td>2.3889</td>\n",
       "      <td>1.0</td>\n",
       "      <td>273.0</td>\n",
       "      <td>21.0</td>\n",
       "      <td>393.45</td>\n",
       "      <td>6.48</td>\n",
       "      <td>22.0</td>\n",
       "    </tr>\n",
       "    <tr>\n",
       "      <th>505</th>\n",
       "      <td>0.04741</td>\n",
       "      <td>0.0</td>\n",
       "      <td>11.93</td>\n",
       "      <td>0.0</td>\n",
       "      <td>0.573</td>\n",
       "      <td>6.030</td>\n",
       "      <td>80.8</td>\n",
       "      <td>2.5050</td>\n",
       "      <td>1.0</td>\n",
       "      <td>273.0</td>\n",
       "      <td>21.0</td>\n",
       "      <td>396.90</td>\n",
       "      <td>7.88</td>\n",
       "      <td>11.9</td>\n",
       "    </tr>\n",
       "  </tbody>\n",
       "</table>\n",
       "<p>506 rows × 14 columns</p>\n",
       "</div>"
      ],
      "text/plain": [
       "        CRIM    ZN  INDUS  CHAS    NOX     RM   AGE     DIS  RAD    TAX  \\\n",
       "0    0.00632  18.0   2.31   0.0  0.538  6.575  65.2  4.0900  1.0  296.0   \n",
       "1    0.02731   0.0   7.07   0.0  0.469  6.421  78.9  4.9671  2.0  242.0   \n",
       "2    0.02729   0.0   7.07   0.0  0.469  7.185  61.1  4.9671  2.0  242.0   \n",
       "3    0.03237   0.0   2.18   0.0  0.458  6.998  45.8  6.0622  3.0  222.0   \n",
       "4    0.06905   0.0   2.18   0.0  0.458  7.147  54.2  6.0622  3.0  222.0   \n",
       "..       ...   ...    ...   ...    ...    ...   ...     ...  ...    ...   \n",
       "501  0.06263   0.0  11.93   0.0  0.573  6.593  69.1  2.4786  1.0  273.0   \n",
       "502  0.04527   0.0  11.93   0.0  0.573  6.120  76.7  2.2875  1.0  273.0   \n",
       "503  0.06076   0.0  11.93   0.0  0.573  6.976  91.0  2.1675  1.0  273.0   \n",
       "504  0.10959   0.0  11.93   0.0  0.573  6.794  89.3  2.3889  1.0  273.0   \n",
       "505  0.04741   0.0  11.93   0.0  0.573  6.030  80.8  2.5050  1.0  273.0   \n",
       "\n",
       "     PTRATIO       B  LSTAT  MEDV  \n",
       "0       15.3  396.90   4.98  24.0  \n",
       "1       17.8  396.90   9.14  21.6  \n",
       "2       17.8  392.83   4.03  34.7  \n",
       "3       18.7  394.63   2.94  33.4  \n",
       "4       18.7  396.90   5.33  36.2  \n",
       "..       ...     ...    ...   ...  \n",
       "501     21.0  391.99   9.67  22.4  \n",
       "502     21.0  396.90   9.08  20.6  \n",
       "503     21.0  396.90   5.64  23.9  \n",
       "504     21.0  393.45   6.48  22.0  \n",
       "505     21.0  396.90   7.88  11.9  \n",
       "\n",
       "[506 rows x 14 columns]"
      ]
     },
     "execution_count": 4,
     "metadata": {},
     "output_type": "execute_result"
    }
   ],
   "source": [
    "boston_df = pd.DataFrame(  boston['data'],columns=boston['feature_names'])\n",
    "boston_df['MEDV'] =boston.target\n",
    "boston_df"
   ]
  },
  {
   "cell_type": "code",
   "execution_count": 5,
   "id": "aa2d579a",
   "metadata": {},
   "outputs": [],
   "source": [
    "x_data = boston_df.iloc[:,:-1]\n",
    "y_data = boston_df.iloc[:,-1]"
   ]
  },
  {
   "cell_type": "code",
   "execution_count": 6,
   "id": "4bdd74e7",
   "metadata": {},
   "outputs": [],
   "source": [
    "x_train, x_test, y_train, y_test = train_test_split(x_data, y_data, \n",
    "                                test_size=0.2,random_state=1)"
   ]
  },
  {
   "cell_type": "code",
   "execution_count": 8,
   "id": "e1028517",
   "metadata": {},
   "outputs": [
    {
     "data": {
      "text/plain": [
       "Pipeline(steps=[('standardscaler', StandardScaler()), ('ridge', Ridge())])"
      ]
     },
     "execution_count": 8,
     "metadata": {},
     "output_type": "execute_result"
    }
   ],
   "source": [
    "model_ridge = make_pipeline(StandardScaler(), Ridge())\n",
    "model_ridge.fit(x_train, y_train)"
   ]
  },
  {
   "cell_type": "code",
   "execution_count": 9,
   "id": "28db5bfd",
   "metadata": {},
   "outputs": [
    {
     "data": {
      "text/plain": [
       "0.7293360329044442"
      ]
     },
     "execution_count": 9,
     "metadata": {},
     "output_type": "execute_result"
    }
   ],
   "source": [
    "model_ridge.score(x_train, y_train)"
   ]
  },
  {
   "cell_type": "code",
   "execution_count": 10,
   "id": "b0cbcc06",
   "metadata": {},
   "outputs": [
    {
     "data": {
      "text/plain": [
       "0.7634038058032349"
      ]
     },
     "execution_count": 10,
     "metadata": {},
     "output_type": "execute_result"
    }
   ],
   "source": [
    "model_ridge.score(x_test, y_test)"
   ]
  },
  {
   "cell_type": "code",
   "execution_count": 11,
   "id": "4125a12e",
   "metadata": {},
   "outputs": [
    {
     "data": {
      "text/plain": [
       "Pipeline(steps=[('standardscaler', StandardScaler()),\n",
       "                ('ridge', Ridge(alpha=5.0))])"
      ]
     },
     "execution_count": 11,
     "metadata": {},
     "output_type": "execute_result"
    }
   ],
   "source": [
    "model_ridge5 = make_pipeline(StandardScaler(), Ridge(alpha=5.0))\n",
    "model_ridge5.fit(x_train, y_train)"
   ]
  },
  {
   "cell_type": "code",
   "execution_count": 12,
   "id": "f5690f00",
   "metadata": {},
   "outputs": [
    {
     "name": "stdout",
     "output_type": "stream",
     "text": [
      "0.7289067264142004\n",
      "0.7629020804027657\n"
     ]
    }
   ],
   "source": [
    "print(model_ridge5.score(x_train, y_train))\n",
    "print(model_ridge5.score(x_test, y_test))"
   ]
  },
  {
   "cell_type": "markdown",
   "id": "825dc7d5",
   "metadata": {},
   "source": [
    "## 라쏘 회귀(Lasso Regression) L1규제\n",
    "​\n",
    "​\n",
    "* 선형 회귀에 규제를 적용한 또 다른 모델로 라쏘 회귀가 있음\n",
    "* 라쏘 회귀는 릿지 회귀와 비슷하게 가중치를 0에 가깝게 만들지만, 조금 다른 방식을 사용\n",
    "​\n",
    "* 라쏘 회귀에서는 다음과 같은 함수를 최소화 하는 파라미터 $w$를 찾음\n",
    "​\n",
    "\\begin{equation}\n",
    "LassoMSE = \\frac{1}{N} \\sum_{i=1}^{N} (y_i - \\hat{y}_i)^2 + \\alpha \\sum_{i=1}^{p} |w_i|\n",
    "\\end{equation}\n",
    "​\n",
    "* 라쏘 회귀도 매개변수인 $\\alpha$ 값을 통해 규제의 강도 조절 가능\n",
    "* p: 독립변수의 갯수\n"
   ]
  },
  {
   "cell_type": "code",
   "execution_count": 13,
   "id": "f02b18e0",
   "metadata": {},
   "outputs": [
    {
     "data": {
      "text/plain": [
       "Pipeline(steps=[('standardscaler', StandardScaler()), ('lasso', Lasso())])"
      ]
     },
     "execution_count": 13,
     "metadata": {},
     "output_type": "execute_result"
    }
   ],
   "source": [
    "model_lasso = make_pipeline(StandardScaler(), Lasso())\n",
    "model_lasso.fit(x_train, y_train)"
   ]
  },
  {
   "cell_type": "code",
   "execution_count": 14,
   "id": "7f787f72",
   "metadata": {},
   "outputs": [
    {
     "name": "stdout",
     "output_type": "stream",
     "text": [
      "0.6510370822546789\n",
      "0.6546512972478653\n"
     ]
    }
   ],
   "source": [
    "print(model_lasso.score(x_train, y_train))\n",
    "print(model_lasso.score(x_test, y_test))"
   ]
  },
  {
   "cell_type": "code",
   "execution_count": 15,
   "id": "d615edbf",
   "metadata": {},
   "outputs": [
    {
     "data": {
      "text/plain": [
       "Pipeline(steps=[('standardscaler', StandardScaler()),\n",
       "                ('lasso', Lasso(alpha=5.0))])"
      ]
     },
     "execution_count": 15,
     "metadata": {},
     "output_type": "execute_result"
    }
   ],
   "source": [
    "model_lasso5 = make_pipeline(StandardScaler(), Lasso(alpha=5.0))\n",
    "model_lasso5.fit(x_train, y_train)"
   ]
  },
  {
   "cell_type": "code",
   "execution_count": 16,
   "id": "80cbc8d2",
   "metadata": {},
   "outputs": [
    {
     "name": "stdout",
     "output_type": "stream",
     "text": [
      "0.2411098676402389\n",
      "0.20844368630060406\n"
     ]
    }
   ],
   "source": [
    "print(model_lasso5.score(x_train, y_train))\n",
    "print(model_lasso5.score(x_test, y_test))"
   ]
  },
  {
   "cell_type": "code",
   "execution_count": 18,
   "id": "bec0f80d",
   "metadata": {},
   "outputs": [
    {
     "data": {
      "text/plain": [
       "<matplotlib.legend.Legend at 0x241f1b5d3d0>"
      ]
     },
     "execution_count": 18,
     "metadata": {},
     "output_type": "execute_result"
    },
    {
     "data": {
      "image/png": "[encoded data removed]",
      "text/plain": [
       "<Figure size 864x432 with 2 Axes>"
      ]
     },
     "metadata": {
      "needs_background": "light"
     },
     "output_type": "display_data"
    }
   ],
   "source": [
    "import numpy as np\n",
    "import matplotlib.pyplot as plt\n",
    "\n",
    "fig = plt.figure(figsize=[12,6])\n",
    "\n",
    "rng = np.linspace(-10,10,100)\n",
    "mse = ( 0.5*(rng-3) )**2 + 30\n",
    "l2 = rng**2\n",
    "l1 = 5*np.abs(rng)\n",
    "ridge = mse + l2\n",
    "lasso = mse + l1\n",
    "\n",
    "plt.subplot(1,2,1)\n",
    "plt.plot(rng,mse,label='MSE')\n",
    "plt.plot(rng,l2,'--',label='L2')\n",
    "plt.plot(rng,ridge, lw=2, label='Ridge')\n",
    "plt.xlabel('w'); plt.ylabel('Error')\n",
    "plt.legend()\n",
    "\n",
    "plt.subplot(1,2,2)\n",
    "plt.plot(rng,mse,label='MSE')\n",
    "plt.plot(rng,l1,'--',label='L1')\n",
    "plt.plot(rng,lasso, lw=2, label='Lasso')\n",
    "plt.xlabel('w'); plt.ylabel('Error')\n",
    "plt.legend()\n"
   ]
  },
  {
   "cell_type": "code",
   "execution_count": 17,
   "id": "860cfd7e",
   "metadata": {},
   "outputs": [],
   "source": [
    "# from sklearn.pipeline import Pipeline"
   ]
  },
  {
   "cell_type": "code",
   "execution_count": 27,
   "id": "aa42fe39",
   "metadata": {},
   "outputs": [
    {
     "name": "stdout",
     "output_type": "stream",
     "text": [
      "Fitting 10 folds for each of 6 candidates, totalling 60 fits\n"
     ]
    },
    {
     "data": {
      "text/plain": [
       "GridSearchCV(cv=10,\n",
       "             estimator=Pipeline(steps=[('scl', StandardScaler()),\n",
       "                                       ('clf', Lasso())]),\n",
       "             param_grid={'clf__alpha': [0.001, 0.01, 1, 2, 3, 4]}, scoring='r2',\n",
       "             verbose=1)"
      ]
     },
     "execution_count": 27,
     "metadata": {},
     "output_type": "execute_result"
    }
   ],
   "source": [
    "modelLasso = Pipeline([('scl', StandardScaler()), ('clf', Lasso())])\n",
    "# param_value = {'clf_alpha':[0.001,0.01, 1,2,3,4], 'scl_with_mean':[True,False]}\n",
    "param_value = {'clf__alpha':[0.001,0.01, 1,2,3,4]}\n",
    "gridSearch = GridSearchCV(modelLasso, param_grid=param_value, cv=10, verbose=1, scoring='r2')\n",
    "gridSearch.fit(x_train, y_train)"
   ]
  },
  {
   "cell_type": "code",
   "execution_count": 28,
   "id": "18bc3c88",
   "metadata": {},
   "outputs": [
    {
     "data": {
      "text/plain": [
       "0.6779423483447163"
      ]
     },
     "execution_count": 28,
     "metadata": {},
     "output_type": "execute_result"
    }
   ],
   "source": [
    "gridSearch.best_score_"
   ]
  },
  {
   "cell_type": "code",
   "execution_count": 29,
   "id": "045bfc21",
   "metadata": {},
   "outputs": [
    {
     "data": {
      "text/plain": [
       "{'clf__alpha': 0.01}"
      ]
     },
     "execution_count": 29,
     "metadata": {},
     "output_type": "execute_result"
    }
   ],
   "source": [
    "gridSearch.best_params_"
   ]
  },
  {
   "cell_type": "code",
   "execution_count": 30,
   "id": "3ad63159",
   "metadata": {},
   "outputs": [
    {
     "data": {
      "text/plain": [
       "{'mean_fit_time': array([0.0045234 , 0.00422683, 0.00406094, 0.00778165, 0.0045578 ,\n",
       "        0.00337372]),\n",
       " 'std_fit_time': array([0.00065098, 0.00037796, 0.00080461, 0.00473282, 0.00143176,\n",
       "        0.00043584]),\n",
       " 'mean_score_time': array([0.00195038, 0.00155563, 0.00151439, 0.00359869, 0.00190477,\n",
       "        0.00151017]),\n",
       " 'std_score_time': array([0.00057129, 0.00044409, 0.00050608, 0.00174523, 0.00065864,\n",
       "        0.00048826]),\n",
       " 'param_clf__alpha': masked_array(data=[0.001, 0.01, 1, 2, 3, 4],\n",
       "              mask=[False, False, False, False, False, False],\n",
       "        fill_value='?',\n",
       "             dtype=object),\n",
       " 'params': [{'clf__alpha': 0.001},\n",
       "  {'clf__alpha': 0.01},\n",
       "  {'clf__alpha': 1},\n",
       "  {'clf__alpha': 2},\n",
       "  {'clf__alpha': 3},\n",
       "  {'clf__alpha': 4}],\n",
       " 'split0_test_score': array([0.86741933, 0.8674495 , 0.74379226, 0.63721411, 0.49084771,\n",
       "        0.3494708 ]),\n",
       " 'split1_test_score': array([0.53857014, 0.53985541, 0.56511277, 0.53008636, 0.44409762,\n",
       "        0.35941902]),\n",
       " 'split2_test_score': array([0.45799761, 0.456379  , 0.36402569, 0.35119013, 0.30182534,\n",
       "        0.24229026]),\n",
       " 'split3_test_score': array([0.84044815, 0.84127459, 0.72736688, 0.6304679 , 0.4980502 ,\n",
       "        0.3636097 ]),\n",
       " 'split4_test_score': array([0.69773684, 0.6984885 , 0.64897926, 0.62863904, 0.56067554,\n",
       "        0.45272298]),\n",
       " 'split5_test_score': array([0.74210537, 0.74356648, 0.68219919, 0.63355477, 0.53824762,\n",
       "        0.41863958]),\n",
       " 'split6_test_score': array([0.49832367, 0.49880298, 0.53610205, 0.5367475 , 0.48418476,\n",
       "        0.39672383]),\n",
       " 'split7_test_score': array([0.72201626, 0.72234635, 0.63632485, 0.5336722 , 0.39326817,\n",
       "        0.23805284]),\n",
       " 'split8_test_score': array([0.65835305, 0.65761855, 0.6115026 , 0.56592145, 0.47501601,\n",
       "        0.35772319]),\n",
       " 'split9_test_score': array([0.75165976, 0.75364212, 0.68686553, 0.61690168, 0.50441805,\n",
       "        0.37083429]),\n",
       " 'mean_test_score': array([0.67746302, 0.67794235, 0.62022711, 0.56643952, 0.4690631 ,\n",
       "        0.35494865]),\n",
       " 'std_test_score': array([0.13215134, 0.13254566, 0.10580369, 0.08344925, 0.0709541 ,\n",
       "        0.06488692]),\n",
       " 'rank_test_score': array([2, 1, 3, 4, 5, 6])}"
      ]
     },
     "execution_count": 30,
     "metadata": {},
     "output_type": "execute_result"
    }
   ],
   "source": [
    "gridSearch.cv_results_"
   ]
  },
  {
   "cell_type": "code",
   "execution_count": 32,
   "id": "45dba80b",
   "metadata": {},
   "outputs": [
    {
     "data": {
      "text/plain": [
       "array([32.47490159, 28.12987635, 17.99758874, 21.59467646, 18.78113215,\n",
       "       19.9054232 , 32.24548395, 18.10731193, 24.28355458, 27.07276872,\n",
       "       26.91811443, 28.84699137, 21.25821228, 26.78436789, 23.35425277,\n",
       "       20.55737907, 17.31818837, 38.20107276, 30.49008317,  8.86690023,\n",
       "       20.8036567 , 16.38064481, 25.21265174, 24.89868344, 31.33266735,\n",
       "       10.7419558 , 13.88204311, 16.89019083, 36.48926363, 14.60805028,\n",
       "       21.33716851, 13.96614295, 42.93446218, 17.9737495 , 22.0898439 ,\n",
       "       20.714934  , 17.59898767, 27.30050043,  9.37526708, 19.74832155,\n",
       "       24.6039903 , 21.25145519, 29.49189492, 16.24904175, 19.22623771,\n",
       "       14.6501572 , 39.1377036 , 18.06654423, 25.84809473, 20.44186795,\n",
       "       25.11177946, 24.39847463, 25.12406209, 26.58879586,  4.82750881,\n",
       "       24.00969384, 10.90593883, 26.89589097, 16.92873279, 35.8638718 ,\n",
       "       19.53784819, 27.53852396, 16.52302842, 18.71106844, 11.21959849,\n",
       "       32.33423855, 36.70207163, 22.33109429, 24.50027637, 25.06917469,\n",
       "       23.50589767,  6.89599448, 16.4903407 , 20.4933907 , 20.87034068,\n",
       "       21.46553525, 33.72205456, 27.99490779, 25.26347016, 34.4873889 ,\n",
       "       18.6512076 , 24.0434465 , 34.69241922, 13.41624001, 20.93136864,\n",
       "       30.08885879, 17.12617383, 24.40504771, 19.35255475, 17.01765807,\n",
       "       27.01246717, 41.83894897, 14.35328128, 23.25915836, 14.75900176,\n",
       "       21.86300746, 23.07727496, 28.88879145, 37.06497783, 20.66017023,\n",
       "       17.34320441, 17.71665837])"
      ]
     },
     "execution_count": 32,
     "metadata": {},
     "output_type": "execute_result"
    }
   ],
   "source": [
    "gridSearch.best_estimator_.predict(x_test)"
   ]
  },
  {
   "cell_type": "code",
   "execution_count": null,
   "id": "f2c7ee51",
   "metadata": {},
   "outputs": [],
   "source": []
  },
  {
   "cell_type": "markdown",
   "id": "de5b764d",
   "metadata": {},
   "source": [
    "## 신축망 (Elastic-Net)\n",
    "\n",
    "* 신축망은 릿지 회귀와 라쏘 회귀, 두 모델의 모든 규제를 사용하는 선형 모델\n",
    "* 두 모델의 장점을 모두 갖고 있기 때문에 좋은 성능을 보임\n",
    "* 데이터 특성이 많거나 서로 상관 관계가 높은 특성이 존재 할 때 위의 두 모델보다 좋은 성능을 보여 줌\n",
    "\n",
    "* 신축망은 다음과 같은 함수를 최소화 하는 파라미터 $w$를 찾음\n",
    "\n",
    "\\begin{equation}\n",
    "ElasticMSE = \\frac{1}{N} \\sum_{i=1}^{N} (y_i - \\hat{y}_i) + \\alpha \\rho \\sum_{i=1}^{p} |w_i| + \\alpha (1 - \\rho) \\sum_{i=1}^{p} w_i^2\n",
    "\\end{equation}\n",
    "\n",
    "  + $\\alpha$: 규제의 강도를 조절하는 매개변수\n",
    "  + $\\rho$: 라쏘 규제와 릿지 규제 사이의 가중치를 조절하는 매개변수\n"
   ]
  },
  {
   "cell_type": "code",
   "execution_count": 33,
   "id": "282a2380",
   "metadata": {},
   "outputs": [
    {
     "data": {
      "text/plain": [
       "Pipeline(steps=[('standardscaler', StandardScaler()),\n",
       "                ('elasticnet', ElasticNet())])"
      ]
     },
     "execution_count": 33,
     "metadata": {},
     "output_type": "execute_result"
    }
   ],
   "source": [
    "model_elastic = make_pipeline(StandardScaler(), ElasticNet())\n",
    "model_elastic.fit(x_train, y_train)"
   ]
  },
  {
   "cell_type": "code",
   "execution_count": 35,
   "id": "dd74a3b9",
   "metadata": {},
   "outputs": [
    {
     "name": "stdout",
     "output_type": "stream",
     "text": [
      "0.635207359597604\n",
      "0.6285547370483677\n"
     ]
    }
   ],
   "source": [
    "print(model_elastic.score(x_train, y_train))\n",
    "print(model_elastic.score(x_test, y_test))"
   ]
  },
  {
   "cell_type": "markdown",
   "id": "1ac18965",
   "metadata": {},
   "source": [
    " alpha=1.0, l1_ratio=0.5  \n",
    " grid search를 이용해 최적의 alpha와 l1 ratio"
   ]
  },
  {
   "cell_type": "code",
   "execution_count": 45,
   "id": "a5824ece",
   "metadata": {},
   "outputs": [
    {
     "name": "stdout",
     "output_type": "stream",
     "text": [
      "Fitting 10 folds for each of 18 candidates, totalling 180 fits\n"
     ]
    },
    {
     "data": {
      "text/plain": [
       "GridSearchCV(cv=10,\n",
       "             estimator=Pipeline(steps=[('scl', StandardScaler()),\n",
       "                                       ('clf', ElasticNet())]),\n",
       "             param_grid={'clf__alpha': [0.001, 0.01, 1, 2, 3, 4],\n",
       "                         'clf__l1_ratio': [0.1, 0.5, 1]},\n",
       "             scoring='r2', verbose=1)"
      ]
     },
     "execution_count": 45,
     "metadata": {},
     "output_type": "execute_result"
    }
   ],
   "source": [
    "modelelastic = Pipeline([('scl', StandardScaler()), ('clf',ElasticNet())])\n",
    "param_value = {'clf__alpha': [0.001, 0.01, 1, 2, 3, 4],\n",
    "              'clf__l1_ratio' : [0.1, 0.5, 1]}\n",
    "gridSearch = GridSearchCV(modelelastic, param_grid = param_value, cv = 10, verbose = 1, scoring = 'r2')\n",
    "gridSearch.fit(x_train, y_train)"
   ]
  },
  {
   "cell_type": "code",
   "execution_count": 46,
   "id": "6f0ad92c",
   "metadata": {},
   "outputs": [
    {
     "data": {
      "text/plain": [
       "0.6779423483447163"
      ]
     },
     "execution_count": 46,
     "metadata": {},
     "output_type": "execute_result"
    }
   ],
   "source": [
    "gridSearch.best_score_"
   ]
  },
  {
   "cell_type": "code",
   "execution_count": 47,
   "id": "b1569080",
   "metadata": {},
   "outputs": [
    {
     "data": {
      "text/plain": [
       "{'clf__alpha': 0.01, 'clf__l1_ratio': 1}"
      ]
     },
     "execution_count": 47,
     "metadata": {},
     "output_type": "execute_result"
    }
   ],
   "source": [
    "gridSearch.best_params_"
   ]
  },
  {
   "cell_type": "code",
   "execution_count": 48,
   "id": "f1adf013",
   "metadata": {
    "scrolled": true
   },
   "outputs": [
    {
     "data": {
      "text/plain": [
       "{'mean_fit_time': array([0.00368893, 0.00319138, 0.00309172, 0.00299201, 0.00318899,\n",
       "        0.0032743 , 0.00298111, 0.00279362, 0.00280938, 0.00290031,\n",
       "        0.0030055 , 0.00287018, 0.00290101, 0.00287721, 0.0027807 ,\n",
       "        0.00288925, 0.00270126, 0.00299499]),\n",
       " 'std_fit_time': array([7.74764086e-04, 3.99041215e-04, 2.99247178e-04, 2.43140197e-07,\n",
       "        4.07561386e-04, 4.39414939e-04, 2.46608381e-05, 3.92275937e-04,\n",
       "        4.17702386e-04, 2.90135580e-04, 4.30039537e-04, 2.99855782e-04,\n",
       "        3.03488909e-04, 3.01160331e-04, 3.93226177e-04, 3.00352572e-04,\n",
       "        4.53662587e-04, 2.11436957e-05]),\n",
       " 'mean_score_time': array([0.00149388, 0.00109701, 0.00119677, 0.00129654, 0.00139754,\n",
       "        0.00121241, 0.00102806, 0.00120604, 0.00120962, 0.00121026,\n",
       "        0.00109866, 0.00119994, 0.00131099, 0.00150418, 0.00120833,\n",
       "        0.00110066, 0.00130579, 0.00100963]),\n",
       " 'std_score_time': array([4.95119711e-04, 2.99199431e-04, 3.98981666e-04, 4.57043372e-04,\n",
       "        4.92476935e-04, 4.01381863e-04, 8.41339271e-05, 4.21838975e-04,\n",
       "        4.02187809e-04, 3.92962379e-04, 3.08138437e-04, 3.90606499e-04,\n",
       "        4.49357383e-04, 4.93271469e-04, 4.04539192e-04, 3.00414453e-04,\n",
       "        4.50386206e-04, 3.21981709e-05]),\n",
       " 'param_clf__alpha': masked_array(data=[0.001, 0.001, 0.001, 0.01, 0.01, 0.01, 1, 1, 1, 2, 2,\n",
       "                    2, 3, 3, 3, 4, 4, 4],\n",
       "              mask=[False, False, False, False, False, False, False, False,\n",
       "                    False, False, False, False, False, False, False, False,\n",
       "                    False, False],\n",
       "        fill_value='?',\n",
       "             dtype=object),\n",
       " 'param_clf__l1_ratio': masked_array(data=[0.1, 0.5, 1, 0.1, 0.5, 1, 0.1, 0.5, 1, 0.1, 0.5, 1,\n",
       "                    0.1, 0.5, 1, 0.1, 0.5, 1],\n",
       "              mask=[False, False, False, False, False, False, False, False,\n",
       "                    False, False, False, False, False, False, False, False,\n",
       "                    False, False],\n",
       "        fill_value='?',\n",
       "             dtype=object),\n",
       " 'params': [{'clf__alpha': 0.001, 'clf__l1_ratio': 0.1},\n",
       "  {'clf__alpha': 0.001, 'clf__l1_ratio': 0.5},\n",
       "  {'clf__alpha': 0.001, 'clf__l1_ratio': 1},\n",
       "  {'clf__alpha': 0.01, 'clf__l1_ratio': 0.1},\n",
       "  {'clf__alpha': 0.01, 'clf__l1_ratio': 0.5},\n",
       "  {'clf__alpha': 0.01, 'clf__l1_ratio': 1},\n",
       "  {'clf__alpha': 1, 'clf__l1_ratio': 0.1},\n",
       "  {'clf__alpha': 1, 'clf__l1_ratio': 0.5},\n",
       "  {'clf__alpha': 1, 'clf__l1_ratio': 1},\n",
       "  {'clf__alpha': 2, 'clf__l1_ratio': 0.1},\n",
       "  {'clf__alpha': 2, 'clf__l1_ratio': 0.5},\n",
       "  {'clf__alpha': 2, 'clf__l1_ratio': 1},\n",
       "  {'clf__alpha': 3, 'clf__l1_ratio': 0.1},\n",
       "  {'clf__alpha': 3, 'clf__l1_ratio': 0.5},\n",
       "  {'clf__alpha': 3, 'clf__l1_ratio': 1},\n",
       "  {'clf__alpha': 4, 'clf__l1_ratio': 0.1},\n",
       "  {'clf__alpha': 4, 'clf__l1_ratio': 0.5},\n",
       "  {'clf__alpha': 4, 'clf__l1_ratio': 1}],\n",
       " 'split0_test_score': array([0.86742707, 0.86742377, 0.86741933, 0.86735617, 0.86740925,\n",
       "        0.8674495 , 0.73386067, 0.73684529, 0.74379226, 0.62996363,\n",
       "        0.63003459, 0.63721411, 0.55706725, 0.5222381 , 0.49084771,\n",
       "        0.49721031, 0.41881496, 0.3494708 ]),\n",
       " 'split1_test_score': array([0.53844795, 0.53852823, 0.53857014, 0.53762361, 0.53866419,\n",
       "        0.53985541, 0.4858413 , 0.50423607, 0.56511277, 0.43705825,\n",
       "        0.47235473, 0.53008636, 0.40219266, 0.41821678, 0.44409762,\n",
       "        0.36950548, 0.35521929, 0.35941902]),\n",
       " 'split2_test_score': array([0.45780257, 0.45788914, 0.45799761, 0.45439874, 0.45529758,\n",
       "        0.456379  , 0.33420137, 0.33019954, 0.36402569, 0.28001034,\n",
       "        0.29406646, 0.35119013, 0.24939467, 0.26207575, 0.30182534,\n",
       "        0.22490645, 0.22807941, 0.24229026]),\n",
       " 'split3_test_score': array([0.8406621 , 0.84056796, 0.84044815, 0.84287176, 0.84222509,\n",
       "        0.84127459, 0.74398584, 0.7258193 , 0.72736688, 0.65110031,\n",
       "        0.60868902, 0.6304679 , 0.57896318, 0.49911579, 0.4980502 ,\n",
       "        0.51875998, 0.40041469, 0.3636097 ]),\n",
       " 'split4_test_score': array([0.69800387, 0.69788527, 0.69773684, 0.70110902, 0.69996119,\n",
       "        0.6984885 , 0.69908887, 0.69135492, 0.64897926, 0.62404114,\n",
       "        0.61134271, 0.62863904, 0.55753043, 0.5114119 , 0.56067554,\n",
       "        0.49908259, 0.41125099, 0.45272298]),\n",
       " 'split5_test_score': array([0.74217948, 0.74214669, 0.74210537, 0.74411806, 0.74388577,\n",
       "        0.74356648, 0.73506693, 0.71623166, 0.68219919, 0.67640374,\n",
       "        0.64179014, 0.63355477, 0.61699626, 0.54496462, 0.53824762,\n",
       "        0.5612358 , 0.44156672, 0.41863958]),\n",
       " 'split6_test_score': array([0.49812263, 0.49821176, 0.49832367, 0.49685701, 0.49770169,\n",
       "        0.49880298, 0.42598303, 0.45477148, 0.53610205, 0.38685465,\n",
       "        0.43566352, 0.5367475 , 0.36173103, 0.39358669, 0.48418476,\n",
       "        0.33820284, 0.34152607, 0.39672383]),\n",
       " 'split7_test_score': array([0.72210085, 0.72206399, 0.72201626, 0.72272044, 0.72261523,\n",
       "        0.72234635, 0.56319983, 0.58807407, 0.63632485, 0.45878126,\n",
       "        0.47594452, 0.5336722 , 0.38794605, 0.37946459, 0.39326817,\n",
       "        0.3337946 , 0.29351701, 0.23805284]),\n",
       " 'split8_test_score': array([0.65815368, 0.65824211, 0.65835305, 0.6557296 , 0.65655017,\n",
       "        0.65761855, 0.53997147, 0.56560141, 0.6115026 , 0.46917573,\n",
       "        0.49532959, 0.56592145, 0.41685228, 0.42504138, 0.47501601,\n",
       "        0.3745486 , 0.35702682, 0.35772319]),\n",
       " 'split9_test_score': array([0.75196794, 0.7518318 , 0.75165976, 0.75565642, 0.7548422 ,\n",
       "        0.75364212, 0.70119647, 0.69316788, 0.68686553, 0.61643906,\n",
       "        0.60429095, 0.61690168, 0.54925056, 0.50812727, 0.50441805,\n",
       "        0.49144768, 0.40979842, 0.37083429]),\n",
       " 'mean_test_score': array([0.67748681, 0.67747907, 0.67746302, 0.67784408, 0.67791524,\n",
       "        0.67794235, 0.59623958, 0.60063016, 0.62022711, 0.52298281,\n",
       "        0.52695062, 0.56643952, 0.46779244, 0.44642429, 0.4690631 ,\n",
       "        0.42086943, 0.36572144, 0.35494865]),\n",
       " 'std_test_score': array([0.13228215, 0.13222153, 0.13215134, 0.13378568, 0.13324509,\n",
       "        0.13254566, 0.13990436, 0.13018017, 0.10580369, 0.1274011 ,\n",
       "        0.10618368, 0.08344925, 0.11379777, 0.0829323 , 0.0709541 ,\n",
       "        0.10188864, 0.06222611, 0.06488692]),\n",
       " 'rank_test_score': array([ 4,  5,  6,  3,  2,  1,  9,  8,  7, 12, 11, 10, 14, 15, 13, 16, 17,\n",
       "        18])}"
      ]
     },
     "execution_count": 48,
     "metadata": {},
     "output_type": "execute_result"
    }
   ],
   "source": [
    "gridSearch.cv_results_"
   ]
  },
  {
   "cell_type": "markdown",
   "id": "d1fbeeec",
   "metadata": {},
   "source": []
  },
  {
   "cell_type": "markdown",
   "id": "9dcd1e1f",
   "metadata": {},
   "source": [
    "## 다항 회귀 (Polynomial Regression)\n",
    "\n",
    "* 입력 데이터를 비선형 변환 후 사용하는 방법\n",
    "* 모델 자체는 선형 모델\n",
    "\n",
    "\\begin{equation}\n",
    "\\hat{y} = w_1 x_1 + w_2 x_2 + w_3 x_3 + w_4 x_1^2 + w_5 x_2^2\n",
    "\\end{equation}\n",
    "\n",
    "$ * 차수(차수 2는 2번곱함 x^2, 차수3은 3번곱합 x^3)가  \n",
    "높아질수록 더 복잡한 데이터 학습 가능\n",
    "\n",
    "![polynomial regression](https://scikit-learn.org/stable/_images/sphx_glr_plot_polynomial_interpolation_0011.png)\n"
   ]
  },
  {
   "cell_type": "code",
   "execution_count": 49,
   "id": "1b63b860",
   "metadata": {},
   "outputs": [
    {
     "data": {
      "text/plain": [
       "Pipeline(steps=[('polynomialfeatures', PolynomialFeatures()),\n",
       "                ('standardscaler', StandardScaler()),\n",
       "                ('linearregression', LinearRegression())])"
      ]
     },
     "execution_count": 49,
     "metadata": {},
     "output_type": "execute_result"
    }
   ],
   "source": [
    "model = make_pipeline(PolynomialFeatures(degree=2), StandardScaler(), LinearRegression())\n",
    "model.fit(x_train, y_train)"
   ]
  },
  {
   "cell_type": "code",
   "execution_count": 50,
   "id": "4e1a83d4",
   "metadata": {},
   "outputs": [
    {
     "name": "stdout",
     "output_type": "stream",
     "text": [
      "0.9264046957163292\n",
      "0.911624405563433\n"
     ]
    }
   ],
   "source": [
    "print(model.score(x_train, y_train))\n",
    "print(model.score(x_test, y_test))"
   ]
  },
  {
   "cell_type": "code",
   "execution_count": null,
   "id": "f5b8e834",
   "metadata": {},
   "outputs": [],
   "source": []
  }
 ],
 "metadata": {
  "kernelspec": {
   "display_name": "Python 3",
   "language": "python",
   "name": "python3"
  },
  "language_info": {
   "codemirror_mode": {
    "name": "ipython",
    "version": 3
   },
   "file_extension": ".py",
   "mimetype": "text/x-python",
   "name": "python",
   "nbconvert_exporter": "python",
   "pygments_lexer": "ipython3",
   "version": "3.8.8"
  }
 },
 "nbformat": 4,
 "nbformat_minor": 5
}
