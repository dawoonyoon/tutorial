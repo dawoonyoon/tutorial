{
 "cells": [
  {
   "cell_type": "code",
   "execution_count": 26,
   "id": "dcd1dba7",
   "metadata": {},
   "outputs": [],
   "source": [
    "import numpy as np\n",
    "import pandas as pd\n",
    "import matplotlib.pyplot as plt\n",
    "import matplotlib\n",
    "from IPython.display import set_matplotlib_formats\n",
    "set_matplotlib_formats('retina')\n",
    "import math"
   ]
  },
  {
   "cell_type": "code",
   "execution_count": 2,
   "id": "92c680e0",
   "metadata": {},
   "outputs": [],
   "source": [
    "# x = np.array( [1., 2., 3., 4., 5., 6.] )  # hour\n",
    "# y = np.array( [ 0,  0,  0, 1, 1, 1] )  # pass/fail"
   ]
  },
  {
   "cell_type": "markdown",
   "id": "574bb278",
   "metadata": {},
   "source": [
    "## 연속 데이터"
   ]
  },
  {
   "cell_type": "code",
   "execution_count": 3,
   "id": "ef6da825",
   "metadata": {},
   "outputs": [],
   "source": [
    "x = np.array( [1., 2., 3., 4., 5., 6.] )\n",
    "y = np.array( [ 5.,  7.,  9., 11., 13., 15.] )"
   ]
  },
  {
   "cell_type": "code",
   "execution_count": 4,
   "id": "fee417f8",
   "metadata": {},
   "outputs": [],
   "source": [
    "w = 5\n",
    "b = 5\n",
    "n = len(x)\n",
    "epochs = 5000\n",
    "learning_reate = 0.01"
   ]
  },
  {
   "cell_type": "code",
   "execution_count": 5,
   "id": "33d9eefc",
   "metadata": {
    "collapsed": true
   },
   "outputs": [
    {
     "name": "stdout",
     "output_type": "stream",
     "text": [
      "epochs:0, cost:182.5, w:3.95, b:4.75\n",
      "epochs:100, cost:0.14058928773518695, w:1.8010749905953443, b:3.8516374518244043\n",
      "epochs:200, cost:0.06766844882296964, w:1.861991326202766, b:3.590842527212121\n",
      "epochs:300, cost:0.03257018397256482, w:1.9042533962910269, b:3.409910216154262\n",
      "epochs:400, cost:0.015676683926684507, w:1.9335736525135212, b:3.284384379202464\n",
      "epochs:500, cost:0.007545502940486187, w:1.953915235951279, b:3.1972980227063545\n",
      "epochs:600, cost:0.0036318021649958004, w:1.9680276643562467, b:3.136879915391289\n",
      "epochs:700, cost:0.0017480593500131144, w:1.9778184771557878, b:3.094963502322638\n",
      "epochs:800, cost:0.0008413760861260117, w:1.9846110724855839, b:3.065883053387359\n",
      "epochs:900, cost:0.00040497121467837583, w:1.9893235873971682, b:3.0457078416178716\n",
      "epochs:1000, cost:0.00019492078206453153, w:1.9925930000021688, b:3.031710837278305\n",
      "epochs:1100, cost:9.381928863962735e-05, w:1.99486122811015, b:3.022000102505343\n",
      "epochs:1200, cost:4.51571085833796e-05, w:1.9964348620840227, b:3.0152630630972563\n",
      "epochs:1300, cost:2.1735023630850868e-05, w:1.9975266058442784, b:3.0105890913487463\n",
      "epochs:1400, cost:1.0461503560647186e-05, w:1.9982840274924172, b:3.007346418925062\n",
      "epochs:1500, cost:5.0353318500204e-06, w:1.9988095056988926, b:3.0050967424158523\n",
      "epochs:1600, cost:2.423606386293537e-06, w:1.999174067955806, b:3.0035359790284915\n",
      "epochs:1700, cost:1.1665304473773015e-06, w:1.9994269911741764, b:3.002453164525456\n",
      "epochs:1800, cost:5.614745415546449e-07, w:1.999602462312996, b:3.0017019377491923\n",
      "epochs:1900, cost:2.702489776610352e-07, w:1.9997241993395805, b:3.001180757373616\n",
      "epochs:2000, cost:1.3007626262967916e-07, w:1.9998086571241551, b:3.0008191768330037\n",
      "epochs:2100, cost:6.260831861846822e-08, w:1.9998672516009175, b:3.000568322246995\n",
      "epochs:2200, cost:3.0134641639988237e-08, w:1.999907902829509, b:3.0003942862681376\n",
      "epochs:2300, cost:1.4504408468503609e-08, w:1.99993610552842, b:3.0002735449158697\n",
      "epochs:2400, cost:6.98126320978463e-09, w:1.9999556717814813, b:3.000189777902618\n",
      "epochs:2500, cost:3.360222246292722e-09, w:1.999969246307099, b:3.0001316626639096\n",
      "epochs:2600, cost:1.6173424786941252e-09, w:1.9999786639378108, b:3.000091343917435\n",
      "epochs:2700, cost:7.784594296627678e-10, w:1.9999851976297218, b:3.000063371885427\n",
      "epochs:2800, cost:3.7468816383417187e-10, w:1.999989730524597, b:3.0000439656626883\n",
      "epochs:2900, cost:1.8034494126155117e-10, w:1.9999928753217848, b:3.0000305021616858\n",
      "epochs:3000, cost:8.680364361744454e-11, w:1.9999950570951603, b:3.000021161556784\n",
      "epochs:3100, cost:4.178033768266152e-11, w:1.99999657074923, b:3.0000146813032513\n",
      "epochs:3200, cost:2.0109715954549782e-11, w:1.9999976208805907, b:3.000010185482446\n",
      "epochs:3300, cost:9.679210320268825e-12, w:1.999998349432706, b:3.0000070664062233\n",
      "epochs:3400, cost:4.658798394449141e-12, w:1.9999988548820289, b:3.0000049024773405\n",
      "epochs:3500, cost:2.242373268508997e-12, w:1.9999992055487994, b:3.0000034012032883\n",
      "epochs:3600, cost:1.0792993066526036e-12, w:1.9999994488317134, b:3.000002359660841\n",
      "epochs:3700, cost:5.194884410879719e-13, w:1.9999996176146755, b:3.000001637067478\n",
      "epochs:3800, cost:2.5004022442341345e-13, w:1.9999997347116296, b:3.000001135752173\n",
      "epochs:3900, cost:1.2034938340873047e-13, w:1.9999998159502608, b:3.000000787953468\n",
      "epochs:4000, cost:5.792657562509332e-14, w:1.9999998723113779, b:3.000000546660337\n",
      "epochs:4100, cost:2.788122469343935e-14, w:1.9999999114131632, b:3.0000003792578327\n",
      "epochs:4200, cost:1.3419793488632822e-14, w:1.999999938540901, b:3.000000263118602\n",
      "epochs:4300, cost:6.459216174017519e-15, w:1.9999999573613758, b:3.000000182544414\n",
      "epochs:4400, cost:3.1089504939965213e-15, w:1.999999970418501, b:3.000000126644269\n",
      "epochs:4500, cost:1.4964004013653868e-15, w:1.9999999794771732, b:3.000000087862295\n",
      "epochs:4600, cost:7.202475794391441e-16, w:1.99999998576183, b:3.000000060956432\n",
      "epochs:4700, cost:3.466696086861378e-16, w:1.9999999901219514, b:3.0000000422898867\n",
      "epochs:4800, cost:1.6685903051061272e-16, w:1.999999993146883, b:3.0000000293395535\n",
      "epochs:4900, cost:8.031261087660194e-17, w:1.9999999952454968, b:3.000000020354972\n"
     ]
    }
   ],
   "source": [
    "for i in range( epochs):\n",
    "    hy = w*x + b # w=2, b=3\n",
    "    cost = np.sum( (hy-y)**2 )/n\n",
    "    gradientW = np.sum( (w*x+b-y)*2*x )/n\n",
    "    gradientB = np.sum( (w*x+b-y)*2 )/n\n",
    "    w= w- learning_reate*gradientW\n",
    "    b= b- learning_reate*gradientB\n",
    "    if i%100==0:\n",
    "        print(f'epochs:{i}, cost:{cost}, w:{w}, b:{b}')"
   ]
  },
  {
   "cell_type": "code",
   "execution_count": 6,
   "id": "48b000e5",
   "metadata": {},
   "outputs": [
    {
     "data": {
      "text/plain": [
       "1.9999999966893751"
      ]
     },
     "execution_count": 6,
     "metadata": {},
     "output_type": "execute_result"
    }
   ],
   "source": [
    "w"
   ]
  },
  {
   "cell_type": "code",
   "execution_count": 7,
   "id": "0bd6b31d",
   "metadata": {},
   "outputs": [
    {
     "data": {
      "text/plain": [
       "3.0000000141734415"
      ]
     },
     "execution_count": 7,
     "metadata": {},
     "output_type": "execute_result"
    }
   ],
   "source": [
    "b"
   ]
  },
  {
   "cell_type": "markdown",
   "id": "091a2cf3",
   "metadata": {},
   "source": []
  },
  {
   "cell_type": "markdown",
   "id": "824ba00b",
   "metadata": {},
   "source": [
    "## 분류"
   ]
  },
  {
   "cell_type": "code",
   "execution_count": 8,
   "id": "638bd41e",
   "metadata": {},
   "outputs": [],
   "source": [
    "x = np.array( [1., 2., 3., 4., 5., 6.] )  # hour\n",
    "y = np.array( [ 0,  0,  0, 1, 1, 1] )  # pass/fail"
   ]
  },
  {
   "cell_type": "code",
   "execution_count": 10,
   "id": "dd7ce7d3",
   "metadata": {},
   "outputs": [],
   "source": [
    "def sigmoid( z ):\n",
    "    return 1/(1+math.e**-z )"
   ]
  },
  {
   "cell_type": "code",
   "execution_count": 11,
   "id": "7fd6cfe6",
   "metadata": {},
   "outputs": [],
   "source": [
    "w = 5\n",
    "b = 5\n",
    "n = len(x)\n",
    "epochs = 5000\n",
    "learning_reate = 0.01"
   ]
  },
  {
   "cell_type": "code",
   "execution_count": null,
   "id": "c255f437",
   "metadata": {},
   "outputs": [],
   "source": [
    "for i in range( epochs):\n",
    "    z = w*x + b # w=2, b=3\n",
    "    hy = sigmoid( z )\n",
    "    cost = np.sum( (hy-y)**2 )/n\n",
    "    gradientW = np.sum( (w*x+b-y)*2*x )/n\n",
    "    gradientB = np.sum( (w*x+b-y)*2 )/n\n",
    "    w= w- learning_reate*gradientW\n",
    "    b= b- learning_reate*gradientB\n",
    "    if i%100==0:\n",
    "        print(f'epochs:{i}, cost:{cost}, w:{w}, b:{b}')"
   ]
  },
  {
   "cell_type": "code",
   "execution_count": 35,
   "id": "19e1e550",
   "metadata": {},
   "outputs": [],
   "source": [
    "def cost( x, y, w):\n",
    "    n = len(x)\n",
    "    z = w*x\n",
    "    hy = sigmoid( z ) #활성함수..\n",
    "#     cost = np.sum( (hy-y)**2 )/n\n",
    "    loss_i = y * -np.log(hy) + (1 - y) * -np.log(1 - hy)\n",
    "    loss = np.sum( loss_i )/ n\n",
    "    return loss"
   ]
  },
  {
   "cell_type": "code",
   "execution_count": 36,
   "id": "8368b8bd",
   "metadata": {},
   "outputs": [],
   "source": [
    "x_data = np.array([1.,2.,3.,4.,5.,6.])\n",
    "y_data = np.array([0,0,0,1,1,1])"
   ]
  },
  {
   "cell_type": "code",
   "execution_count": 37,
   "id": "f6b1f247",
   "metadata": {},
   "outputs": [
    {
     "data": {
      "image/png": "[encoded data removed]",
      "text/plain": [
       "<Figure size 432x288 with 1 Axes>"
      ]
     },
     "metadata": {
      "image/png": {
       "height": 248,
       "width": 362
      },
      "needs_background": "light"
     },
     "output_type": "display_data"
    }
   ],
   "source": [
    "for w in np.linspace(-3,5,50):\n",
    "    c = cost(x_data, y_data, w)\n",
    "    plt.plot(w, c, 'ro')\n",
    "plt.show()"
   ]
  },
  {
   "cell_type": "code",
   "execution_count": null,
   "id": "beea8754",
   "metadata": {},
   "outputs": [],
   "source": []
  }
 ],
 "metadata": {
  "kernelspec": {
   "display_name": "Python 3",
   "language": "python",
   "name": "python3"
  },
  "language_info": {
   "codemirror_mode": {
    "name": "ipython",
    "version": 3
   },
   "file_extension": ".py",
   "mimetype": "text/x-python",
   "name": "python",
   "nbconvert_exporter": "python",
   "pygments_lexer": "ipython3",
   "version": "3.8.8"
  }
 },
 "nbformat": 4,
 "nbformat_minor": 5
}
