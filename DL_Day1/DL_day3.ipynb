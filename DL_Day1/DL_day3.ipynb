{
  "nbformat": 4,
  "nbformat_minor": 0,
  "metadata": {
    "colab": {
      "name": "DL_day3.ipynb",
      "provenance": [],
      "collapsed_sections": []
    },
    "kernelspec": {
      "name": "python3",
      "display_name": "Python 3"
    },
    "language_info": {
      "name": "python"
    }
  },
  "cells": [
    {
      "cell_type": "markdown",
      "metadata": {
        "id": "cCsdnAKdkf6h"
      },
      "source": [
        "# 다층 신경망 XOR"
      ]
    },
    {
      "cell_type": "code",
      "metadata": {
        "id": "wYJ9FXhkkjH-"
      },
      "source": [
        "import numpy as np\n",
        "import matplotlib.pyplot as plt\n",
        "from keras.models import Sequential\n",
        "from keras.layers import Dense, LeakyReLU, Activation, Flatten, Dropout\n",
        "from sklearn import datasets\n",
        "import keras\n",
        "from keras.datasets import fashion_mnist\n",
        "from sklearn.metrics import confusion_matrix\n",
        "import seaborn as sns\n",
        "\n",
        "#import tensorflow.keras.datasets\n"
      ],
      "execution_count": null,
      "outputs": []
    },
    {
      "cell_type": "code",
      "metadata": {
        "colab": {
          "base_uri": "https://localhost:8080/"
        },
        "id": "1GQ6ZdNhk0-u",
        "outputId": "2f0eb1ea-9e77-44b3-dc78-ced58c9e0766"
      },
      "source": [
        "X = np.array([[0,0],[0,1],[1,0],[1,1]])\n",
        "y = np.array([[0],[1],[1],[0]])\n",
        "\n",
        "model = Sequential()\n",
        "model.add(Dense(5, activation='sigmoid'))\n",
        "model.add(Dense(5, activation='sigmoid'))\n",
        "model.add(Dense(1, activation='sigmoid'))\n",
        "model.compile(loss='binary_crossentropy', optimizer='adam')\n",
        "hist = model.fit(X, y,  epochs=7000, verbose=0)\n",
        "print(model.predict(X))\n",
        "print(model.predict(X) > 0.5)  # accuracy"
      ],
      "execution_count": null,
      "outputs": [
        {
          "output_type": "stream",
          "text": [
            "[[1.1282151e-04]\n",
            " [9.9996853e-01]\n",
            " [9.9992174e-01]\n",
            " [2.3588374e-05]]\n",
            "[[False]\n",
            " [ True]\n",
            " [ True]\n",
            " [False]]\n"
          ],
          "name": "stdout"
        }
      ]
    },
    {
      "cell_type": "markdown",
      "metadata": {
        "id": "qILVGesZmKyj"
      },
      "source": [
        "# ReLU 활성화 함수"
      ]
    },
    {
      "cell_type": "code",
      "metadata": {
        "colab": {
          "base_uri": "https://localhost:8080/",
          "height": 389
        },
        "id": "lEw2f9NbmQp3",
        "outputId": "f1ce1d37-3b3b-4d8d-a71e-aa0f78219976"
      },
      "source": [
        "model = Sequential()\n",
        "model.add(Dense(5, activation='sigmoid'))\n",
        "model.add(Dense(5, activation='sigmoid'))\n",
        "model.add(Dense(5, activation='sigmoid'))\n",
        "model.add(Dense(5, activation='sigmoid'))\n",
        "model.add(Dense(5, activation='sigmoid'))\n",
        "model.add(Dense(5, activation='sigmoid'))\n",
        "model.add(Dense(5, activation='sigmoid'))\n",
        "model.add(Dense(1, activation='sigmoid'))\n",
        "model.compile(loss='binary_crossentropy', optimizer='adam', metrics=['accuracy'])\n",
        "hist = model.fit(X, y,  epochs=7000, verbose=0)\n",
        "print(model.predict(X))\n",
        "print(model.evaluate(X, y))\n",
        "plt.plot(hist.history['accuracy'])"
      ],
      "execution_count": null,
      "outputs": [
        {
          "output_type": "stream",
          "text": [
            "[[2.553463e-04]\n",
            " [6.666404e-01]\n",
            " [6.666432e-01]\n",
            " [6.666461e-01]]\n",
            "1/1 [==============================] - 0s 372ms/step - loss: 0.4775 - accuracy: 0.7500\n",
            "[0.47745269536972046, 0.75]\n"
          ],
          "name": "stdout"
        },
        {
          "output_type": "execute_result",
          "data": {
            "text/plain": [
              "[<matplotlib.lines.Line2D at 0x7f53cee1b210>]"
            ]
          },
          "metadata": {
            "tags": []
          },
          "execution_count": 21
        },
        {
          "output_type": "display_data",
          "data": {
            "image/png": "[encoded data removed]",
            "text/plain": [
              "<Figure size 432x288 with 1 Axes>"
            ]
          },
          "metadata": {
            "tags": [],
            "needs_background": "light"
          }
        }
      ]
    },
    {
      "cell_type": "code",
      "metadata": {
        "id": "d9Ee0Id7nLlC"
      },
      "source": [
        "accs = []\n",
        "for  i  in range(20) :\n",
        "  model = Sequential()\n",
        "  model.add(Dense(5, activation='sigmoid'))\n",
        "  model.add(Dense(5, activation='sigmoid'))\n",
        "  model.add(Dense(5, activation='sigmoid'))\n",
        "  model.add(Dense(5, activation='sigmoid'))\n",
        "  model.add(Dense(5, activation='sigmoid'))\n",
        "  model.add(Dense(5, activation='sigmoid'))\n",
        "  model.add(Dense(5, activation='sigmoid'))\n",
        "  model.add(Dense(1, activation='sigmoid'))\n",
        "  model.compile(loss='binary_crossentropy', optimizer='adam', metrics=['accuracy'])\n",
        "  hist = model.fit(X, y,  epochs=7000, verbose=0)\n",
        "  acc = model.evaluate(X,y)\n",
        "  accs.append(acc[1])   "
      ],
      "execution_count": null,
      "outputs": []
    },
    {
      "cell_type": "code",
      "metadata": {
        "colab": {
          "base_uri": "https://localhost:8080/",
          "height": 389
        },
        "id": "truAokTWon9c",
        "outputId": "ff740b71-5bb0-4ce3-8564-be8c97c001a9"
      },
      "source": [
        "model = Sequential()\n",
        "model.add(Dense(5, activation='relu'))\n",
        "model.add(Dense(5, activation='relu'))\n",
        "model.add(Dense(5, activation='relu'))\n",
        "model.add(Dense(5, activation='relu'))\n",
        "model.add(Dense(5, activation='relu'))\n",
        "model.add(Dense(5, activation='relu'))\n",
        "model.add(Dense(1, activation='sigmoid'))\n",
        "model.compile(loss='binary_crossentropy', optimizer='adam', metrics=['accuracy'])\n",
        "hist = model.fit(X, y,  epochs=3000, verbose=0)\n",
        "print(model.predict(X))\n",
        "print(model.evaluate(X, y))\n",
        "plt.plot(hist.history['accuracy'])"
      ],
      "execution_count": null,
      "outputs": [
        {
          "output_type": "stream",
          "text": [
            "[[0.07128134]\n",
            " [0.999663  ]\n",
            " [1.        ]\n",
            " [0.07128134]]\n",
            "1/1 [==============================] - 0s 351ms/step - loss: 0.0371 - accuracy: 1.0000\n",
            "[0.03705901280045509, 1.0]\n"
          ],
          "name": "stdout"
        },
        {
          "output_type": "execute_result",
          "data": {
            "text/plain": [
              "[<matplotlib.lines.Line2D at 0x7f53d5570ad0>]"
            ]
          },
          "metadata": {
            "tags": []
          },
          "execution_count": 23
        },
        {
          "output_type": "display_data",
          "data": {
            "image/png": "[encoded data removed]",
            "text/plain": [
              "<Figure size 432x288 with 1 Axes>"
            ]
          },
          "metadata": {
            "tags": [],
            "needs_background": "light"
          }
        }
      ]
    },
    {
      "cell_type": "code",
      "metadata": {
        "colab": {
          "base_uri": "https://localhost:8080/",
          "height": 389
        },
        "id": "mXnA0tKvsOqA",
        "outputId": "529a51b4-bd29-4059-a0fa-90d1083fb10b"
      },
      "source": [
        "model = Sequential()\n",
        "model.add(Dense(5, activation=LeakyReLU(0.1)))\n",
        "model.add(Dense(10, activation=LeakyReLU(0.1)))\n",
        "model.add(Dense(1, activation='sigmoid'))\n",
        "model.compile(loss='binary_crossentropy', optimizer='adam', metrics=['accuracy'])\n",
        "hist = model.fit(X, y,  epochs=3000, verbose=0)\n",
        "plt.plot(hist.history['accuracy'])"
      ],
      "execution_count": null,
      "outputs": [
        {
          "output_type": "stream",
          "text": [
            "[[7.1328878e-04]\n",
            " [9.9928486e-01]\n",
            " [9.9930441e-01]\n",
            " [1.2649894e-03]]\n",
            "1/1 [==============================] - 0s 261ms/step - loss: 8.4763e-04 - accuracy: 1.0000\n",
            "[0.0008476328803226352, 1.0]\n"
          ],
          "name": "stdout"
        },
        {
          "output_type": "execute_result",
          "data": {
            "text/plain": [
              "[<matplotlib.lines.Line2D at 0x7f53cfb3e510>]"
            ]
          },
          "metadata": {
            "tags": []
          },
          "execution_count": 27
        },
        {
          "output_type": "display_data",
          "data": {
            "image/png": "[encoded data removed]",
            "text/plain": [
              "<Figure size 432x288 with 1 Axes>"
            ]
          },
          "metadata": {
            "tags": [],
            "needs_background": "light"
          }
        }
      ]
    },
    {
      "cell_type": "code",
      "metadata": {
        "colab": {
          "base_uri": "https://localhost:8080/"
        },
        "id": "PigVPHJGtrkt",
        "outputId": "f5f8ad99-59ec-4119-8772-9c2837b9fb26"
      },
      "source": [
        "layers = [3, 5, 10, 15, 20]\n",
        "\n",
        "for ex in layers :\n",
        "    model = Sequential()\n",
        "    for i in range(ex) :\n",
        "      model.add(Dense(5, activation=LeakyReLU(0.1)))\n",
        "\n",
        "    model.add(Dense(1, activation='sigmoid'))\n",
        "    model.compile(loss='binary_crossentropy', optimizer='adam', metrics=['accuracy'])\n",
        "    hist = model.fit(X, y,  epochs=3000, verbose=0)\n",
        "    print(model.evaluate(X, y))"
      ],
      "execution_count": null,
      "outputs": [
        {
          "output_type": "stream",
          "text": [
            "1/1 [==============================] - 0s 346ms/step - loss: 2.7210e-04 - accuracy: 1.0000\n",
            "[0.00027209913241676986, 1.0]\n",
            "1/1 [==============================] - 0s 423ms/step - loss: 3.2597e-05 - accuracy: 1.0000\n",
            "[3.259737422922626e-05, 1.0]\n",
            "1/1 [==============================] - 1s 629ms/step - loss: 3.2355e-06 - accuracy: 1.0000\n",
            "[3.2355492294300348e-06, 1.0]\n",
            "1/1 [==============================] - 1s 849ms/step - loss: 4.7958e-06 - accuracy: 1.0000\n",
            "[4.7957910283003e-06, 1.0]\n",
            "1/1 [==============================] - 1s 1s/step - loss: 9.3321e-06 - accuracy: 1.0000\n",
            "[9.332103218184784e-06, 1.0]\n"
          ],
          "name": "stdout"
        }
      ]
    },
    {
      "cell_type": "code",
      "metadata": {
        "colab": {
          "base_uri": "https://localhost:8080/",
          "height": 283
        },
        "id": "CEqpzESTvs3n",
        "outputId": "fceb04e4-806f-4c82-b1b6-8ec5d1f490aa"
      },
      "source": [
        "plt.plot(hist.history['loss'])\n",
        "plt.plot(hist.history['accuracy'])"
      ],
      "execution_count": null,
      "outputs": [
        {
          "output_type": "execute_result",
          "data": {
            "text/plain": [
              "[<matplotlib.lines.Line2D at 0x7f53c4571350>]"
            ]
          },
          "metadata": {
            "tags": []
          },
          "execution_count": 33
        },
        {
          "output_type": "display_data",
          "data": {
            "image/png": "[encoded data removed]",
            "text/plain": [
              "<Figure size 432x288 with 1 Axes>"
            ]
          },
          "metadata": {
            "tags": [],
            "needs_background": "light"
          }
        }
      ]
    },
    {
      "cell_type": "code",
      "metadata": {
        "colab": {
          "base_uri": "https://localhost:8080/"
        },
        "id": "vy_l1_SD2CZX",
        "outputId": "b10e4154-5322-4028-f30b-a7eca6dba07c"
      },
      "source": [
        "model.summary()"
      ],
      "execution_count": null,
      "outputs": [
        {
          "output_type": "stream",
          "text": [
            "Model: \"sequential_35\"\n",
            "_________________________________________________________________\n",
            "Layer (type)                 Output Shape              Param #   \n",
            "=================================================================\n",
            "dense_352 (Dense)            (None, 5)                 15        \n",
            "_________________________________________________________________\n",
            "dense_353 (Dense)            (None, 5)                 30        \n",
            "_________________________________________________________________\n",
            "dense_354 (Dense)            (None, 5)                 30        \n",
            "_________________________________________________________________\n",
            "dense_355 (Dense)            (None, 5)                 30        \n",
            "_________________________________________________________________\n",
            "dense_356 (Dense)            (None, 5)                 30        \n",
            "_________________________________________________________________\n",
            "dense_357 (Dense)            (None, 5)                 30        \n",
            "_________________________________________________________________\n",
            "dense_358 (Dense)            (None, 5)                 30        \n",
            "_________________________________________________________________\n",
            "dense_359 (Dense)            (None, 5)                 30        \n",
            "_________________________________________________________________\n",
            "dense_360 (Dense)            (None, 5)                 30        \n",
            "_________________________________________________________________\n",
            "dense_361 (Dense)            (None, 5)                 30        \n",
            "_________________________________________________________________\n",
            "dense_362 (Dense)            (None, 5)                 30        \n",
            "_________________________________________________________________\n",
            "dense_363 (Dense)            (None, 5)                 30        \n",
            "_________________________________________________________________\n",
            "dense_364 (Dense)            (None, 5)                 30        \n",
            "_________________________________________________________________\n",
            "dense_365 (Dense)            (None, 5)                 30        \n",
            "_________________________________________________________________\n",
            "dense_366 (Dense)            (None, 5)                 30        \n",
            "_________________________________________________________________\n",
            "dense_367 (Dense)            (None, 5)                 30        \n",
            "_________________________________________________________________\n",
            "dense_368 (Dense)            (None, 5)                 30        \n",
            "_________________________________________________________________\n",
            "dense_369 (Dense)            (None, 5)                 30        \n",
            "_________________________________________________________________\n",
            "dense_370 (Dense)            (None, 5)                 30        \n",
            "_________________________________________________________________\n",
            "dense_371 (Dense)            (None, 5)                 30        \n",
            "_________________________________________________________________\n",
            "dense_372 (Dense)            (None, 1)                 6         \n",
            "=================================================================\n",
            "Total params: 591\n",
            "Trainable params: 591\n",
            "Non-trainable params: 0\n",
            "_________________________________________________________________\n"
          ],
          "name": "stdout"
        }
      ]
    },
    {
      "cell_type": "markdown",
      "metadata": {
        "id": "3Sz_ObjmIgYN"
      },
      "source": [
        "# 가중치 초기화"
      ]
    },
    {
      "cell_type": "code",
      "metadata": {
        "colab": {
          "base_uri": "https://localhost:8080/",
          "height": 283
        },
        "id": "6al3nMzsIrV-",
        "outputId": "905a11da-8183-45fd-85bb-040e2c7aa394"
      },
      "source": [
        "model = Sequential()\n",
        "model.add(Dense(5, activation=LeakyReLU(0.1), kernel_initializer='he_normal'))\n",
        "model.add(Dense(10, activation=LeakyReLU(0.1), kernel_initializer='he_normal'))\n",
        "model.add(Dense(1, activation='sigmoid', kernel_initializer='he_normal'))\n",
        "model.compile(loss='binary_crossentropy', optimizer='adam', metrics=['accuracy'])\n",
        "hist = model.fit(X, y,  epochs=3000, verbose=0)\n",
        "plt.plot(hist.history['accuracy'])"
      ],
      "execution_count": null,
      "outputs": [
        {
          "output_type": "execute_result",
          "data": {
            "text/plain": [
              "[<matplotlib.lines.Line2D at 0x7f53d0e10890>]"
            ]
          },
          "metadata": {
            "tags": []
          },
          "execution_count": 40
        },
        {
          "output_type": "display_data",
          "data": {
            "image/png": "[encoded data removed]",
            "text/plain": [
              "<Figure size 432x288 with 1 Axes>"
            ]
          },
          "metadata": {
            "tags": [],
            "needs_background": "light"
          }
        }
      ]
    },
    {
      "cell_type": "markdown",
      "metadata": {
        "id": "0VoFQKMTLANk"
      },
      "source": [
        "# fashion-mnist 영상 인식"
      ]
    },
    {
      "cell_type": "code",
      "metadata": {
        "id": "Lh8iCXUPLIBT"
      },
      "source": [
        "\n",
        "\n",
        "class_names = ['T-shirt/top', 'Trouser', 'Pullover', 'Dress', 'Coat',\n",
        "               'Sandal', 'Shirt', 'Sneaker', 'Bag', 'Ankle boot']\n",
        "\n",
        "(x_train, y_train), (x_test, y_test) = fashion_mnist.load_data()               "
      ],
      "execution_count": null,
      "outputs": []
    },
    {
      "cell_type": "code",
      "metadata": {
        "colab": {
          "base_uri": "https://localhost:8080/"
        },
        "id": "iy3zv60CMaA7",
        "outputId": "4f42ed8e-c03b-4881-9871-8dab51090240"
      },
      "source": [
        "print(x_train.shape)\n",
        "print(y_train.shape)\n",
        "print(x_test.shape)\n",
        "print(y_test.shape)"
      ],
      "execution_count": null,
      "outputs": [
        {
          "output_type": "stream",
          "text": [
            "(60000, 28, 28)\n",
            "(60000,)\n",
            "(10000, 28, 28)\n",
            "(10000,)\n"
          ],
          "name": "stdout"
        }
      ]
    },
    {
      "cell_type": "code",
      "metadata": {
        "colab": {
          "base_uri": "https://localhost:8080/",
          "height": 283
        },
        "id": "VvIizD80MkUe",
        "outputId": "1fc46036-0d71-4074-91fa-a555118c7c30"
      },
      "source": [
        "# 이미지 확인(범위)\n",
        "x_train[0]   #흑백이미지 28x28  0~255\n",
        "plt.imshow(x_train[233], cmap='gray')"
      ],
      "execution_count": null,
      "outputs": [
        {
          "output_type": "execute_result",
          "data": {
            "text/plain": [
              "<matplotlib.image.AxesImage at 0x7f53c697e990>"
            ]
          },
          "metadata": {
            "tags": []
          },
          "execution_count": 53
        },
        {
          "output_type": "display_data",
          "data": {
            "image/png": "[encoded data removed]",
            "text/plain": [
              "<Figure size 432x288 with 1 Axes>"
            ]
          },
          "metadata": {
            "tags": [],
            "needs_background": "light"
          }
        }
      ]
    },
    {
      "cell_type": "code",
      "metadata": {
        "colab": {
          "base_uri": "https://localhost:8080/"
        },
        "id": "efI-DO2yNIXe",
        "outputId": "70556a60-86d4-41a7-9fb6-f0a621066f2c"
      },
      "source": [
        "# 레이블 확인  (레이블, one-hot, 정렬)\n",
        "y_train"
      ],
      "execution_count": null,
      "outputs": [
        {
          "output_type": "execute_result",
          "data": {
            "text/plain": [
              "array([9, 0, 0, ..., 3, 0, 5], dtype=uint8)"
            ]
          },
          "metadata": {
            "tags": []
          },
          "execution_count": 54
        }
      ]
    },
    {
      "cell_type": "code",
      "metadata": {
        "colab": {
          "base_uri": "https://localhost:8080/",
          "height": 299
        },
        "id": "pQM_d6u_NgqH",
        "outputId": "96fbe2a6-59e6-48d8-f4e5-804cf5d3a64a"
      },
      "source": [
        "plt.imshow(x_train[0], cmap='gray')\n",
        "plt.title(class_names[y_train[0]])"
      ],
      "execution_count": null,
      "outputs": [
        {
          "output_type": "execute_result",
          "data": {
            "text/plain": [
              "Text(0.5, 1.0, 'Ankle boot')"
            ]
          },
          "metadata": {
            "tags": []
          },
          "execution_count": 55
        },
        {
          "output_type": "display_data",
          "data": {
            "image/png": "[encoded data removed]",
            "text/plain": [
              "<Figure size 432x288 with 1 Axes>"
            ]
          },
          "metadata": {
            "tags": [],
            "needs_background": "light"
          }
        }
      ]
    },
    {
      "cell_type": "code",
      "metadata": {
        "colab": {
          "base_uri": "https://localhost:8080/"
        },
        "id": "gKkATLKTNzKP",
        "outputId": "ba5d50c2-2f03-4714-d7ea-449d99a3d31d"
      },
      "source": [
        "# 네트워크 구성\n",
        "\n",
        "x_train_1d = x_train.reshape(-1, 784)\n",
        "print(x_train_1d.shape)\n",
        "\n",
        "model = Sequential([\n",
        "    Dense(128, input_shape=(784,)),   #  70% - 150% (2^ 사용)\n",
        "    Activation('relu'),\n",
        "\n",
        "    Dense(64),   #  70% - 150% (2^ 사용)\n",
        "    Activation('relu'),\n",
        "\n",
        "    Dense(10),\n",
        "    Activation('softmax'),\n",
        "])\n",
        "\n",
        "model.summary()\n",
        "\n",
        "model.compile(loss='sparse_categorical_crossentropy', optimizer=\"adam\", metrics=[\"accuracy\"])\n",
        "model.fit(x_train_1d, y_train, epochs=2)"
      ],
      "execution_count": null,
      "outputs": [
        {
          "output_type": "stream",
          "text": [
            "(60000, 784)\n",
            "Model: \"sequential_45\"\n",
            "_________________________________________________________________\n",
            "Layer (type)                 Output Shape              Param #   \n",
            "=================================================================\n",
            "dense_396 (Dense)            (None, 128)               100480    \n",
            "_________________________________________________________________\n",
            "activation_13 (Activation)   (None, 128)               0         \n",
            "_________________________________________________________________\n",
            "dense_397 (Dense)            (None, 64)                8256      \n",
            "_________________________________________________________________\n",
            "activation_14 (Activation)   (None, 64)                0         \n",
            "_________________________________________________________________\n",
            "dense_398 (Dense)            (None, 10)                650       \n",
            "_________________________________________________________________\n",
            "activation_15 (Activation)   (None, 10)                0         \n",
            "=================================================================\n",
            "Total params: 109,386\n",
            "Trainable params: 109,386\n",
            "Non-trainable params: 0\n",
            "_________________________________________________________________\n",
            "Epoch 1/2\n",
            "1875/1875 [==============================] - 5s 2ms/step - loss: 5.6806 - accuracy: 0.6936\n",
            "Epoch 2/2\n",
            "1875/1875 [==============================] - 5s 2ms/step - loss: 0.5561 - accuracy: 0.8114\n"
          ],
          "name": "stdout"
        },
        {
          "output_type": "execute_result",
          "data": {
            "text/plain": [
              "<keras.callbacks.History at 0x7f53cc35db50>"
            ]
          },
          "metadata": {
            "tags": []
          },
          "execution_count": 70
        }
      ]
    },
    {
      "cell_type": "code",
      "metadata": {
        "colab": {
          "base_uri": "https://localhost:8080/"
        },
        "id": "8TeZEHqeSzAQ",
        "outputId": "f6e0d5b1-2602-49d6-d8ca-e15bedb0e900"
      },
      "source": [
        "#Flatten 레이어 사용하기\n",
        "#a = np.array([[[1,2], [3,4]]])\n",
        "#print(a.shape)\n",
        "#a.flatten()\n",
        "\n",
        "model = Sequential([\n",
        "\n",
        "    Flatten(input_shape=(28, 28)),  \n",
        "\n",
        "    Dense(128, kernel_initializer='he_normal'), \n",
        "    Activation('relu'),\n",
        "\n",
        "    Dense(64, kernel_initializer='he_normal'),  \n",
        "    Activation('relu'),\n",
        "\n",
        "    Dense(10, kernel_initializer='he_normal'),\n",
        "    Activation('softmax'),\n",
        "])\n",
        "\n",
        "model.summary()\n",
        "\n",
        "model.compile(loss='sparse_categorical_crossentropy', optimizer=\"adam\", metrics=[\"accuracy\"])\n"
      ],
      "execution_count": null,
      "outputs": [
        {
          "output_type": "stream",
          "text": [
            "Model: \"sequential_48\"\n",
            "_________________________________________________________________\n",
            "Layer (type)                 Output Shape              Param #   \n",
            "=================================================================\n",
            "flatten_2 (Flatten)          (None, 784)               0         \n",
            "_________________________________________________________________\n",
            "dense_405 (Dense)            (None, 128)               100480    \n",
            "_________________________________________________________________\n",
            "activation_22 (Activation)   (None, 128)               0         \n",
            "_________________________________________________________________\n",
            "dense_406 (Dense)            (None, 64)                8256      \n",
            "_________________________________________________________________\n",
            "activation_23 (Activation)   (None, 64)                0         \n",
            "_________________________________________________________________\n",
            "dense_407 (Dense)            (None, 10)                650       \n",
            "_________________________________________________________________\n",
            "activation_24 (Activation)   (None, 10)                0         \n",
            "=================================================================\n",
            "Total params: 109,386\n",
            "Trainable params: 109,386\n",
            "Non-trainable params: 0\n",
            "_________________________________________________________________\n"
          ],
          "name": "stdout"
        }
      ]
    },
    {
      "cell_type": "code",
      "metadata": {
        "colab": {
          "base_uri": "https://localhost:8080/",
          "height": 1000
        },
        "id": "zIF6zLyJUSJ1",
        "outputId": "73bbc651-50e9-4c6a-9b6d-5724c88c00c7"
      },
      "source": [
        "%%time\n",
        "hist = model.fit(x_train, y_train, epochs=70)"
      ],
      "execution_count": null,
      "outputs": [
        {
          "output_type": "stream",
          "text": [
            "Epoch 1/70\n",
            "1875/1875 [==============================] - 5s 2ms/step - loss: 8.6683 - accuracy: 0.6563\n",
            "Epoch 2/70\n",
            "1875/1875 [==============================] - 4s 2ms/step - loss: 0.6908 - accuracy: 0.7450\n",
            "Epoch 3/70\n",
            "1875/1875 [==============================] - 4s 2ms/step - loss: 0.5768 - accuracy: 0.7819\n",
            "Epoch 4/70\n",
            "1875/1875 [==============================] - 4s 2ms/step - loss: 0.5331 - accuracy: 0.8012\n",
            "Epoch 5/70\n",
            "1875/1875 [==============================] - 4s 2ms/step - loss: 0.5070 - accuracy: 0.8196\n",
            "Epoch 6/70\n",
            "1875/1875 [==============================] - 4s 2ms/step - loss: 0.4690 - accuracy: 0.8377\n",
            "Epoch 7/70\n",
            "1875/1875 [==============================] - 4s 2ms/step - loss: 0.4212 - accuracy: 0.8538\n",
            "Epoch 8/70\n",
            "1875/1875 [==============================] - 4s 2ms/step - loss: 0.3934 - accuracy: 0.8610\n",
            "Epoch 9/70\n",
            "1875/1875 [==============================] - 4s 2ms/step - loss: 0.4022 - accuracy: 0.8588\n",
            "Epoch 10/70\n",
            "1875/1875 [==============================] - 4s 2ms/step - loss: 0.3651 - accuracy: 0.8699\n",
            "Epoch 11/70\n",
            "1875/1875 [==============================] - 4s 2ms/step - loss: 0.3634 - accuracy: 0.8713\n",
            "Epoch 12/70\n",
            "1875/1875 [==============================] - 4s 2ms/step - loss: 0.3594 - accuracy: 0.8732\n",
            "Epoch 13/70\n",
            "1875/1875 [==============================] - 4s 2ms/step - loss: 0.3464 - accuracy: 0.8764\n",
            "Epoch 14/70\n",
            "1875/1875 [==============================] - 4s 2ms/step - loss: 0.3456 - accuracy: 0.8784\n",
            "Epoch 15/70\n",
            "1875/1875 [==============================] - 4s 2ms/step - loss: 0.3372 - accuracy: 0.8819\n",
            "Epoch 16/70\n",
            "1875/1875 [==============================] - 4s 2ms/step - loss: 0.3363 - accuracy: 0.8787\n",
            "Epoch 17/70\n",
            "1875/1875 [==============================] - 4s 2ms/step - loss: 0.3255 - accuracy: 0.8821\n",
            "Epoch 18/70\n",
            "1875/1875 [==============================] - 4s 2ms/step - loss: 0.3386 - accuracy: 0.8808\n",
            "Epoch 19/70\n",
            "1875/1875 [==============================] - 4s 2ms/step - loss: 0.3129 - accuracy: 0.8857\n",
            "Epoch 20/70\n",
            "1875/1875 [==============================] - 4s 2ms/step - loss: 0.3124 - accuracy: 0.8880\n",
            "Epoch 21/70\n",
            "1875/1875 [==============================] - 4s 2ms/step - loss: 0.3136 - accuracy: 0.8885\n",
            "Epoch 22/70\n",
            "1875/1875 [==============================] - 4s 2ms/step - loss: 0.3036 - accuracy: 0.8918\n",
            "Epoch 23/70\n",
            "1875/1875 [==============================] - 4s 2ms/step - loss: 0.3152 - accuracy: 0.8858\n",
            "Epoch 24/70\n",
            "1875/1875 [==============================] - 4s 2ms/step - loss: 0.2968 - accuracy: 0.8915\n",
            "Epoch 25/70\n",
            "1875/1875 [==============================] - 4s 2ms/step - loss: 0.3160 - accuracy: 0.8898\n",
            "Epoch 26/70\n",
            "1875/1875 [==============================] - 4s 2ms/step - loss: 0.2985 - accuracy: 0.8926\n",
            "Epoch 27/70\n",
            "1875/1875 [==============================] - 4s 2ms/step - loss: 0.3044 - accuracy: 0.8905\n",
            "Epoch 28/70\n",
            "1875/1875 [==============================] - 4s 2ms/step - loss: 0.3047 - accuracy: 0.8912\n",
            "Epoch 29/70\n",
            "1875/1875 [==============================] - 4s 2ms/step - loss: 0.2904 - accuracy: 0.8952\n",
            "Epoch 30/70\n",
            "1875/1875 [==============================] - 4s 2ms/step - loss: 0.2956 - accuracy: 0.8934\n",
            "Epoch 31/70\n",
            "1875/1875 [==============================] - 4s 2ms/step - loss: 0.2918 - accuracy: 0.8947\n",
            "Epoch 32/70\n",
            "1875/1875 [==============================] - 4s 2ms/step - loss: 0.2952 - accuracy: 0.8951\n",
            "Epoch 33/70\n",
            "1875/1875 [==============================] - 4s 2ms/step - loss: 0.3005 - accuracy: 0.8963\n",
            "Epoch 34/70\n",
            "1875/1875 [==============================] - 4s 2ms/step - loss: 0.2828 - accuracy: 0.8964\n",
            "Epoch 35/70\n",
            "1875/1875 [==============================] - 4s 2ms/step - loss: 0.2697 - accuracy: 0.9022\n",
            "Epoch 36/70\n",
            "1875/1875 [==============================] - 4s 2ms/step - loss: 0.2757 - accuracy: 0.9004\n",
            "Epoch 37/70\n",
            "1875/1875 [==============================] - 4s 2ms/step - loss: 0.2784 - accuracy: 0.9004\n",
            "Epoch 38/70\n",
            "1875/1875 [==============================] - 4s 2ms/step - loss: 0.2823 - accuracy: 0.8994\n",
            "Epoch 39/70\n",
            "1875/1875 [==============================] - 4s 2ms/step - loss: 0.2740 - accuracy: 0.9035\n",
            "Epoch 40/70\n",
            "1875/1875 [==============================] - 4s 2ms/step - loss: 0.2641 - accuracy: 0.9031\n",
            "Epoch 41/70\n",
            "1875/1875 [==============================] - 4s 2ms/step - loss: 0.2656 - accuracy: 0.9036\n",
            "Epoch 42/70\n",
            "1875/1875 [==============================] - 4s 2ms/step - loss: 0.2706 - accuracy: 0.9041\n",
            "Epoch 43/70\n",
            "1875/1875 [==============================] - 4s 2ms/step - loss: 0.2684 - accuracy: 0.9047\n",
            "Epoch 44/70\n",
            "1875/1875 [==============================] - 4s 2ms/step - loss: 0.2754 - accuracy: 0.9026\n",
            "Epoch 45/70\n",
            "1875/1875 [==============================] - 4s 2ms/step - loss: 0.2703 - accuracy: 0.9032\n",
            "Epoch 46/70\n",
            "1875/1875 [==============================] - 4s 2ms/step - loss: 0.2606 - accuracy: 0.9073\n",
            "Epoch 47/70\n",
            "1875/1875 [==============================] - 4s 2ms/step - loss: 0.2576 - accuracy: 0.9076\n",
            "Epoch 48/70\n",
            "1875/1875 [==============================] - 4s 2ms/step - loss: 0.2676 - accuracy: 0.9024\n",
            "Epoch 49/70\n",
            "1875/1875 [==============================] - 4s 2ms/step - loss: 0.2669 - accuracy: 0.9048\n",
            "Epoch 50/70\n",
            "1875/1875 [==============================] - 4s 2ms/step - loss: 0.2803 - accuracy: 0.9018\n",
            "Epoch 51/70\n",
            "1875/1875 [==============================] - 4s 2ms/step - loss: 0.2591 - accuracy: 0.9073\n",
            "Epoch 52/70\n",
            "1875/1875 [==============================] - 4s 2ms/step - loss: 0.2573 - accuracy: 0.9056\n",
            "Epoch 53/70\n",
            "1875/1875 [==============================] - 4s 2ms/step - loss: 0.2632 - accuracy: 0.9050\n",
            "Epoch 54/70\n",
            " 455/1875 [======>.......................] - ETA: 3s - loss: 0.2773 - accuracy: 0.8999"
          ],
          "name": "stdout"
        },
        {
          "output_type": "error",
          "ename": "KeyboardInterrupt",
          "evalue": "ignored",
          "traceback": [
            "\u001b[0;31m---------------------------------------------------------------------------\u001b[0m",
            "\u001b[0;31mKeyboardInterrupt\u001b[0m                         Traceback (most recent call last)",
            "\u001b[0;32m<ipython-input-111-28794cdb50cb>\u001b[0m in \u001b[0;36m<module>\u001b[0;34m()\u001b[0m\n\u001b[0;32m----> 1\u001b[0;31m \u001b[0mget_ipython\u001b[0m\u001b[0;34m(\u001b[0m\u001b[0;34m)\u001b[0m\u001b[0;34m.\u001b[0m\u001b[0mrun_cell_magic\u001b[0m\u001b[0;34m(\u001b[0m\u001b[0;34m'time'\u001b[0m\u001b[0;34m,\u001b[0m \u001b[0;34m''\u001b[0m\u001b[0;34m,\u001b[0m \u001b[0;34m'hist = model.fit(x_train, y_train, epochs=70)'\u001b[0m\u001b[0;34m)\u001b[0m\u001b[0;34m\u001b[0m\u001b[0;34m\u001b[0m\u001b[0m\n\u001b[0m",
            "\u001b[0;32m/usr/local/lib/python3.7/dist-packages/IPython/core/interactiveshell.py\u001b[0m in \u001b[0;36mrun_cell_magic\u001b[0;34m(self, magic_name, line, cell)\u001b[0m\n\u001b[1;32m   2115\u001b[0m             \u001b[0mmagic_arg_s\u001b[0m \u001b[0;34m=\u001b[0m \u001b[0mself\u001b[0m\u001b[0;34m.\u001b[0m\u001b[0mvar_expand\u001b[0m\u001b[0;34m(\u001b[0m\u001b[0mline\u001b[0m\u001b[0;34m,\u001b[0m \u001b[0mstack_depth\u001b[0m\u001b[0;34m)\u001b[0m\u001b[0;34m\u001b[0m\u001b[0;34m\u001b[0m\u001b[0m\n\u001b[1;32m   2116\u001b[0m             \u001b[0;32mwith\u001b[0m \u001b[0mself\u001b[0m\u001b[0;34m.\u001b[0m\u001b[0mbuiltin_trap\u001b[0m\u001b[0;34m:\u001b[0m\u001b[0;34m\u001b[0m\u001b[0;34m\u001b[0m\u001b[0m\n\u001b[0;32m-> 2117\u001b[0;31m                 \u001b[0mresult\u001b[0m \u001b[0;34m=\u001b[0m \u001b[0mfn\u001b[0m\u001b[0;34m(\u001b[0m\u001b[0mmagic_arg_s\u001b[0m\u001b[0;34m,\u001b[0m \u001b[0mcell\u001b[0m\u001b[0;34m)\u001b[0m\u001b[0;34m\u001b[0m\u001b[0;34m\u001b[0m\u001b[0m\n\u001b[0m\u001b[1;32m   2118\u001b[0m             \u001b[0;32mreturn\u001b[0m \u001b[0mresult\u001b[0m\u001b[0;34m\u001b[0m\u001b[0;34m\u001b[0m\u001b[0m\n\u001b[1;32m   2119\u001b[0m \u001b[0;34m\u001b[0m\u001b[0m\n",
            "\u001b[0;32m<decorator-gen-53>\u001b[0m in \u001b[0;36mtime\u001b[0;34m(self, line, cell, local_ns)\u001b[0m\n",
            "\u001b[0;32m/usr/local/lib/python3.7/dist-packages/IPython/core/magic.py\u001b[0m in \u001b[0;36m<lambda>\u001b[0;34m(f, *a, **k)\u001b[0m\n\u001b[1;32m    186\u001b[0m     \u001b[0;31m# but it's overkill for just that one bit of state.\u001b[0m\u001b[0;34m\u001b[0m\u001b[0;34m\u001b[0m\u001b[0;34m\u001b[0m\u001b[0m\n\u001b[1;32m    187\u001b[0m     \u001b[0;32mdef\u001b[0m \u001b[0mmagic_deco\u001b[0m\u001b[0;34m(\u001b[0m\u001b[0marg\u001b[0m\u001b[0;34m)\u001b[0m\u001b[0;34m:\u001b[0m\u001b[0;34m\u001b[0m\u001b[0;34m\u001b[0m\u001b[0m\n\u001b[0;32m--> 188\u001b[0;31m         \u001b[0mcall\u001b[0m \u001b[0;34m=\u001b[0m \u001b[0;32mlambda\u001b[0m \u001b[0mf\u001b[0m\u001b[0;34m,\u001b[0m \u001b[0;34m*\u001b[0m\u001b[0ma\u001b[0m\u001b[0;34m,\u001b[0m \u001b[0;34m**\u001b[0m\u001b[0mk\u001b[0m\u001b[0;34m:\u001b[0m \u001b[0mf\u001b[0m\u001b[0;34m(\u001b[0m\u001b[0;34m*\u001b[0m\u001b[0ma\u001b[0m\u001b[0;34m,\u001b[0m \u001b[0;34m**\u001b[0m\u001b[0mk\u001b[0m\u001b[0;34m)\u001b[0m\u001b[0;34m\u001b[0m\u001b[0;34m\u001b[0m\u001b[0m\n\u001b[0m\u001b[1;32m    189\u001b[0m \u001b[0;34m\u001b[0m\u001b[0m\n\u001b[1;32m    190\u001b[0m         \u001b[0;32mif\u001b[0m \u001b[0mcallable\u001b[0m\u001b[0;34m(\u001b[0m\u001b[0marg\u001b[0m\u001b[0;34m)\u001b[0m\u001b[0;34m:\u001b[0m\u001b[0;34m\u001b[0m\u001b[0;34m\u001b[0m\u001b[0m\n",
            "\u001b[0;32m/usr/local/lib/python3.7/dist-packages/IPython/core/magics/execution.py\u001b[0m in \u001b[0;36mtime\u001b[0;34m(self, line, cell, local_ns)\u001b[0m\n\u001b[1;32m   1191\u001b[0m         \u001b[0;32melse\u001b[0m\u001b[0;34m:\u001b[0m\u001b[0;34m\u001b[0m\u001b[0;34m\u001b[0m\u001b[0m\n\u001b[1;32m   1192\u001b[0m             \u001b[0mst\u001b[0m \u001b[0;34m=\u001b[0m \u001b[0mclock2\u001b[0m\u001b[0;34m(\u001b[0m\u001b[0;34m)\u001b[0m\u001b[0;34m\u001b[0m\u001b[0;34m\u001b[0m\u001b[0m\n\u001b[0;32m-> 1193\u001b[0;31m             \u001b[0mexec\u001b[0m\u001b[0;34m(\u001b[0m\u001b[0mcode\u001b[0m\u001b[0;34m,\u001b[0m \u001b[0mglob\u001b[0m\u001b[0;34m,\u001b[0m \u001b[0mlocal_ns\u001b[0m\u001b[0;34m)\u001b[0m\u001b[0;34m\u001b[0m\u001b[0;34m\u001b[0m\u001b[0m\n\u001b[0m\u001b[1;32m   1194\u001b[0m             \u001b[0mend\u001b[0m \u001b[0;34m=\u001b[0m \u001b[0mclock2\u001b[0m\u001b[0;34m(\u001b[0m\u001b[0;34m)\u001b[0m\u001b[0;34m\u001b[0m\u001b[0;34m\u001b[0m\u001b[0m\n\u001b[1;32m   1195\u001b[0m             \u001b[0mout\u001b[0m \u001b[0;34m=\u001b[0m \u001b[0;32mNone\u001b[0m\u001b[0;34m\u001b[0m\u001b[0;34m\u001b[0m\u001b[0m\n",
            "\u001b[0;32m<timed exec>\u001b[0m in \u001b[0;36m<module>\u001b[0;34m()\u001b[0m\n",
            "\u001b[0;32m/usr/local/lib/python3.7/dist-packages/keras/engine/training.py\u001b[0m in \u001b[0;36mfit\u001b[0;34m(self, x, y, batch_size, epochs, verbose, callbacks, validation_split, validation_data, shuffle, class_weight, sample_weight, initial_epoch, steps_per_epoch, validation_steps, validation_batch_size, validation_freq, max_queue_size, workers, use_multiprocessing)\u001b[0m\n\u001b[1;32m   1156\u001b[0m                 _r=1):\n\u001b[1;32m   1157\u001b[0m               \u001b[0mcallbacks\u001b[0m\u001b[0;34m.\u001b[0m\u001b[0mon_train_batch_begin\u001b[0m\u001b[0;34m(\u001b[0m\u001b[0mstep\u001b[0m\u001b[0;34m)\u001b[0m\u001b[0;34m\u001b[0m\u001b[0;34m\u001b[0m\u001b[0m\n\u001b[0;32m-> 1158\u001b[0;31m               \u001b[0mtmp_logs\u001b[0m \u001b[0;34m=\u001b[0m \u001b[0mself\u001b[0m\u001b[0;34m.\u001b[0m\u001b[0mtrain_function\u001b[0m\u001b[0;34m(\u001b[0m\u001b[0miterator\u001b[0m\u001b[0;34m)\u001b[0m\u001b[0;34m\u001b[0m\u001b[0;34m\u001b[0m\u001b[0m\n\u001b[0m\u001b[1;32m   1159\u001b[0m               \u001b[0;32mif\u001b[0m \u001b[0mdata_handler\u001b[0m\u001b[0;34m.\u001b[0m\u001b[0mshould_sync\u001b[0m\u001b[0;34m:\u001b[0m\u001b[0;34m\u001b[0m\u001b[0;34m\u001b[0m\u001b[0m\n\u001b[1;32m   1160\u001b[0m                 \u001b[0mcontext\u001b[0m\u001b[0;34m.\u001b[0m\u001b[0masync_wait\u001b[0m\u001b[0;34m(\u001b[0m\u001b[0;34m)\u001b[0m\u001b[0;34m\u001b[0m\u001b[0;34m\u001b[0m\u001b[0m\n",
            "\u001b[0;32m/usr/local/lib/python3.7/dist-packages/tensorflow/python/eager/def_function.py\u001b[0m in \u001b[0;36m__call__\u001b[0;34m(self, *args, **kwds)\u001b[0m\n\u001b[1;32m    887\u001b[0m \u001b[0;34m\u001b[0m\u001b[0m\n\u001b[1;32m    888\u001b[0m       \u001b[0;32mwith\u001b[0m \u001b[0mOptionalXlaContext\u001b[0m\u001b[0;34m(\u001b[0m\u001b[0mself\u001b[0m\u001b[0;34m.\u001b[0m\u001b[0m_jit_compile\u001b[0m\u001b[0;34m)\u001b[0m\u001b[0;34m:\u001b[0m\u001b[0;34m\u001b[0m\u001b[0;34m\u001b[0m\u001b[0m\n\u001b[0;32m--> 889\u001b[0;31m         \u001b[0mresult\u001b[0m \u001b[0;34m=\u001b[0m \u001b[0mself\u001b[0m\u001b[0;34m.\u001b[0m\u001b[0m_call\u001b[0m\u001b[0;34m(\u001b[0m\u001b[0;34m*\u001b[0m\u001b[0margs\u001b[0m\u001b[0;34m,\u001b[0m \u001b[0;34m**\u001b[0m\u001b[0mkwds\u001b[0m\u001b[0;34m)\u001b[0m\u001b[0;34m\u001b[0m\u001b[0;34m\u001b[0m\u001b[0m\n\u001b[0m\u001b[1;32m    890\u001b[0m \u001b[0;34m\u001b[0m\u001b[0m\n\u001b[1;32m    891\u001b[0m       \u001b[0mnew_tracing_count\u001b[0m \u001b[0;34m=\u001b[0m \u001b[0mself\u001b[0m\u001b[0;34m.\u001b[0m\u001b[0mexperimental_get_tracing_count\u001b[0m\u001b[0;34m(\u001b[0m\u001b[0;34m)\u001b[0m\u001b[0;34m\u001b[0m\u001b[0;34m\u001b[0m\u001b[0m\n",
            "\u001b[0;32m/usr/local/lib/python3.7/dist-packages/tensorflow/python/eager/def_function.py\u001b[0m in \u001b[0;36m_call\u001b[0;34m(self, *args, **kwds)\u001b[0m\n\u001b[1;32m    915\u001b[0m       \u001b[0;31m# In this case we have created variables on the first call, so we run the\u001b[0m\u001b[0;34m\u001b[0m\u001b[0;34m\u001b[0m\u001b[0;34m\u001b[0m\u001b[0m\n\u001b[1;32m    916\u001b[0m       \u001b[0;31m# defunned version which is guaranteed to never create variables.\u001b[0m\u001b[0;34m\u001b[0m\u001b[0;34m\u001b[0m\u001b[0;34m\u001b[0m\u001b[0m\n\u001b[0;32m--> 917\u001b[0;31m       \u001b[0;32mreturn\u001b[0m \u001b[0mself\u001b[0m\u001b[0;34m.\u001b[0m\u001b[0m_stateless_fn\u001b[0m\u001b[0;34m(\u001b[0m\u001b[0;34m*\u001b[0m\u001b[0margs\u001b[0m\u001b[0;34m,\u001b[0m \u001b[0;34m**\u001b[0m\u001b[0mkwds\u001b[0m\u001b[0;34m)\u001b[0m  \u001b[0;31m# pylint: disable=not-callable\u001b[0m\u001b[0;34m\u001b[0m\u001b[0;34m\u001b[0m\u001b[0m\n\u001b[0m\u001b[1;32m    918\u001b[0m     \u001b[0;32melif\u001b[0m \u001b[0mself\u001b[0m\u001b[0;34m.\u001b[0m\u001b[0m_stateful_fn\u001b[0m \u001b[0;32mis\u001b[0m \u001b[0;32mnot\u001b[0m \u001b[0;32mNone\u001b[0m\u001b[0;34m:\u001b[0m\u001b[0;34m\u001b[0m\u001b[0;34m\u001b[0m\u001b[0m\n\u001b[1;32m    919\u001b[0m       \u001b[0;31m# Release the lock early so that multiple threads can perform the call\u001b[0m\u001b[0;34m\u001b[0m\u001b[0;34m\u001b[0m\u001b[0;34m\u001b[0m\u001b[0m\n",
            "\u001b[0;32m/usr/local/lib/python3.7/dist-packages/tensorflow/python/eager/function.py\u001b[0m in \u001b[0;36m__call__\u001b[0;34m(self, *args, **kwargs)\u001b[0m\n\u001b[1;32m   3022\u001b[0m        filtered_flat_args) = self._maybe_define_function(args, kwargs)\n\u001b[1;32m   3023\u001b[0m     return graph_function._call_flat(\n\u001b[0;32m-> 3024\u001b[0;31m         filtered_flat_args, captured_inputs=graph_function.captured_inputs)  # pylint: disable=protected-access\n\u001b[0m\u001b[1;32m   3025\u001b[0m \u001b[0;34m\u001b[0m\u001b[0m\n\u001b[1;32m   3026\u001b[0m   \u001b[0;34m@\u001b[0m\u001b[0mproperty\u001b[0m\u001b[0;34m\u001b[0m\u001b[0;34m\u001b[0m\u001b[0m\n",
            "\u001b[0;32m/usr/local/lib/python3.7/dist-packages/tensorflow/python/eager/function.py\u001b[0m in \u001b[0;36m_call_flat\u001b[0;34m(self, args, captured_inputs, cancellation_manager)\u001b[0m\n\u001b[1;32m   1959\u001b[0m       \u001b[0;31m# No tape is watching; skip to running the function.\u001b[0m\u001b[0;34m\u001b[0m\u001b[0;34m\u001b[0m\u001b[0;34m\u001b[0m\u001b[0m\n\u001b[1;32m   1960\u001b[0m       return self._build_call_outputs(self._inference_function.call(\n\u001b[0;32m-> 1961\u001b[0;31m           ctx, args, cancellation_manager=cancellation_manager))\n\u001b[0m\u001b[1;32m   1962\u001b[0m     forward_backward = self._select_forward_and_backward_functions(\n\u001b[1;32m   1963\u001b[0m         \u001b[0margs\u001b[0m\u001b[0;34m,\u001b[0m\u001b[0;34m\u001b[0m\u001b[0;34m\u001b[0m\u001b[0m\n",
            "\u001b[0;32m/usr/local/lib/python3.7/dist-packages/tensorflow/python/eager/function.py\u001b[0m in \u001b[0;36mcall\u001b[0;34m(self, ctx, args, cancellation_manager)\u001b[0m\n\u001b[1;32m    594\u001b[0m               \u001b[0minputs\u001b[0m\u001b[0;34m=\u001b[0m\u001b[0margs\u001b[0m\u001b[0;34m,\u001b[0m\u001b[0;34m\u001b[0m\u001b[0;34m\u001b[0m\u001b[0m\n\u001b[1;32m    595\u001b[0m               \u001b[0mattrs\u001b[0m\u001b[0;34m=\u001b[0m\u001b[0mattrs\u001b[0m\u001b[0;34m,\u001b[0m\u001b[0;34m\u001b[0m\u001b[0;34m\u001b[0m\u001b[0m\n\u001b[0;32m--> 596\u001b[0;31m               ctx=ctx)\n\u001b[0m\u001b[1;32m    597\u001b[0m         \u001b[0;32melse\u001b[0m\u001b[0;34m:\u001b[0m\u001b[0;34m\u001b[0m\u001b[0;34m\u001b[0m\u001b[0m\n\u001b[1;32m    598\u001b[0m           outputs = execute.execute_with_cancellation(\n",
            "\u001b[0;32m/usr/local/lib/python3.7/dist-packages/tensorflow/python/eager/execute.py\u001b[0m in \u001b[0;36mquick_execute\u001b[0;34m(op_name, num_outputs, inputs, attrs, ctx, name)\u001b[0m\n\u001b[1;32m     58\u001b[0m     \u001b[0mctx\u001b[0m\u001b[0;34m.\u001b[0m\u001b[0mensure_initialized\u001b[0m\u001b[0;34m(\u001b[0m\u001b[0;34m)\u001b[0m\u001b[0;34m\u001b[0m\u001b[0;34m\u001b[0m\u001b[0m\n\u001b[1;32m     59\u001b[0m     tensors = pywrap_tfe.TFE_Py_Execute(ctx._handle, device_name, op_name,\n\u001b[0;32m---> 60\u001b[0;31m                                         inputs, attrs, num_outputs)\n\u001b[0m\u001b[1;32m     61\u001b[0m   \u001b[0;32mexcept\u001b[0m \u001b[0mcore\u001b[0m\u001b[0;34m.\u001b[0m\u001b[0m_NotOkStatusException\u001b[0m \u001b[0;32mas\u001b[0m \u001b[0me\u001b[0m\u001b[0;34m:\u001b[0m\u001b[0;34m\u001b[0m\u001b[0;34m\u001b[0m\u001b[0m\n\u001b[1;32m     62\u001b[0m     \u001b[0;32mif\u001b[0m \u001b[0mname\u001b[0m \u001b[0;32mis\u001b[0m \u001b[0;32mnot\u001b[0m \u001b[0;32mNone\u001b[0m\u001b[0;34m:\u001b[0m\u001b[0;34m\u001b[0m\u001b[0;34m\u001b[0m\u001b[0m\n",
            "\u001b[0;31mKeyboardInterrupt\u001b[0m: "
          ]
        }
      ]
    },
    {
      "cell_type": "markdown",
      "metadata": {
        "id": "V3tD6v5UYOcP"
      },
      "source": [
        "# 테스트 데이터에 대한 인식률 분석"
      ]
    },
    {
      "cell_type": "code",
      "metadata": {
        "colab": {
          "base_uri": "https://localhost:8080/"
        },
        "id": "XfjkReiKYTip",
        "outputId": "334cf689-8495-45bd-ab6c-73c2b0f1b9ed"
      },
      "source": [
        "loss, accuracy = model.evaluate(x_test, y_test)\n",
        "loss, accuracy"
      ],
      "execution_count": null,
      "outputs": [
        {
          "output_type": "stream",
          "text": [
            "313/313 [==============================] - 1s 1ms/step - loss: 0.7225 - accuracy: 0.8700\n"
          ],
          "name": "stdout"
        },
        {
          "output_type": "execute_result",
          "data": {
            "text/plain": [
              "(0.7225286960601807, 0.8700000047683716)"
            ]
          },
          "metadata": {
            "tags": []
          },
          "execution_count": 82
        }
      ]
    },
    {
      "cell_type": "code",
      "metadata": {
        "colab": {
          "base_uri": "https://localhost:8080/"
        },
        "id": "bcFEBDkvY44-",
        "outputId": "9abd8a25-5f61-4f34-f7cd-831616b1f0db"
      },
      "source": [
        " p = model.predict(x_test)\n",
        " print(p.shape)\n",
        " p[0]\n",
        " y_= np.argmax(p, axis=1)\n",
        " print(y_)\n",
        " print(  np.mean(y_  == y_test))"
      ],
      "execution_count": null,
      "outputs": [
        {
          "output_type": "stream",
          "text": [
            "(10000, 10)\n",
            "[9 2 1 ... 8 1 5]\n",
            "0.87\n"
          ],
          "name": "stdout"
        }
      ]
    },
    {
      "cell_type": "code",
      "metadata": {
        "colab": {
          "base_uri": "https://localhost:8080/",
          "height": 299
        },
        "id": "IKNlzNX9Zu00",
        "outputId": "566fab32-acd1-4d95-f7ae-9a5aafbf4d53"
      },
      "source": [
        "# 첫번째 test 이미지에 대해서 이미지, 예측결과(레이블), 확률값을 그래프로 출력\n",
        "\n",
        "img = x_test[12]\n",
        "\n",
        "p = model.predict(img.reshape(1,28,28))   # 1 28 28 ,       p=1x10\n",
        "y_ = np.argmax(p)\n",
        "\n",
        "plt.imshow(img, cmap='gray')\n",
        "plt.title(class_names[y_] + ' ' + class_names[y_test[12]])"
      ],
      "execution_count": null,
      "outputs": [
        {
          "output_type": "execute_result",
          "data": {
            "text/plain": [
              "Text(0.5, 1.0, 'Sandal Sneaker')"
            ]
          },
          "metadata": {
            "tags": []
          },
          "execution_count": 101
        },
        {
          "output_type": "display_data",
          "data": {
            "image/png": "[encoded data removed]",
            "text/plain": [
              "<Figure size 432x288 with 1 Axes>"
            ]
          },
          "metadata": {
            "tags": [],
            "needs_background": "light"
          }
        }
      ]
    },
    {
      "cell_type": "code",
      "metadata": {
        "colab": {
          "base_uri": "https://localhost:8080/",
          "height": 283
        },
        "id": "AEzKWPNpcsQ7",
        "outputId": "36ef58dd-5bf1-4d0b-e302-30d2facb4bcb"
      },
      "source": [
        "plt.bar(range(0,10), p[0,:])"
      ],
      "execution_count": null,
      "outputs": [
        {
          "output_type": "execute_result",
          "data": {
            "text/plain": [
              "<BarContainer object of 10 artists>"
            ]
          },
          "metadata": {
            "tags": []
          },
          "execution_count": 104
        },
        {
          "output_type": "display_data",
          "data": {
            "image/png": "[encoded data removed]",
            "text/plain": [
              "<Figure size 432x288 with 1 Axes>"
            ]
          },
          "metadata": {
            "tags": [],
            "needs_background": "light"
          }
        }
      ]
    },
    {
      "cell_type": "code",
      "metadata": {
        "colab": {
          "base_uri": "https://localhost:8080/",
          "height": 299
        },
        "id": "rK7EaAdZdIcH",
        "outputId": "886d516f-4aad-4b06-bc86-a7f42772d0cc"
      },
      "source": [
        "idx = 17\n",
        "\n",
        "img = x_test[idx]\n",
        "p = model.predict(img.reshape(1,28,28)) \n",
        "y_ = np.argmax(p)\n",
        "\n",
        "title = f\"predict:{class_names[y_]}   T:{class_names[y_test[idx]]}\"\n",
        "plt.subplot(1,2,1)\n",
        "plt.imshow(img, cmap='gray')\n",
        "plt.subplot(1,2,2)\n",
        "plt.bar(range(0,10), p[0])\n",
        "plt.title(title)"
      ],
      "execution_count": null,
      "outputs": [
        {
          "output_type": "execute_result",
          "data": {
            "text/plain": [
              "Text(0.5, 1.0, 'predict:Pullover   T:Coat')"
            ]
          },
          "metadata": {
            "tags": []
          },
          "execution_count": 114
        },
        {
          "output_type": "display_data",
          "data": {
            "image/png": "[encoded data removed]",
            "text/plain": [
              "<Figure size 432x288 with 2 Axes>"
            ]
          },
          "metadata": {
            "tags": [],
            "needs_background": "light"
          }
        }
      ]
    },
    {
      "cell_type": "code",
      "metadata": {
        "id": "neMTYGGBhRAl"
      },
      "source": [
        ""
      ],
      "execution_count": null,
      "outputs": []
    },
    {
      "cell_type": "code",
      "metadata": {
        "colab": {
          "base_uri": "https://localhost:8080/"
        },
        "id": "LUsWr6mnbZ6c",
        "outputId": "05c6331b-7a44-44f1-dfd4-90627ab61528"
      },
      "source": [
        " p = model.predict(x_test)\n",
        " y_= np.argmax(p, axis=1)\n",
        " o = y_test == y_\n",
        " error = np.where( o == False)\n",
        "\n",
        " print(error, error[0].shape)"
      ],
      "execution_count": null,
      "outputs": [
        {
          "output_type": "stream",
          "text": [
            "(array([  17,   23,   40, ..., 9972, 9989, 9991]),) (1397,)\n"
          ],
          "name": "stdout"
        }
      ]
    },
    {
      "cell_type": "markdown",
      "metadata": {
        "id": "kyqyDPdDfosZ"
      },
      "source": [
        "# confusion matrix"
      ]
    },
    {
      "cell_type": "code",
      "metadata": {
        "colab": {
          "base_uri": "https://localhost:8080/",
          "height": 515
        },
        "id": "yEBkstPqfqxq",
        "outputId": "22cd472e-21f9-40b3-d416-81f4ecea851a"
      },
      "source": [
        "p = model.predict_classes(x_test)\n",
        "cm = confusion_matrix(y_test, p)\n",
        "print(cm)\n",
        "sns.heatmap(cm, annot=True)"
      ],
      "execution_count": null,
      "outputs": [
        {
          "output_type": "stream",
          "text": [
            "/usr/local/lib/python3.7/dist-packages/keras/engine/sequential.py:450: UserWarning: `model.predict_classes()` is deprecated and will be removed after 2021-01-01. Please use instead:* `np.argmax(model.predict(x), axis=-1)`,   if your model does multi-class classification   (e.g. if it uses a `softmax` last-layer activation).* `(model.predict(x) > 0.5).astype(\"int32\")`,   if your model does binary classification   (e.g. if it uses a `sigmoid` last-layer activation).\n",
            "  warnings.warn('`model.predict_classes()` is deprecated and '\n"
          ],
          "name": "stderr"
        },
        {
          "output_type": "stream",
          "text": [
            "[[716   2  20  62   1   1 191   0   7   0]\n",
            " [  0 958   0  30   3   0   8   0   1   0]\n",
            " [  5   0 672  19 150   0 149   0   5   0]\n",
            " [ 12   3   7 917  24   0  36   0   1   0]\n",
            " [  0   0  47  50 761   0 142   0   0   0]\n",
            " [  0   0   0   6   0 961   1  28   2   2]\n",
            " [ 73   0  51  35  44   1 783   0  13   0]\n",
            " [  0   0   0   2   0  17   0 965   5  11]\n",
            " [  0   0   6   7   1   0  22   5 959   0]\n",
            " [  0   0   0   1   0  16   1  69   2 911]]\n"
          ],
          "name": "stdout"
        },
        {
          "output_type": "execute_result",
          "data": {
            "text/plain": [
              "<matplotlib.axes._subplots.AxesSubplot at 0x7f53c9f47c50>"
            ]
          },
          "metadata": {
            "tags": []
          },
          "execution_count": 118
        },
        {
          "output_type": "display_data",
          "data": {
            "image/png": "[encoded data removed]",
            "text/plain": [
              "<Figure size 432x288 with 2 Axes>"
            ]
          },
          "metadata": {
            "tags": [],
            "needs_background": "light"
          }
        }
      ]
    },
    {
      "cell_type": "code",
      "metadata": {
        "colab": {
          "base_uri": "https://localhost:8080/",
          "height": 283
        },
        "id": "q785IEmmgn96",
        "outputId": "a824c9fe-0ec7-4eb2-8bd1-a8552bfa155e"
      },
      "source": [
        "cm_r = cm /  np.sum(cm, axis=1).reshape(-1, 1)       #       Nxm    /   m\n",
        "sns.heatmap(cm_r, annot=True)"
      ],
      "execution_count": null,
      "outputs": [
        {
          "output_type": "execute_result",
          "data": {
            "text/plain": [
              "<matplotlib.axes._subplots.AxesSubplot at 0x7f53c9f7ee10>"
            ]
          },
          "metadata": {
            "tags": []
          },
          "execution_count": 119
        },
        {
          "output_type": "display_data",
          "data": {
            "image/png": "[encoded data removed]",
            "text/plain": [
              "<Figure size 432x288 with 2 Axes>"
            ]
          },
          "metadata": {
            "tags": [],
            "needs_background": "light"
          }
        }
      ]
    },
    {
      "cell_type": "code",
      "metadata": {
        "colab": {
          "base_uri": "https://localhost:8080/"
        },
        "id": "j9383zyshSg-",
        "outputId": "47750c4c-3a87-484f-804d-cf1c4bdcacbc"
      },
      "source": [
        "class_names[1],class_names[5], class_names[7], class_names[8]"
      ],
      "execution_count": null,
      "outputs": [
        {
          "output_type": "execute_result",
          "data": {
            "text/plain": [
              "('Trouser', 'Sandal', 'Sneaker', 'Bag')"
            ]
          },
          "metadata": {
            "tags": []
          },
          "execution_count": 122
        }
      ]
    },
    {
      "cell_type": "code",
      "metadata": {
        "colab": {
          "base_uri": "https://localhost:8080/"
        },
        "id": "Y0bg8XREiDrB",
        "outputId": "6c557d36-e0c9-4113-cd8e-5afe5a6dac92"
      },
      "source": [
        "a= np.array([[1,2,3], \n",
        "             [4,6,8]])\n",
        "\n",
        "m = np.sum(a, axis=1)\n",
        "print(m)\n",
        "\n",
        "a / m.reshape(-1, 1)"
      ],
      "execution_count": null,
      "outputs": [
        {
          "output_type": "stream",
          "text": [
            "[ 6 18]\n"
          ],
          "name": "stdout"
        },
        {
          "output_type": "execute_result",
          "data": {
            "text/plain": [
              "array([[0.16666667, 0.33333333, 0.5       ],\n",
              "       [0.22222222, 0.33333333, 0.44444444]])"
            ]
          },
          "metadata": {
            "tags": []
          },
          "execution_count": 126
        }
      ]
    },
    {
      "cell_type": "markdown",
      "metadata": {
        "id": "yWgnwrL73qUL"
      },
      "source": [
        "# mini-batch "
      ]
    },
    {
      "cell_type": "code",
      "metadata": {
        "colab": {
          "base_uri": "https://localhost:8080/"
        },
        "id": "JCFjeR_u3ukc",
        "outputId": "18f92381-e207-4e7b-ca38-5930668d77d3"
      },
      "source": [
        "model = Sequential([\n",
        "\n",
        "    Flatten(input_shape=(28, 28)),  \n",
        "\n",
        "    Dense(128, kernel_initializer='he_normal'), \n",
        "    Activation('relu'),\n",
        "\n",
        "    Dense(64, kernel_initializer='he_normal'),  \n",
        "    Activation('relu'),\n",
        "\n",
        "    Dense(10, kernel_initializer='he_normal'),\n",
        "    Activation('softmax'),\n",
        "])\n",
        "\n",
        "model.compile(loss='sparse_categorical_crossentropy', optimizer=\"adam\", metrics=[\"accuracy\"])\n",
        "\n",
        "hist = model.fit(x_train, y_train, epochs=5, batch_size=32) \n"
      ],
      "execution_count": null,
      "outputs": [
        {
          "output_type": "stream",
          "text": [
            "Epoch 1/5\n",
            "1875/1875 [==============================] - 5s 2ms/step - loss: 6.1006 - accuracy: 0.6411\n",
            "Epoch 2/5\n",
            "1875/1875 [==============================] - 5s 2ms/step - loss: 0.6537 - accuracy: 0.7597\n",
            "Epoch 3/5\n",
            "1875/1875 [==============================] - 4s 2ms/step - loss: 0.5424 - accuracy: 0.8130\n",
            "Epoch 4/5\n",
            "1875/1875 [==============================] - 4s 2ms/step - loss: 0.4922 - accuracy: 0.8299\n",
            "Epoch 5/5\n",
            "1875/1875 [==============================] - 4s 2ms/step - loss: 0.4744 - accuracy: 0.8363\n"
          ],
          "name": "stdout"
        }
      ]
    },
    {
      "cell_type": "code",
      "metadata": {
        "colab": {
          "base_uri": "https://localhost:8080/"
        },
        "id": "92d1qPHG6obO",
        "outputId": "a3e8c61e-1624-4670-bbc1-ec35ccc74f23"
      },
      "source": [
        "model.evaluate(x_test, y_test, batch_size=32)  # 속도빠르기, 정확도"
      ],
      "execution_count": null,
      "outputs": [
        {
          "output_type": "stream",
          "text": [
            "313/313 [==============================] - 0s 1ms/step - loss: 0.4899 - accuracy: 0.8230\n"
          ],
          "name": "stdout"
        },
        {
          "output_type": "execute_result",
          "data": {
            "text/plain": [
              "[0.4899490177631378, 0.8230000138282776]"
            ]
          },
          "metadata": {
            "tags": []
          },
          "execution_count": 144
        }
      ]
    },
    {
      "cell_type": "code",
      "metadata": {
        "colab": {
          "base_uri": "https://localhost:8080/"
        },
        "id": "qSskyx5S7bKA",
        "outputId": "3c60f512-74a2-4152-906e-eb6a06ae3764"
      },
      "source": [
        "%time\n",
        "model.fit(x_train, y_train, epochs=2, batch_size=32) "
      ],
      "execution_count": null,
      "outputs": [
        {
          "output_type": "stream",
          "text": [
            "CPU times: user 4 µs, sys: 0 ns, total: 4 µs\n",
            "Wall time: 8.11 µs\n",
            "Epoch 1/2\n",
            "1875/1875 [==============================] - 4s 2ms/step - loss: 0.4265 - accuracy: 0.8511\n",
            "Epoch 2/2\n",
            "1875/1875 [==============================] - 4s 2ms/step - loss: 0.4115 - accuracy: 0.8559\n"
          ],
          "name": "stdout"
        },
        {
          "output_type": "execute_result",
          "data": {
            "text/plain": [
              "<keras.callbacks.History at 0x7f53c858dd50>"
            ]
          },
          "metadata": {
            "tags": []
          },
          "execution_count": 145
        }
      ]
    },
    {
      "cell_type": "code",
      "metadata": {
        "colab": {
          "base_uri": "https://localhost:8080/"
        },
        "id": "2rOl10Gm7pYf",
        "outputId": "006c4dfa-5be8-41a4-cdf8-b7f366b96201"
      },
      "source": [
        "%time\n",
        "model.fit(x_train, y_train, epochs=2, batch_size=128) "
      ],
      "execution_count": null,
      "outputs": [
        {
          "output_type": "stream",
          "text": [
            "CPU times: user 5 µs, sys: 0 ns, total: 5 µs\n",
            "Wall time: 10.5 µs\n",
            "Epoch 1/2\n",
            "469/469 [==============================] - 3s 5ms/step - loss: 0.3313 - accuracy: 0.8810\n",
            "Epoch 2/2\n",
            "469/469 [==============================] - 2s 5ms/step - loss: 0.3208 - accuracy: 0.8818\n"
          ],
          "name": "stdout"
        },
        {
          "output_type": "execute_result",
          "data": {
            "text/plain": [
              "<keras.callbacks.History at 0x7f53ca3e6950>"
            ]
          },
          "metadata": {
            "tags": []
          },
          "execution_count": 146
        }
      ]
    },
    {
      "cell_type": "code",
      "metadata": {
        "colab": {
          "base_uri": "https://localhost:8080/"
        },
        "id": "azgrGUEL7yKK",
        "outputId": "6f83f064-8d26-4914-a4b7-62734c860047"
      },
      "source": [
        "%time\n",
        "model.fit(x_train, y_train, epochs=2, batch_size=256)"
      ],
      "execution_count": null,
      "outputs": [
        {
          "output_type": "stream",
          "text": [
            "CPU times: user 4 µs, sys: 0 ns, total: 4 µs\n",
            "Wall time: 11.7 µs\n",
            "Epoch 1/2\n",
            "235/235 [==============================] - 1s 6ms/step - loss: 0.3009 - accuracy: 0.8904\n",
            "Epoch 2/2\n",
            "235/235 [==============================] - 1s 6ms/step - loss: 0.2970 - accuracy: 0.8900\n"
          ],
          "name": "stdout"
        },
        {
          "output_type": "execute_result",
          "data": {
            "text/plain": [
              "<keras.callbacks.History at 0x7f53c5e4ded0>"
            ]
          },
          "metadata": {
            "tags": []
          },
          "execution_count": 147
        }
      ]
    },
    {
      "cell_type": "markdown",
      "metadata": {
        "id": "mcfIjhsSGMOD"
      },
      "source": [
        "# Dropout 적용"
      ]
    },
    {
      "cell_type": "code",
      "metadata": {
        "colab": {
          "base_uri": "https://localhost:8080/"
        },
        "id": "giwAUFs6GPPN",
        "outputId": "069d33e7-d3ff-45a8-9f7b-ecd053daea72"
      },
      "source": [
        "model = Sequential([\n",
        "\n",
        "    Flatten(input_shape=(28, 28)),  \n",
        "\n",
        "    Dense(256, kernel_initializer='he_normal'), \n",
        "    Activation('relu'),\n",
        "    Dropout(0.3),\n",
        "\n",
        "    Dense(256, kernel_initializer='he_normal'), \n",
        "    Activation('relu'),\n",
        "    Dropout(0.3),\n",
        "\n",
        "\n",
        "    Dense(256, kernel_initializer='he_normal'), \n",
        "    Activation('relu'),\n",
        "    Dropout(0.3),\n",
        "\n",
        "\n",
        "    Dense(128, kernel_initializer='he_normal'),  \n",
        "    Activation('relu'),\n",
        "    Dropout(0.3),\n",
        "\n",
        "    Dense(10, kernel_initializer='he_normal'),\n",
        "    Activation('softmax')\n",
        "    \n",
        "])\n",
        "\n",
        "model.compile(loss='sparse_categorical_crossentropy', optimizer=\"adam\", metrics=[\"accuracy\"])\n",
        "\n",
        "model.summary()\n",
        "\n",
        "hist = model.fit(x_train, y_train, epochs=5, batch_size=64) \n"
      ],
      "execution_count": null,
      "outputs": [
        {
          "output_type": "stream",
          "text": [
            "Model: \"sequential_67\"\n",
            "_________________________________________________________________\n",
            "Layer (type)                 Output Shape              Param #   \n",
            "=================================================================\n",
            "flatten_21 (Flatten)         (None, 784)               0         \n",
            "_________________________________________________________________\n",
            "dense_460 (Dense)            (None, 256)               200960    \n",
            "_________________________________________________________________\n",
            "activation_77 (Activation)   (None, 256)               0         \n",
            "_________________________________________________________________\n",
            "dropout_10 (Dropout)         (None, 256)               0         \n",
            "_________________________________________________________________\n",
            "dense_461 (Dense)            (None, 256)               65792     \n",
            "_________________________________________________________________\n",
            "activation_78 (Activation)   (None, 256)               0         \n",
            "_________________________________________________________________\n",
            "dropout_11 (Dropout)         (None, 256)               0         \n",
            "_________________________________________________________________\n",
            "dense_462 (Dense)            (None, 256)               65792     \n",
            "_________________________________________________________________\n",
            "activation_79 (Activation)   (None, 256)               0         \n",
            "_________________________________________________________________\n",
            "dropout_12 (Dropout)         (None, 256)               0         \n",
            "_________________________________________________________________\n",
            "dense_463 (Dense)            (None, 128)               32896     \n",
            "_________________________________________________________________\n",
            "activation_80 (Activation)   (None, 128)               0         \n",
            "_________________________________________________________________\n",
            "dropout_13 (Dropout)         (None, 128)               0         \n",
            "_________________________________________________________________\n",
            "dense_464 (Dense)            (None, 10)                1290      \n",
            "_________________________________________________________________\n",
            "activation_81 (Activation)   (None, 10)                0         \n",
            "=================================================================\n",
            "Total params: 366,730\n",
            "Trainable params: 366,730\n",
            "Non-trainable params: 0\n",
            "_________________________________________________________________\n",
            "Epoch 1/5\n",
            "938/938 [==============================] - 11s 10ms/step - loss: 20.9479 - accuracy: 0.3067\n",
            "Epoch 2/5\n",
            "938/938 [==============================] - 8s 9ms/step - loss: 1.5724 - accuracy: 0.4186\n",
            "Epoch 3/5\n",
            "938/938 [==============================] - 9s 9ms/step - loss: 1.3268 - accuracy: 0.4663\n",
            "Epoch 4/5\n",
            "938/938 [==============================] - 8s 9ms/step - loss: 1.2308 - accuracy: 0.4929\n",
            "Epoch 5/5\n",
            "938/938 [==============================] - 9s 10ms/step - loss: 1.2104 - accuracy: 0.5020\n"
          ],
          "name": "stdout"
        }
      ]
    },
    {
      "cell_type": "code",
      "metadata": {
        "id": "C83RwEvUhzCE",
        "colab": {
          "base_uri": "https://localhost:8080/"
        },
        "outputId": "e11f6e13-ce83-450d-d555-ef95c677d8ab"
      },
      "source": [
        "import tensorflow as tf\n",
        "device_name = tf.test.gpu_device_name()\n",
        "print(device_name)"
      ],
      "execution_count": null,
      "outputs": [
        {
          "output_type": "stream",
          "text": [
            "\n"
          ],
          "name": "stdout"
        }
      ]
    }
  ]
}